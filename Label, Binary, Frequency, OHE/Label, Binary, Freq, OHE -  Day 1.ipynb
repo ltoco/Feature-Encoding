{
 "cells": [
  {
   "cell_type": "markdown",
   "metadata": {
    "colab_type": "text",
    "id": "lwYSUsPeXWIi"
   },
   "source": [
    "# Hey Good Morning Guys,\n",
    "\n",
    "## Here is the assignment part 1 with basic level while go day wise level will increase.\n",
    "\n",
    "### Where in first part we have worked on small dataset to analyze how effective is encoding while building any model & this all dataset our open sourced & from wednesday will increase the level with custom dataset."
   ]
  },
  {
   "cell_type": "markdown",
   "metadata": {
    "colab_type": "text",
    "id": "Tvg6YmLlXWIj"
   },
   "source": [
    "# Before you apply any Encoding Technique,you shoul think like::\n",
    "### 1.)Why Label Encoding?\n",
    "### 2.)When & where to use?\n",
    "### 3.)Limitation of Label Encoding?\n",
    "### 4.)Advantage of Label Encoding?\n",
    "\n",
    "## You should ask from yourself with every topic tha you are applying to make it clear with depth & praactice aat the same time."
   ]
  },
  {
   "cell_type": "code",
   "execution_count": 1,
   "metadata": {
    "colab": {
     "base_uri": "https://localhost:8080/",
     "height": 51
    },
    "colab_type": "code",
    "id": "9xCJn0J1Co8H",
    "outputId": "1f324db6-b87e-4ee2-b992-ce6c294753c6"
   },
   "outputs": [
    {
     "name": "stderr",
     "output_type": "stream",
     "text": [
      "/usr/local/lib/python3.6/dist-packages/statsmodels/tools/_testing.py:19: FutureWarning: pandas.util.testing is deprecated. Use the functions in the public API at pandas.testing instead.\n",
      "  import pandas.util.testing as tm\n"
     ]
    }
   ],
   "source": [
    "#import all the necessary packages\n",
    "import pandas as pd\n",
    "import numpy as np\n",
    "import matplotlib.pyplot as plt\n",
    "import seaborn as sns\n",
    "from sklearn.preprocessing import LabelEncoder\n",
    "import warnings\n",
    "\n",
    "warnings.filterwarnings('ignore')\n",
    "\n",
    "# from google.colab import files\n",
    "# uploaded = files.upload()"
   ]
  },
  {
   "cell_type": "code",
   "execution_count": 2,
   "metadata": {
    "colab": {
     "base_uri": "https://localhost:8080/",
     "height": 275
    },
    "colab_type": "code",
    "id": "PaVEB0dbDIbB",
    "outputId": "7594397f-ffab-42d1-b94c-8a66b8430093"
   },
   "outputs": [
    {
     "data": {
      "text/html": [
       "<div>\n",
       "<style scoped>\n",
       "    .dataframe tbody tr th:only-of-type {\n",
       "        vertical-align: middle;\n",
       "    }\n",
       "\n",
       "    .dataframe tbody tr th {\n",
       "        vertical-align: top;\n",
       "    }\n",
       "\n",
       "    .dataframe thead th {\n",
       "        text-align: right;\n",
       "    }\n",
       "</style>\n",
       "<table border=\"1\" class=\"dataframe\">\n",
       "  <thead>\n",
       "    <tr style=\"text-align: right;\">\n",
       "      <th></th>\n",
       "      <th>symboling</th>\n",
       "      <th>normalized_losses</th>\n",
       "      <th>make</th>\n",
       "      <th>fuel_type</th>\n",
       "      <th>aspiration</th>\n",
       "      <th>num_doors</th>\n",
       "      <th>body_style</th>\n",
       "      <th>drive_wheels</th>\n",
       "      <th>engine_location</th>\n",
       "      <th>wheel_base</th>\n",
       "      <th>length</th>\n",
       "      <th>width</th>\n",
       "      <th>height</th>\n",
       "      <th>curb_weight</th>\n",
       "      <th>engine_type</th>\n",
       "      <th>num_cylinders</th>\n",
       "      <th>engine_size</th>\n",
       "      <th>fuel_system</th>\n",
       "      <th>bore</th>\n",
       "      <th>stroke</th>\n",
       "      <th>compression_ratio</th>\n",
       "      <th>horsepower</th>\n",
       "      <th>peak_rpm</th>\n",
       "      <th>city_mpg</th>\n",
       "      <th>highway_mpg</th>\n",
       "      <th>price</th>\n",
       "    </tr>\n",
       "  </thead>\n",
       "  <tbody>\n",
       "    <tr>\n",
       "      <th>0</th>\n",
       "      <td>3</td>\n",
       "      <td>NaN</td>\n",
       "      <td>alfa-romero</td>\n",
       "      <td>gas</td>\n",
       "      <td>std</td>\n",
       "      <td>two</td>\n",
       "      <td>convertible</td>\n",
       "      <td>rwd</td>\n",
       "      <td>front</td>\n",
       "      <td>88.6</td>\n",
       "      <td>168.8</td>\n",
       "      <td>64.1</td>\n",
       "      <td>48.8</td>\n",
       "      <td>2548</td>\n",
       "      <td>dohc</td>\n",
       "      <td>four</td>\n",
       "      <td>130</td>\n",
       "      <td>mpfi</td>\n",
       "      <td>3.47</td>\n",
       "      <td>2.68</td>\n",
       "      <td>9.0</td>\n",
       "      <td>111.0</td>\n",
       "      <td>5000.0</td>\n",
       "      <td>21</td>\n",
       "      <td>27</td>\n",
       "      <td>13495.0</td>\n",
       "    </tr>\n",
       "    <tr>\n",
       "      <th>1</th>\n",
       "      <td>3</td>\n",
       "      <td>NaN</td>\n",
       "      <td>alfa-romero</td>\n",
       "      <td>gas</td>\n",
       "      <td>std</td>\n",
       "      <td>two</td>\n",
       "      <td>convertible</td>\n",
       "      <td>rwd</td>\n",
       "      <td>front</td>\n",
       "      <td>88.6</td>\n",
       "      <td>168.8</td>\n",
       "      <td>64.1</td>\n",
       "      <td>48.8</td>\n",
       "      <td>2548</td>\n",
       "      <td>dohc</td>\n",
       "      <td>four</td>\n",
       "      <td>130</td>\n",
       "      <td>mpfi</td>\n",
       "      <td>3.47</td>\n",
       "      <td>2.68</td>\n",
       "      <td>9.0</td>\n",
       "      <td>111.0</td>\n",
       "      <td>5000.0</td>\n",
       "      <td>21</td>\n",
       "      <td>27</td>\n",
       "      <td>16500.0</td>\n",
       "    </tr>\n",
       "    <tr>\n",
       "      <th>2</th>\n",
       "      <td>1</td>\n",
       "      <td>NaN</td>\n",
       "      <td>alfa-romero</td>\n",
       "      <td>gas</td>\n",
       "      <td>std</td>\n",
       "      <td>two</td>\n",
       "      <td>hatchback</td>\n",
       "      <td>rwd</td>\n",
       "      <td>front</td>\n",
       "      <td>94.5</td>\n",
       "      <td>171.2</td>\n",
       "      <td>65.5</td>\n",
       "      <td>52.4</td>\n",
       "      <td>2823</td>\n",
       "      <td>ohcv</td>\n",
       "      <td>six</td>\n",
       "      <td>152</td>\n",
       "      <td>mpfi</td>\n",
       "      <td>2.68</td>\n",
       "      <td>3.47</td>\n",
       "      <td>9.0</td>\n",
       "      <td>154.0</td>\n",
       "      <td>5000.0</td>\n",
       "      <td>19</td>\n",
       "      <td>26</td>\n",
       "      <td>16500.0</td>\n",
       "    </tr>\n",
       "    <tr>\n",
       "      <th>3</th>\n",
       "      <td>2</td>\n",
       "      <td>164.0</td>\n",
       "      <td>audi</td>\n",
       "      <td>gas</td>\n",
       "      <td>std</td>\n",
       "      <td>four</td>\n",
       "      <td>sedan</td>\n",
       "      <td>fwd</td>\n",
       "      <td>front</td>\n",
       "      <td>99.8</td>\n",
       "      <td>176.6</td>\n",
       "      <td>66.2</td>\n",
       "      <td>54.3</td>\n",
       "      <td>2337</td>\n",
       "      <td>ohc</td>\n",
       "      <td>four</td>\n",
       "      <td>109</td>\n",
       "      <td>mpfi</td>\n",
       "      <td>3.19</td>\n",
       "      <td>3.40</td>\n",
       "      <td>10.0</td>\n",
       "      <td>102.0</td>\n",
       "      <td>5500.0</td>\n",
       "      <td>24</td>\n",
       "      <td>30</td>\n",
       "      <td>13950.0</td>\n",
       "    </tr>\n",
       "    <tr>\n",
       "      <th>4</th>\n",
       "      <td>2</td>\n",
       "      <td>164.0</td>\n",
       "      <td>audi</td>\n",
       "      <td>gas</td>\n",
       "      <td>std</td>\n",
       "      <td>four</td>\n",
       "      <td>sedan</td>\n",
       "      <td>4wd</td>\n",
       "      <td>front</td>\n",
       "      <td>99.4</td>\n",
       "      <td>176.6</td>\n",
       "      <td>66.4</td>\n",
       "      <td>54.3</td>\n",
       "      <td>2824</td>\n",
       "      <td>ohc</td>\n",
       "      <td>five</td>\n",
       "      <td>136</td>\n",
       "      <td>mpfi</td>\n",
       "      <td>3.19</td>\n",
       "      <td>3.40</td>\n",
       "      <td>8.0</td>\n",
       "      <td>115.0</td>\n",
       "      <td>5500.0</td>\n",
       "      <td>18</td>\n",
       "      <td>22</td>\n",
       "      <td>17450.0</td>\n",
       "    </tr>\n",
       "  </tbody>\n",
       "</table>\n",
       "</div>"
      ],
      "text/plain": [
       "   symboling  normalized_losses         make  ... city_mpg highway_mpg    price\n",
       "0          3                NaN  alfa-romero  ...       21          27  13495.0\n",
       "1          3                NaN  alfa-romero  ...       21          27  16500.0\n",
       "2          1                NaN  alfa-romero  ...       19          26  16500.0\n",
       "3          2              164.0         audi  ...       24          30  13950.0\n",
       "4          2              164.0         audi  ...       18          22  17450.0\n",
       "\n",
       "[5 rows x 26 columns]"
      ]
     },
     "execution_count": 2,
     "metadata": {
      "tags": []
     },
     "output_type": "execute_result"
    }
   ],
   "source": [
    "# Define the headers since the data does not have any\n",
    "headers = [\"symboling\", \"normalized_losses\", \"make\", \"fuel_type\", \"aspiration\",\n",
    "           \"num_doors\", \"body_style\", \"drive_wheels\", \"engine_location\",\n",
    "           \"wheel_base\", \"length\", \"width\", \"height\", \"curb_weight\",\n",
    "           \"engine_type\", \"num_cylinders\", \"engine_size\", \"fuel_system\",\n",
    "           \"bore\", \"stroke\", \"compression_ratio\", \"horsepower\", \"peak_rpm\",\n",
    "           \"city_mpg\", \"highway_mpg\", \"price\"]\n",
    "\n",
    "# Read in the CSV file and convert \"?\" to NaN\n",
    "df = pd.read_csv(\"http://mlr.cs.umass.edu/ml/machine-learning-databases/autos/imports-85.data\",\n",
    "                  header=None, names=headers, na_values=\"?\" )\n",
    "df.head()"
   ]
  },
  {
   "cell_type": "code",
   "execution_count": 3,
   "metadata": {
    "colab": {
     "base_uri": "https://localhost:8080/",
     "height": 578
    },
    "colab_type": "code",
    "id": "f3LurczbDtuS",
    "outputId": "c10aa847-1dcf-46c7-cf4e-cc08f374bb83"
   },
   "outputs": [
    {
     "name": "stdout",
     "output_type": "stream",
     "text": [
      "<class 'pandas.core.frame.DataFrame'>\n",
      "RangeIndex: 205 entries, 0 to 204\n",
      "Data columns (total 26 columns):\n",
      " #   Column             Non-Null Count  Dtype  \n",
      "---  ------             --------------  -----  \n",
      " 0   symboling          205 non-null    int64  \n",
      " 1   normalized_losses  164 non-null    float64\n",
      " 2   make               205 non-null    object \n",
      " 3   fuel_type          205 non-null    object \n",
      " 4   aspiration         205 non-null    object \n",
      " 5   num_doors          203 non-null    object \n",
      " 6   body_style         205 non-null    object \n",
      " 7   drive_wheels       205 non-null    object \n",
      " 8   engine_location    205 non-null    object \n",
      " 9   wheel_base         205 non-null    float64\n",
      " 10  length             205 non-null    float64\n",
      " 11  width              205 non-null    float64\n",
      " 12  height             205 non-null    float64\n",
      " 13  curb_weight        205 non-null    int64  \n",
      " 14  engine_type        205 non-null    object \n",
      " 15  num_cylinders      205 non-null    object \n",
      " 16  engine_size        205 non-null    int64  \n",
      " 17  fuel_system        205 non-null    object \n",
      " 18  bore               201 non-null    float64\n",
      " 19  stroke             201 non-null    float64\n",
      " 20  compression_ratio  205 non-null    float64\n",
      " 21  horsepower         203 non-null    float64\n",
      " 22  peak_rpm           203 non-null    float64\n",
      " 23  city_mpg           205 non-null    int64  \n",
      " 24  highway_mpg        205 non-null    int64  \n",
      " 25  price              201 non-null    float64\n",
      "dtypes: float64(11), int64(5), object(10)\n",
      "memory usage: 41.8+ KB\n"
     ]
    }
   ],
   "source": [
    "df.info() #check info"
   ]
  },
  {
   "cell_type": "code",
   "execution_count": 4,
   "metadata": {
    "colab": {
     "base_uri": "https://localhost:8080/",
     "height": 476
    },
    "colab_type": "code",
    "id": "HMZmkX5kETFu",
    "outputId": "c08a7b88-e669-469e-8037-2c01fed9d581"
   },
   "outputs": [
    {
     "data": {
      "text/plain": [
       "symboling             0\n",
       "normalized_losses    41\n",
       "make                  0\n",
       "fuel_type             0\n",
       "aspiration            0\n",
       "num_doors             2\n",
       "body_style            0\n",
       "drive_wheels          0\n",
       "engine_location       0\n",
       "wheel_base            0\n",
       "length                0\n",
       "width                 0\n",
       "height                0\n",
       "curb_weight           0\n",
       "engine_type           0\n",
       "num_cylinders         0\n",
       "engine_size           0\n",
       "fuel_system           0\n",
       "bore                  4\n",
       "stroke                4\n",
       "compression_ratio     0\n",
       "horsepower            2\n",
       "peak_rpm              2\n",
       "city_mpg              0\n",
       "highway_mpg           0\n",
       "price                 4\n",
       "dtype: int64"
      ]
     },
     "execution_count": 4,
     "metadata": {
      "tags": []
     },
     "output_type": "execute_result"
    }
   ],
   "source": [
    "#check the null value\n",
    "df.isnull().sum()"
   ]
  },
  {
   "cell_type": "code",
   "execution_count": 0,
   "metadata": {
    "colab": {},
    "colab_type": "code",
    "id": "MsxEQYJ9EUPv"
   },
   "outputs": [],
   "source": [
    "new_data = df.dropna(axis=0,how='any') #drop the null  values "
   ]
  },
  {
   "cell_type": "code",
   "execution_count": 6,
   "metadata": {
    "colab": {
     "base_uri": "https://localhost:8080/",
     "height": 476
    },
    "colab_type": "code",
    "id": "HUAVTlQDXWI1",
    "outputId": "8064f6de-21b0-40d9-afed-f84c2715c0dc"
   },
   "outputs": [
    {
     "data": {
      "text/plain": [
       "symboling            0\n",
       "normalized_losses    0\n",
       "make                 0\n",
       "fuel_type            0\n",
       "aspiration           0\n",
       "num_doors            0\n",
       "body_style           0\n",
       "drive_wheels         0\n",
       "engine_location      0\n",
       "wheel_base           0\n",
       "length               0\n",
       "width                0\n",
       "height               0\n",
       "curb_weight          0\n",
       "engine_type          0\n",
       "num_cylinders        0\n",
       "engine_size          0\n",
       "fuel_system          0\n",
       "bore                 0\n",
       "stroke               0\n",
       "compression_ratio    0\n",
       "horsepower           0\n",
       "peak_rpm             0\n",
       "city_mpg             0\n",
       "highway_mpg          0\n",
       "price                0\n",
       "dtype: int64"
      ]
     },
     "execution_count": 6,
     "metadata": {
      "tags": []
     },
     "output_type": "execute_result"
    }
   ],
   "source": [
    "new_data.isnull().sum()"
   ]
  },
  {
   "cell_type": "code",
   "execution_count": 0,
   "metadata": {
    "colab": {},
    "colab_type": "code",
    "id": "-T1DwQKFH_jO"
   },
   "outputs": [],
   "source": [
    "y = new_data['price']   #dependent variables\n",
    "X = new_data.drop('price',axis=1)  #independent variables"
   ]
  },
  {
   "cell_type": "code",
   "execution_count": 8,
   "metadata": {
    "colab": {
     "base_uri": "https://localhost:8080/",
     "height": 34
    },
    "colab_type": "code",
    "id": "aIeYOSp3Ij3u",
    "outputId": "4edd2266-ad9b-487a-c87a-e9d01bead973"
   },
   "outputs": [
    {
     "data": {
      "text/plain": [
       "((159, 25), (159,))"
      ]
     },
     "execution_count": 8,
     "metadata": {
      "tags": []
     },
     "output_type": "execute_result"
    }
   ],
   "source": [
    "X.shape, y.shape  #check the shape of x and y"
   ]
  },
  {
   "cell_type": "code",
   "execution_count": 0,
   "metadata": {
    "colab": {},
    "colab_type": "code",
    "id": "ZuM_DkrJEUZA"
   },
   "outputs": [],
   "source": [
    "#split the data into train and test\n",
    "from sklearn.model_selection import train_test_split\n",
    "X_train,X_test,Y_train,Y_test = train_test_split(X,y,test_size=0.2,random_state=42) "
   ]
  },
  {
   "cell_type": "code",
   "execution_count": 10,
   "metadata": {
    "colab": {
     "base_uri": "https://localhost:8080/",
     "height": 51
    },
    "colab_type": "code",
    "id": "DqaEh-AuH958",
    "outputId": "1603f897-c4a1-4852-f842-007eeb905e99"
   },
   "outputs": [
    {
     "name": "stdout",
     "output_type": "stream",
     "text": [
      "(127, 25) (127,)\n",
      "(32, 25) (32,)\n"
     ]
    }
   ],
   "source": [
    "#check shape of train and test data\n",
    "print(X_train.shape,Y_train.shape)\n",
    "print(X_test.shape,Y_test.shape)"
   ]
  },
  {
   "cell_type": "markdown",
   "metadata": {
    "colab_type": "text",
    "id": "MaFSRaC1Jw4_"
   },
   "source": [
    "# Why do we use encoding technique ?\n",
    "\n",
    "### We use encoding techniques as machine learning models won't take the raw string as input. If we try to run the Linear regression model here without any encoding we will get errors. Let's try to run without encoding and see what result will we get."
   ]
  },
  {
   "cell_type": "code",
   "execution_count": 0,
   "metadata": {
    "colab": {},
    "colab_type": "code",
    "id": "NDYlsyE5JG-i"
   },
   "outputs": [],
   "source": [
    "from sklearn.linear_model import LinearRegression\n",
    "model = LinearRegression()\n",
    "# model.fit(X_train,Y_train)"
   ]
  },
  {
   "cell_type": "markdown",
   "metadata": {
    "colab_type": "text",
    "id": "fGnNDnBfKmXi"
   },
   "source": [
    "## We have got error saying could not convert string to float. So before giving the varibales to the model we have to encode them"
   ]
  },
  {
   "cell_type": "code",
   "execution_count": 12,
   "metadata": {
    "colab": {
     "base_uri": "https://localhost:8080/",
     "height": 204
    },
    "colab_type": "code",
    "id": "XzwXSAdGKiIL",
    "outputId": "a485b8be-0612-4800-bd45-b81c582555cb"
   },
   "outputs": [
    {
     "data": {
      "text/html": [
       "<div>\n",
       "<style scoped>\n",
       "    .dataframe tbody tr th:only-of-type {\n",
       "        vertical-align: middle;\n",
       "    }\n",
       "\n",
       "    .dataframe tbody tr th {\n",
       "        vertical-align: top;\n",
       "    }\n",
       "\n",
       "    .dataframe thead th {\n",
       "        text-align: right;\n",
       "    }\n",
       "</style>\n",
       "<table border=\"1\" class=\"dataframe\">\n",
       "  <thead>\n",
       "    <tr style=\"text-align: right;\">\n",
       "      <th></th>\n",
       "      <th>make</th>\n",
       "      <th>fuel_type</th>\n",
       "      <th>aspiration</th>\n",
       "      <th>num_doors</th>\n",
       "      <th>body_style</th>\n",
       "      <th>drive_wheels</th>\n",
       "      <th>engine_location</th>\n",
       "      <th>engine_type</th>\n",
       "      <th>num_cylinders</th>\n",
       "      <th>fuel_system</th>\n",
       "    </tr>\n",
       "  </thead>\n",
       "  <tbody>\n",
       "    <tr>\n",
       "      <th>3</th>\n",
       "      <td>audi</td>\n",
       "      <td>gas</td>\n",
       "      <td>std</td>\n",
       "      <td>four</td>\n",
       "      <td>sedan</td>\n",
       "      <td>fwd</td>\n",
       "      <td>front</td>\n",
       "      <td>ohc</td>\n",
       "      <td>four</td>\n",
       "      <td>mpfi</td>\n",
       "    </tr>\n",
       "    <tr>\n",
       "      <th>4</th>\n",
       "      <td>audi</td>\n",
       "      <td>gas</td>\n",
       "      <td>std</td>\n",
       "      <td>four</td>\n",
       "      <td>sedan</td>\n",
       "      <td>4wd</td>\n",
       "      <td>front</td>\n",
       "      <td>ohc</td>\n",
       "      <td>five</td>\n",
       "      <td>mpfi</td>\n",
       "    </tr>\n",
       "    <tr>\n",
       "      <th>6</th>\n",
       "      <td>audi</td>\n",
       "      <td>gas</td>\n",
       "      <td>std</td>\n",
       "      <td>four</td>\n",
       "      <td>sedan</td>\n",
       "      <td>fwd</td>\n",
       "      <td>front</td>\n",
       "      <td>ohc</td>\n",
       "      <td>five</td>\n",
       "      <td>mpfi</td>\n",
       "    </tr>\n",
       "    <tr>\n",
       "      <th>8</th>\n",
       "      <td>audi</td>\n",
       "      <td>gas</td>\n",
       "      <td>turbo</td>\n",
       "      <td>four</td>\n",
       "      <td>sedan</td>\n",
       "      <td>fwd</td>\n",
       "      <td>front</td>\n",
       "      <td>ohc</td>\n",
       "      <td>five</td>\n",
       "      <td>mpfi</td>\n",
       "    </tr>\n",
       "    <tr>\n",
       "      <th>10</th>\n",
       "      <td>bmw</td>\n",
       "      <td>gas</td>\n",
       "      <td>std</td>\n",
       "      <td>two</td>\n",
       "      <td>sedan</td>\n",
       "      <td>rwd</td>\n",
       "      <td>front</td>\n",
       "      <td>ohc</td>\n",
       "      <td>four</td>\n",
       "      <td>mpfi</td>\n",
       "    </tr>\n",
       "  </tbody>\n",
       "</table>\n",
       "</div>"
      ],
      "text/plain": [
       "    make fuel_type aspiration  ... engine_type num_cylinders fuel_system\n",
       "3   audi       gas        std  ...         ohc          four        mpfi\n",
       "4   audi       gas        std  ...         ohc          five        mpfi\n",
       "6   audi       gas        std  ...         ohc          five        mpfi\n",
       "8   audi       gas      turbo  ...         ohc          five        mpfi\n",
       "10   bmw       gas        std  ...         ohc          four        mpfi\n",
       "\n",
       "[5 rows x 10 columns]"
      ]
     },
     "execution_count": 12,
     "metadata": {
      "tags": []
     },
     "output_type": "execute_result"
    }
   ],
   "source": [
    "#select all the categorical columns\n",
    "obj_df = new_data.select_dtypes(include=['object']).copy()\n",
    "obj_df.head()"
   ]
  },
  {
   "cell_type": "code",
   "execution_count": 13,
   "metadata": {
    "colab": {
     "base_uri": "https://localhost:8080/",
     "height": 241
    },
    "colab_type": "code",
    "id": "H53qzOwjLqLo",
    "outputId": "fb05e0f6-d422-4ef0-b766-397adabac5e5"
   },
   "outputs": [
    {
     "data": {
      "text/html": [
       "<div>\n",
       "<style scoped>\n",
       "    .dataframe tbody tr th:only-of-type {\n",
       "        vertical-align: middle;\n",
       "    }\n",
       "\n",
       "    .dataframe tbody tr th {\n",
       "        vertical-align: top;\n",
       "    }\n",
       "\n",
       "    .dataframe thead th {\n",
       "        text-align: right;\n",
       "    }\n",
       "</style>\n",
       "<table border=\"1\" class=\"dataframe\">\n",
       "  <thead>\n",
       "    <tr style=\"text-align: right;\">\n",
       "      <th></th>\n",
       "      <th>make_bmw</th>\n",
       "      <th>make_chevrolet</th>\n",
       "      <th>make_dodge</th>\n",
       "      <th>make_honda</th>\n",
       "      <th>make_jaguar</th>\n",
       "      <th>make_mazda</th>\n",
       "      <th>make_mercedes-benz</th>\n",
       "      <th>make_mitsubishi</th>\n",
       "      <th>make_nissan</th>\n",
       "      <th>make_peugot</th>\n",
       "      <th>make_plymouth</th>\n",
       "      <th>make_porsche</th>\n",
       "      <th>make_saab</th>\n",
       "      <th>make_subaru</th>\n",
       "      <th>make_toyota</th>\n",
       "      <th>make_volkswagen</th>\n",
       "      <th>make_volvo</th>\n",
       "      <th>fuel_type_gas</th>\n",
       "      <th>aspiration_turbo</th>\n",
       "      <th>num_doors_two</th>\n",
       "      <th>body_style_hardtop</th>\n",
       "      <th>body_style_hatchback</th>\n",
       "      <th>body_style_sedan</th>\n",
       "      <th>body_style_wagon</th>\n",
       "      <th>drive_wheels_fwd</th>\n",
       "      <th>drive_wheels_rwd</th>\n",
       "      <th>engine_type_l</th>\n",
       "      <th>engine_type_ohc</th>\n",
       "      <th>engine_type_ohcf</th>\n",
       "      <th>engine_type_ohcv</th>\n",
       "      <th>num_cylinders_five</th>\n",
       "      <th>num_cylinders_four</th>\n",
       "      <th>num_cylinders_six</th>\n",
       "      <th>num_cylinders_three</th>\n",
       "      <th>fuel_system_2bbl</th>\n",
       "      <th>fuel_system_idi</th>\n",
       "      <th>fuel_system_mfi</th>\n",
       "      <th>fuel_system_mpfi</th>\n",
       "      <th>fuel_system_spdi</th>\n",
       "    </tr>\n",
       "  </thead>\n",
       "  <tbody>\n",
       "    <tr>\n",
       "      <th>3</th>\n",
       "      <td>0</td>\n",
       "      <td>0</td>\n",
       "      <td>0</td>\n",
       "      <td>0</td>\n",
       "      <td>0</td>\n",
       "      <td>0</td>\n",
       "      <td>0</td>\n",
       "      <td>0</td>\n",
       "      <td>0</td>\n",
       "      <td>0</td>\n",
       "      <td>0</td>\n",
       "      <td>0</td>\n",
       "      <td>0</td>\n",
       "      <td>0</td>\n",
       "      <td>0</td>\n",
       "      <td>0</td>\n",
       "      <td>0</td>\n",
       "      <td>1</td>\n",
       "      <td>0</td>\n",
       "      <td>0</td>\n",
       "      <td>0</td>\n",
       "      <td>0</td>\n",
       "      <td>1</td>\n",
       "      <td>0</td>\n",
       "      <td>1</td>\n",
       "      <td>0</td>\n",
       "      <td>0</td>\n",
       "      <td>1</td>\n",
       "      <td>0</td>\n",
       "      <td>0</td>\n",
       "      <td>0</td>\n",
       "      <td>1</td>\n",
       "      <td>0</td>\n",
       "      <td>0</td>\n",
       "      <td>0</td>\n",
       "      <td>0</td>\n",
       "      <td>0</td>\n",
       "      <td>1</td>\n",
       "      <td>0</td>\n",
       "    </tr>\n",
       "    <tr>\n",
       "      <th>4</th>\n",
       "      <td>0</td>\n",
       "      <td>0</td>\n",
       "      <td>0</td>\n",
       "      <td>0</td>\n",
       "      <td>0</td>\n",
       "      <td>0</td>\n",
       "      <td>0</td>\n",
       "      <td>0</td>\n",
       "      <td>0</td>\n",
       "      <td>0</td>\n",
       "      <td>0</td>\n",
       "      <td>0</td>\n",
       "      <td>0</td>\n",
       "      <td>0</td>\n",
       "      <td>0</td>\n",
       "      <td>0</td>\n",
       "      <td>0</td>\n",
       "      <td>1</td>\n",
       "      <td>0</td>\n",
       "      <td>0</td>\n",
       "      <td>0</td>\n",
       "      <td>0</td>\n",
       "      <td>1</td>\n",
       "      <td>0</td>\n",
       "      <td>0</td>\n",
       "      <td>0</td>\n",
       "      <td>0</td>\n",
       "      <td>1</td>\n",
       "      <td>0</td>\n",
       "      <td>0</td>\n",
       "      <td>1</td>\n",
       "      <td>0</td>\n",
       "      <td>0</td>\n",
       "      <td>0</td>\n",
       "      <td>0</td>\n",
       "      <td>0</td>\n",
       "      <td>0</td>\n",
       "      <td>1</td>\n",
       "      <td>0</td>\n",
       "    </tr>\n",
       "    <tr>\n",
       "      <th>6</th>\n",
       "      <td>0</td>\n",
       "      <td>0</td>\n",
       "      <td>0</td>\n",
       "      <td>0</td>\n",
       "      <td>0</td>\n",
       "      <td>0</td>\n",
       "      <td>0</td>\n",
       "      <td>0</td>\n",
       "      <td>0</td>\n",
       "      <td>0</td>\n",
       "      <td>0</td>\n",
       "      <td>0</td>\n",
       "      <td>0</td>\n",
       "      <td>0</td>\n",
       "      <td>0</td>\n",
       "      <td>0</td>\n",
       "      <td>0</td>\n",
       "      <td>1</td>\n",
       "      <td>0</td>\n",
       "      <td>0</td>\n",
       "      <td>0</td>\n",
       "      <td>0</td>\n",
       "      <td>1</td>\n",
       "      <td>0</td>\n",
       "      <td>1</td>\n",
       "      <td>0</td>\n",
       "      <td>0</td>\n",
       "      <td>1</td>\n",
       "      <td>0</td>\n",
       "      <td>0</td>\n",
       "      <td>1</td>\n",
       "      <td>0</td>\n",
       "      <td>0</td>\n",
       "      <td>0</td>\n",
       "      <td>0</td>\n",
       "      <td>0</td>\n",
       "      <td>0</td>\n",
       "      <td>1</td>\n",
       "      <td>0</td>\n",
       "    </tr>\n",
       "    <tr>\n",
       "      <th>8</th>\n",
       "      <td>0</td>\n",
       "      <td>0</td>\n",
       "      <td>0</td>\n",
       "      <td>0</td>\n",
       "      <td>0</td>\n",
       "      <td>0</td>\n",
       "      <td>0</td>\n",
       "      <td>0</td>\n",
       "      <td>0</td>\n",
       "      <td>0</td>\n",
       "      <td>0</td>\n",
       "      <td>0</td>\n",
       "      <td>0</td>\n",
       "      <td>0</td>\n",
       "      <td>0</td>\n",
       "      <td>0</td>\n",
       "      <td>0</td>\n",
       "      <td>1</td>\n",
       "      <td>1</td>\n",
       "      <td>0</td>\n",
       "      <td>0</td>\n",
       "      <td>0</td>\n",
       "      <td>1</td>\n",
       "      <td>0</td>\n",
       "      <td>1</td>\n",
       "      <td>0</td>\n",
       "      <td>0</td>\n",
       "      <td>1</td>\n",
       "      <td>0</td>\n",
       "      <td>0</td>\n",
       "      <td>1</td>\n",
       "      <td>0</td>\n",
       "      <td>0</td>\n",
       "      <td>0</td>\n",
       "      <td>0</td>\n",
       "      <td>0</td>\n",
       "      <td>0</td>\n",
       "      <td>1</td>\n",
       "      <td>0</td>\n",
       "    </tr>\n",
       "    <tr>\n",
       "      <th>10</th>\n",
       "      <td>1</td>\n",
       "      <td>0</td>\n",
       "      <td>0</td>\n",
       "      <td>0</td>\n",
       "      <td>0</td>\n",
       "      <td>0</td>\n",
       "      <td>0</td>\n",
       "      <td>0</td>\n",
       "      <td>0</td>\n",
       "      <td>0</td>\n",
       "      <td>0</td>\n",
       "      <td>0</td>\n",
       "      <td>0</td>\n",
       "      <td>0</td>\n",
       "      <td>0</td>\n",
       "      <td>0</td>\n",
       "      <td>0</td>\n",
       "      <td>1</td>\n",
       "      <td>0</td>\n",
       "      <td>1</td>\n",
       "      <td>0</td>\n",
       "      <td>0</td>\n",
       "      <td>1</td>\n",
       "      <td>0</td>\n",
       "      <td>0</td>\n",
       "      <td>1</td>\n",
       "      <td>0</td>\n",
       "      <td>1</td>\n",
       "      <td>0</td>\n",
       "      <td>0</td>\n",
       "      <td>0</td>\n",
       "      <td>1</td>\n",
       "      <td>0</td>\n",
       "      <td>0</td>\n",
       "      <td>0</td>\n",
       "      <td>0</td>\n",
       "      <td>0</td>\n",
       "      <td>1</td>\n",
       "      <td>0</td>\n",
       "    </tr>\n",
       "  </tbody>\n",
       "</table>\n",
       "</div>"
      ],
      "text/plain": [
       "    make_bmw  make_chevrolet  ...  fuel_system_mpfi  fuel_system_spdi\n",
       "3          0               0  ...                 1                 0\n",
       "4          0               0  ...                 1                 0\n",
       "6          0               0  ...                 1                 0\n",
       "8          0               0  ...                 1                 0\n",
       "10         1               0  ...                 1                 0\n",
       "\n",
       "[5 rows x 39 columns]"
      ]
     },
     "execution_count": 13,
     "metadata": {
      "tags": []
     },
     "output_type": "execute_result"
    }
   ],
   "source": [
    "#We will use One hot encoding to convert all the categorical features\n",
    "#Here the biggest mistake we are making is just applying one hot encoding blindly without figuring out ordinal & nominal feature.\n",
    "dum = pd.get_dummies(obj_df,drop_first=True)\n",
    "dum.head()"
   ]
  },
  {
   "cell_type": "code",
   "execution_count": 0,
   "metadata": {
    "colab": {},
    "colab_type": "code",
    "id": "XeFiQ3f4PnMZ"
   },
   "outputs": [],
   "source": [
    "#drop the categorical column from new data\n",
    "new_df = new_data.drop(obj_df.columns,axis=1)"
   ]
  },
  {
   "cell_type": "code",
   "execution_count": 15,
   "metadata": {
    "colab": {
     "base_uri": "https://localhost:8080/",
     "height": 241
    },
    "colab_type": "code",
    "id": "P4jc166jOGnm",
    "outputId": "33d0c292-f7a0-4bb6-ce3c-311727837d20"
   },
   "outputs": [
    {
     "data": {
      "text/html": [
       "<div>\n",
       "<style scoped>\n",
       "    .dataframe tbody tr th:only-of-type {\n",
       "        vertical-align: middle;\n",
       "    }\n",
       "\n",
       "    .dataframe tbody tr th {\n",
       "        vertical-align: top;\n",
       "    }\n",
       "\n",
       "    .dataframe thead th {\n",
       "        text-align: right;\n",
       "    }\n",
       "</style>\n",
       "<table border=\"1\" class=\"dataframe\">\n",
       "  <thead>\n",
       "    <tr style=\"text-align: right;\">\n",
       "      <th></th>\n",
       "      <th>symboling</th>\n",
       "      <th>normalized_losses</th>\n",
       "      <th>wheel_base</th>\n",
       "      <th>length</th>\n",
       "      <th>width</th>\n",
       "      <th>height</th>\n",
       "      <th>curb_weight</th>\n",
       "      <th>engine_size</th>\n",
       "      <th>bore</th>\n",
       "      <th>stroke</th>\n",
       "      <th>compression_ratio</th>\n",
       "      <th>horsepower</th>\n",
       "      <th>peak_rpm</th>\n",
       "      <th>city_mpg</th>\n",
       "      <th>highway_mpg</th>\n",
       "      <th>price</th>\n",
       "      <th>make_bmw</th>\n",
       "      <th>make_chevrolet</th>\n",
       "      <th>make_dodge</th>\n",
       "      <th>make_honda</th>\n",
       "      <th>make_jaguar</th>\n",
       "      <th>make_mazda</th>\n",
       "      <th>make_mercedes-benz</th>\n",
       "      <th>make_mitsubishi</th>\n",
       "      <th>make_nissan</th>\n",
       "      <th>make_peugot</th>\n",
       "      <th>make_plymouth</th>\n",
       "      <th>make_porsche</th>\n",
       "      <th>make_saab</th>\n",
       "      <th>make_subaru</th>\n",
       "      <th>make_toyota</th>\n",
       "      <th>make_volkswagen</th>\n",
       "      <th>make_volvo</th>\n",
       "      <th>fuel_type_gas</th>\n",
       "      <th>aspiration_turbo</th>\n",
       "      <th>num_doors_two</th>\n",
       "      <th>body_style_hardtop</th>\n",
       "      <th>body_style_hatchback</th>\n",
       "      <th>body_style_sedan</th>\n",
       "      <th>body_style_wagon</th>\n",
       "      <th>drive_wheels_fwd</th>\n",
       "      <th>drive_wheels_rwd</th>\n",
       "      <th>engine_type_l</th>\n",
       "      <th>engine_type_ohc</th>\n",
       "      <th>engine_type_ohcf</th>\n",
       "      <th>engine_type_ohcv</th>\n",
       "      <th>num_cylinders_five</th>\n",
       "      <th>num_cylinders_four</th>\n",
       "      <th>num_cylinders_six</th>\n",
       "      <th>num_cylinders_three</th>\n",
       "      <th>fuel_system_2bbl</th>\n",
       "      <th>fuel_system_idi</th>\n",
       "      <th>fuel_system_mfi</th>\n",
       "      <th>fuel_system_mpfi</th>\n",
       "      <th>fuel_system_spdi</th>\n",
       "    </tr>\n",
       "  </thead>\n",
       "  <tbody>\n",
       "    <tr>\n",
       "      <th>3</th>\n",
       "      <td>2</td>\n",
       "      <td>164.0</td>\n",
       "      <td>99.8</td>\n",
       "      <td>176.6</td>\n",
       "      <td>66.2</td>\n",
       "      <td>54.3</td>\n",
       "      <td>2337</td>\n",
       "      <td>109</td>\n",
       "      <td>3.19</td>\n",
       "      <td>3.4</td>\n",
       "      <td>10.0</td>\n",
       "      <td>102.0</td>\n",
       "      <td>5500.0</td>\n",
       "      <td>24</td>\n",
       "      <td>30</td>\n",
       "      <td>13950.0</td>\n",
       "      <td>0</td>\n",
       "      <td>0</td>\n",
       "      <td>0</td>\n",
       "      <td>0</td>\n",
       "      <td>0</td>\n",
       "      <td>0</td>\n",
       "      <td>0</td>\n",
       "      <td>0</td>\n",
       "      <td>0</td>\n",
       "      <td>0</td>\n",
       "      <td>0</td>\n",
       "      <td>0</td>\n",
       "      <td>0</td>\n",
       "      <td>0</td>\n",
       "      <td>0</td>\n",
       "      <td>0</td>\n",
       "      <td>0</td>\n",
       "      <td>1</td>\n",
       "      <td>0</td>\n",
       "      <td>0</td>\n",
       "      <td>0</td>\n",
       "      <td>0</td>\n",
       "      <td>1</td>\n",
       "      <td>0</td>\n",
       "      <td>1</td>\n",
       "      <td>0</td>\n",
       "      <td>0</td>\n",
       "      <td>1</td>\n",
       "      <td>0</td>\n",
       "      <td>0</td>\n",
       "      <td>0</td>\n",
       "      <td>1</td>\n",
       "      <td>0</td>\n",
       "      <td>0</td>\n",
       "      <td>0</td>\n",
       "      <td>0</td>\n",
       "      <td>0</td>\n",
       "      <td>1</td>\n",
       "      <td>0</td>\n",
       "    </tr>\n",
       "    <tr>\n",
       "      <th>4</th>\n",
       "      <td>2</td>\n",
       "      <td>164.0</td>\n",
       "      <td>99.4</td>\n",
       "      <td>176.6</td>\n",
       "      <td>66.4</td>\n",
       "      <td>54.3</td>\n",
       "      <td>2824</td>\n",
       "      <td>136</td>\n",
       "      <td>3.19</td>\n",
       "      <td>3.4</td>\n",
       "      <td>8.0</td>\n",
       "      <td>115.0</td>\n",
       "      <td>5500.0</td>\n",
       "      <td>18</td>\n",
       "      <td>22</td>\n",
       "      <td>17450.0</td>\n",
       "      <td>0</td>\n",
       "      <td>0</td>\n",
       "      <td>0</td>\n",
       "      <td>0</td>\n",
       "      <td>0</td>\n",
       "      <td>0</td>\n",
       "      <td>0</td>\n",
       "      <td>0</td>\n",
       "      <td>0</td>\n",
       "      <td>0</td>\n",
       "      <td>0</td>\n",
       "      <td>0</td>\n",
       "      <td>0</td>\n",
       "      <td>0</td>\n",
       "      <td>0</td>\n",
       "      <td>0</td>\n",
       "      <td>0</td>\n",
       "      <td>1</td>\n",
       "      <td>0</td>\n",
       "      <td>0</td>\n",
       "      <td>0</td>\n",
       "      <td>0</td>\n",
       "      <td>1</td>\n",
       "      <td>0</td>\n",
       "      <td>0</td>\n",
       "      <td>0</td>\n",
       "      <td>0</td>\n",
       "      <td>1</td>\n",
       "      <td>0</td>\n",
       "      <td>0</td>\n",
       "      <td>1</td>\n",
       "      <td>0</td>\n",
       "      <td>0</td>\n",
       "      <td>0</td>\n",
       "      <td>0</td>\n",
       "      <td>0</td>\n",
       "      <td>0</td>\n",
       "      <td>1</td>\n",
       "      <td>0</td>\n",
       "    </tr>\n",
       "    <tr>\n",
       "      <th>6</th>\n",
       "      <td>1</td>\n",
       "      <td>158.0</td>\n",
       "      <td>105.8</td>\n",
       "      <td>192.7</td>\n",
       "      <td>71.4</td>\n",
       "      <td>55.7</td>\n",
       "      <td>2844</td>\n",
       "      <td>136</td>\n",
       "      <td>3.19</td>\n",
       "      <td>3.4</td>\n",
       "      <td>8.5</td>\n",
       "      <td>110.0</td>\n",
       "      <td>5500.0</td>\n",
       "      <td>19</td>\n",
       "      <td>25</td>\n",
       "      <td>17710.0</td>\n",
       "      <td>0</td>\n",
       "      <td>0</td>\n",
       "      <td>0</td>\n",
       "      <td>0</td>\n",
       "      <td>0</td>\n",
       "      <td>0</td>\n",
       "      <td>0</td>\n",
       "      <td>0</td>\n",
       "      <td>0</td>\n",
       "      <td>0</td>\n",
       "      <td>0</td>\n",
       "      <td>0</td>\n",
       "      <td>0</td>\n",
       "      <td>0</td>\n",
       "      <td>0</td>\n",
       "      <td>0</td>\n",
       "      <td>0</td>\n",
       "      <td>1</td>\n",
       "      <td>0</td>\n",
       "      <td>0</td>\n",
       "      <td>0</td>\n",
       "      <td>0</td>\n",
       "      <td>1</td>\n",
       "      <td>0</td>\n",
       "      <td>1</td>\n",
       "      <td>0</td>\n",
       "      <td>0</td>\n",
       "      <td>1</td>\n",
       "      <td>0</td>\n",
       "      <td>0</td>\n",
       "      <td>1</td>\n",
       "      <td>0</td>\n",
       "      <td>0</td>\n",
       "      <td>0</td>\n",
       "      <td>0</td>\n",
       "      <td>0</td>\n",
       "      <td>0</td>\n",
       "      <td>1</td>\n",
       "      <td>0</td>\n",
       "    </tr>\n",
       "    <tr>\n",
       "      <th>8</th>\n",
       "      <td>1</td>\n",
       "      <td>158.0</td>\n",
       "      <td>105.8</td>\n",
       "      <td>192.7</td>\n",
       "      <td>71.4</td>\n",
       "      <td>55.9</td>\n",
       "      <td>3086</td>\n",
       "      <td>131</td>\n",
       "      <td>3.13</td>\n",
       "      <td>3.4</td>\n",
       "      <td>8.3</td>\n",
       "      <td>140.0</td>\n",
       "      <td>5500.0</td>\n",
       "      <td>17</td>\n",
       "      <td>20</td>\n",
       "      <td>23875.0</td>\n",
       "      <td>0</td>\n",
       "      <td>0</td>\n",
       "      <td>0</td>\n",
       "      <td>0</td>\n",
       "      <td>0</td>\n",
       "      <td>0</td>\n",
       "      <td>0</td>\n",
       "      <td>0</td>\n",
       "      <td>0</td>\n",
       "      <td>0</td>\n",
       "      <td>0</td>\n",
       "      <td>0</td>\n",
       "      <td>0</td>\n",
       "      <td>0</td>\n",
       "      <td>0</td>\n",
       "      <td>0</td>\n",
       "      <td>0</td>\n",
       "      <td>1</td>\n",
       "      <td>1</td>\n",
       "      <td>0</td>\n",
       "      <td>0</td>\n",
       "      <td>0</td>\n",
       "      <td>1</td>\n",
       "      <td>0</td>\n",
       "      <td>1</td>\n",
       "      <td>0</td>\n",
       "      <td>0</td>\n",
       "      <td>1</td>\n",
       "      <td>0</td>\n",
       "      <td>0</td>\n",
       "      <td>1</td>\n",
       "      <td>0</td>\n",
       "      <td>0</td>\n",
       "      <td>0</td>\n",
       "      <td>0</td>\n",
       "      <td>0</td>\n",
       "      <td>0</td>\n",
       "      <td>1</td>\n",
       "      <td>0</td>\n",
       "    </tr>\n",
       "    <tr>\n",
       "      <th>10</th>\n",
       "      <td>2</td>\n",
       "      <td>192.0</td>\n",
       "      <td>101.2</td>\n",
       "      <td>176.8</td>\n",
       "      <td>64.8</td>\n",
       "      <td>54.3</td>\n",
       "      <td>2395</td>\n",
       "      <td>108</td>\n",
       "      <td>3.50</td>\n",
       "      <td>2.8</td>\n",
       "      <td>8.8</td>\n",
       "      <td>101.0</td>\n",
       "      <td>5800.0</td>\n",
       "      <td>23</td>\n",
       "      <td>29</td>\n",
       "      <td>16430.0</td>\n",
       "      <td>1</td>\n",
       "      <td>0</td>\n",
       "      <td>0</td>\n",
       "      <td>0</td>\n",
       "      <td>0</td>\n",
       "      <td>0</td>\n",
       "      <td>0</td>\n",
       "      <td>0</td>\n",
       "      <td>0</td>\n",
       "      <td>0</td>\n",
       "      <td>0</td>\n",
       "      <td>0</td>\n",
       "      <td>0</td>\n",
       "      <td>0</td>\n",
       "      <td>0</td>\n",
       "      <td>0</td>\n",
       "      <td>0</td>\n",
       "      <td>1</td>\n",
       "      <td>0</td>\n",
       "      <td>1</td>\n",
       "      <td>0</td>\n",
       "      <td>0</td>\n",
       "      <td>1</td>\n",
       "      <td>0</td>\n",
       "      <td>0</td>\n",
       "      <td>1</td>\n",
       "      <td>0</td>\n",
       "      <td>1</td>\n",
       "      <td>0</td>\n",
       "      <td>0</td>\n",
       "      <td>0</td>\n",
       "      <td>1</td>\n",
       "      <td>0</td>\n",
       "      <td>0</td>\n",
       "      <td>0</td>\n",
       "      <td>0</td>\n",
       "      <td>0</td>\n",
       "      <td>1</td>\n",
       "      <td>0</td>\n",
       "    </tr>\n",
       "  </tbody>\n",
       "</table>\n",
       "</div>"
      ],
      "text/plain": [
       "    symboling  normalized_losses  ...  fuel_system_mpfi  fuel_system_spdi\n",
       "3           2              164.0  ...                 1                 0\n",
       "4           2              164.0  ...                 1                 0\n",
       "6           1              158.0  ...                 1                 0\n",
       "8           1              158.0  ...                 1                 0\n",
       "10          2              192.0  ...                 1                 0\n",
       "\n",
       "[5 rows x 55 columns]"
      ]
     },
     "execution_count": 15,
     "metadata": {
      "tags": []
     },
     "output_type": "execute_result"
    }
   ],
   "source": [
    "#concat dum with new_df\n",
    "new_dum = pd.concat([new_df,dum],axis=1)\n",
    "new_dum.head()"
   ]
  },
  {
   "cell_type": "code",
   "execution_count": 0,
   "metadata": {
    "colab": {},
    "colab_type": "code",
    "id": "-P5k3s9KQLuK"
   },
   "outputs": [],
   "source": [
    "y = new_dum['price']   #dependent variables\n",
    "X = new_dum.drop('price',axis=1)  #independent variables"
   ]
  },
  {
   "cell_type": "code",
   "execution_count": 0,
   "metadata": {
    "colab": {},
    "colab_type": "code",
    "id": "XqjUlI7APCIg"
   },
   "outputs": [],
   "source": [
    "#split inot training and testing\n",
    "X_train,X_test,Y_train,Y_test = train_test_split(X,y,test_size=0.2,random_state=42) "
   ]
  },
  {
   "cell_type": "code",
   "execution_count": 24,
   "metadata": {
    "colab": {
     "base_uri": "https://localhost:8080/",
     "height": 34
    },
    "colab_type": "code",
    "id": "MJrw-Ck1QcTp",
    "outputId": "568563dc-0f34-4043-ab48-6343501e5e66"
   },
   "outputs": [
    {
     "data": {
      "text/plain": [
       "0.8080831831623411"
      ]
     },
     "execution_count": 24,
     "metadata": {
      "tags": []
     },
     "output_type": "execute_result"
    }
   ],
   "source": [
    "#fit the regression model \n",
    "model.fit(X_train,Y_train)\n",
    "predict = model.predict(X_test)\n",
    "model.score(X_test,Y_test)"
   ]
  },
  {
   "cell_type": "markdown",
   "metadata": {
    "colab_type": "text",
    "id": "GT0Q2n7OREqq"
   },
   "source": [
    "# We have got 80% accuracy Can we prove our model performance by encoding ?"
   ]
  },
  {
   "cell_type": "markdown",
   "metadata": {
    "colab_type": "text",
    "id": "ppoAgncyRPPJ"
   },
   "source": [
    "## If you notice in dataset we have applied one hot encoding on all the features, but we use one hot encoding only for nominal data. In our dataset we have feature column num_cylinders (Number of cylinders) . It is a ordinal variable, let's apply label encoding on it and see if we can improve our accuracy."
   ]
  },
  {
   "cell_type": "markdown",
   "metadata": {
    "colab_type": "text",
    "id": "9VbaejaNXWJe"
   },
   "source": [
    "# What we learn in this notebook?\n",
    "\n",
    "## Is that we have to figure out ordinal & nominal feature to apply accurate Encoding Technique."
   ]
  },
  {
   "cell_type": "code",
   "execution_count": 0,
   "metadata": {
    "colab": {},
    "colab_type": "code",
    "id": "l1-bFf4MQqrB"
   },
   "outputs": [],
   "source": [
    "#apply label encoding on num_cylinders\n",
    "from sklearn.preprocessing import LabelEncoder\n",
    "le = LabelEncoder()\n",
    "label = le.fit_transform(obj_df['num_cylinders'])\n",
    "\n",
    "#drop older dum_cylinders from dum\n",
    "dum_lab = dum.drop(dum[['num_cylinders_five', 'num_cylinders_four','num_doors_two',\n",
    "                        'num_cylinders_six', 'num_cylinders_three']],axis=1)\n",
    "\n",
    "#add the newly LabelEncoded num_cylinders column\n",
    "dum_lab['num_cylinders'] = label"
   ]
  },
  {
   "cell_type": "code",
   "execution_count": 0,
   "metadata": {
    "colab": {},
    "colab_type": "code",
    "id": "LevTLLVpXWJh"
   },
   "outputs": [],
   "source": [
    "a = pd.concat([new_df,dum_lab],axis=1)\n",
    "a.head()"
   ]
  },
  {
   "cell_type": "code",
   "execution_count": 0,
   "metadata": {
    "colab": {},
    "colab_type": "code",
    "id": "65IWhpWNTTvP"
   },
   "outputs": [],
   "source": [
    "#concat dum_lab with new_df\n",
    "new_dum_lab = pd.concat([new_df,dum_lab],axis=1)\n",
    "new_dum_lab.head()"
   ]
  },
  {
   "cell_type": "code",
   "execution_count": 0,
   "metadata": {
    "colab": {},
    "colab_type": "code",
    "id": "nTkXmg2GWGbw"
   },
   "outputs": [],
   "source": [
    "y = new_dum_lab['price']   #dependent variables\n",
    "X = new_dum_lab.drop('price',axis=1)  #independent variables"
   ]
  },
  {
   "cell_type": "code",
   "execution_count": 0,
   "metadata": {
    "colab": {},
    "colab_type": "code",
    "id": "IEa-jBWCXSCo"
   },
   "outputs": [],
   "source": [
    "#split inot training and testing\n",
    "X_train,X_test,Y_train,Y_test = train_test_split(X,y,test_size=0.2,random_state=42) "
   ]
  },
  {
   "cell_type": "code",
   "execution_count": 0,
   "metadata": {
    "colab": {},
    "colab_type": "code",
    "id": "bRtbRE3eXW8-"
   },
   "outputs": [],
   "source": [
    "#fit the regression model \n",
    "model.fit(X_train,Y_train)\n",
    "predict = model.predict(X_test)\n",
    "model.score(X_test,Y_test)"
   ]
  },
  {
   "cell_type": "markdown",
   "metadata": {
    "colab_type": "text",
    "id": "Zqu0L_6PXeOj"
   },
   "source": [
    "## Our Accuracy has increased from 80% to 81% by using label encoding. We should be always careful with the encoding technique we choose as by using right encoding method we can increase the accuracy of our model"
   ]
  },
  {
   "cell_type": "code",
   "execution_count": 0,
   "metadata": {
    "colab": {},
    "colab_type": "code",
    "id": "DTEoY3ZBXcf_"
   },
   "outputs": [],
   "source": []
  },
  {
   "cell_type": "markdown",
   "metadata": {
    "colab_type": "text",
    "id": "Yc-eRwy2XWJv"
   },
   "source": [
    "# Assignment Part"
   ]
  },
  {
   "cell_type": "code",
   "execution_count": 0,
   "metadata": {
    "colab": {},
    "colab_type": "code",
    "id": "5QDiZFQ3XWJw"
   },
   "outputs": [],
   "source": [
    "data=pd.read_csv('encoding.csv')"
   ]
  },
  {
   "cell_type": "code",
   "execution_count": 26,
   "metadata": {
    "colab": {
     "base_uri": "https://localhost:8080/",
     "height": 131
    },
    "colab_type": "code",
    "id": "p-JSsT04XWJy",
    "outputId": "e19ca91b-12be-4c8e-8f8a-069add9f9db5"
   },
   "outputs": [
    {
     "data": {
      "text/html": [
       "<div>\n",
       "<style scoped>\n",
       "    .dataframe tbody tr th:only-of-type {\n",
       "        vertical-align: middle;\n",
       "    }\n",
       "\n",
       "    .dataframe tbody tr th {\n",
       "        vertical-align: top;\n",
       "    }\n",
       "\n",
       "    .dataframe thead th {\n",
       "        text-align: right;\n",
       "    }\n",
       "</style>\n",
       "<table border=\"1\" class=\"dataframe\">\n",
       "  <thead>\n",
       "    <tr style=\"text-align: right;\">\n",
       "      <th></th>\n",
       "      <th>id</th>\n",
       "      <th>bin_0</th>\n",
       "      <th>bin_1</th>\n",
       "      <th>bin_2</th>\n",
       "      <th>bin_3</th>\n",
       "      <th>bin_4</th>\n",
       "      <th>nom_0</th>\n",
       "      <th>nom_1</th>\n",
       "      <th>nom_2</th>\n",
       "      <th>nom_3</th>\n",
       "      <th>nom_4</th>\n",
       "      <th>nom_5</th>\n",
       "      <th>nom_6</th>\n",
       "      <th>nom_7</th>\n",
       "      <th>nom_8</th>\n",
       "      <th>nom_9</th>\n",
       "      <th>ord_0</th>\n",
       "      <th>ord_1</th>\n",
       "      <th>ord_2</th>\n",
       "      <th>ord_3</th>\n",
       "      <th>ord_4</th>\n",
       "      <th>ord_5</th>\n",
       "      <th>day</th>\n",
       "      <th>month</th>\n",
       "      <th>target</th>\n",
       "    </tr>\n",
       "  </thead>\n",
       "  <tbody>\n",
       "    <tr>\n",
       "      <th>0</th>\n",
       "      <td>0</td>\n",
       "      <td>0.0</td>\n",
       "      <td>0.0</td>\n",
       "      <td>0.0</td>\n",
       "      <td>F</td>\n",
       "      <td>N</td>\n",
       "      <td>Red</td>\n",
       "      <td>Trapezoid</td>\n",
       "      <td>Hamster</td>\n",
       "      <td>Russia</td>\n",
       "      <td>Bassoon</td>\n",
       "      <td>de4c57ee2</td>\n",
       "      <td>a64bc7ddf</td>\n",
       "      <td>598080a91</td>\n",
       "      <td>0256c7a4b</td>\n",
       "      <td>02e7c8990</td>\n",
       "      <td>3.0</td>\n",
       "      <td>Contributor</td>\n",
       "      <td>Hot</td>\n",
       "      <td>c</td>\n",
       "      <td>U</td>\n",
       "      <td>Pw</td>\n",
       "      <td>6.0</td>\n",
       "      <td>3.0</td>\n",
       "      <td>0.0</td>\n",
       "    </tr>\n",
       "    <tr>\n",
       "      <th>1</th>\n",
       "      <td>1</td>\n",
       "      <td>1.0</td>\n",
       "      <td>1.0</td>\n",
       "      <td>0.0</td>\n",
       "      <td>F</td>\n",
       "      <td>Y</td>\n",
       "      <td>Red</td>\n",
       "      <td>Star</td>\n",
       "      <td>Axolotl</td>\n",
       "      <td>NaN</td>\n",
       "      <td>Theremin</td>\n",
       "      <td>2bb3c3e5c</td>\n",
       "      <td>3a3a936e8</td>\n",
       "      <td>1dddb8473</td>\n",
       "      <td>52ead350c</td>\n",
       "      <td>f37df64af</td>\n",
       "      <td>3.0</td>\n",
       "      <td>Grandmaster</td>\n",
       "      <td>Warm</td>\n",
       "      <td>e</td>\n",
       "      <td>X</td>\n",
       "      <td>pE</td>\n",
       "      <td>7.0</td>\n",
       "      <td>7.0</td>\n",
       "      <td>0.0</td>\n",
       "    </tr>\n",
       "  </tbody>\n",
       "</table>\n",
       "</div>"
      ],
      "text/plain": [
       "   id  bin_0  bin_1  bin_2 bin_3 bin_4 nom_0      nom_1    nom_2   nom_3  \\\n",
       "0   0    0.0    0.0    0.0     F     N   Red  Trapezoid  Hamster  Russia   \n",
       "1   1    1.0    1.0    0.0     F     Y   Red       Star  Axolotl     NaN   \n",
       "\n",
       "      nom_4      nom_5      nom_6      nom_7      nom_8      nom_9  ord_0  \\\n",
       "0   Bassoon  de4c57ee2  a64bc7ddf  598080a91  0256c7a4b  02e7c8990    3.0   \n",
       "1  Theremin  2bb3c3e5c  3a3a936e8  1dddb8473  52ead350c  f37df64af    3.0   \n",
       "\n",
       "         ord_1 ord_2 ord_3 ord_4 ord_5  day  month  target  \n",
       "0  Contributor   Hot     c     U    Pw  6.0    3.0     0.0  \n",
       "1  Grandmaster  Warm     e     X    pE  7.0    7.0     0.0  "
      ]
     },
     "execution_count": 26,
     "metadata": {
      "tags": []
     },
     "output_type": "execute_result"
    }
   ],
   "source": [
    "data.head(2)"
   ]
  },
  {
   "cell_type": "markdown",
   "metadata": {
    "colab_type": "text",
    "id": "uPebMu9PXWJ0"
   },
   "source": [
    "# As you can observe from the above dataset 'encoding.csv' all columns are not visibe, try to write a code using pandas to unhide all columns."
   ]
  },
  {
   "cell_type": "code",
   "execution_count": 0,
   "metadata": {
    "colab": {},
    "colab_type": "code",
    "id": "_N_t97gRXWJ0"
   },
   "outputs": [],
   "source": [
    "pd.options.display.max_rows = 7"
   ]
  },
  {
   "cell_type": "code",
   "execution_count": 28,
   "metadata": {
    "colab": {
     "base_uri": "https://localhost:8080/",
     "height": 258
    },
    "colab_type": "code",
    "id": "0VcMqUwDXWJ2",
    "outputId": "d8f59412-6e95-4be7-9f82-1d1316f7fe20"
   },
   "outputs": [
    {
     "data": {
      "text/html": [
       "<div>\n",
       "<style scoped>\n",
       "    .dataframe tbody tr th:only-of-type {\n",
       "        vertical-align: middle;\n",
       "    }\n",
       "\n",
       "    .dataframe tbody tr th {\n",
       "        vertical-align: top;\n",
       "    }\n",
       "\n",
       "    .dataframe thead th {\n",
       "        text-align: right;\n",
       "    }\n",
       "</style>\n",
       "<table border=\"1\" class=\"dataframe\">\n",
       "  <thead>\n",
       "    <tr style=\"text-align: right;\">\n",
       "      <th></th>\n",
       "      <th>id</th>\n",
       "      <th>bin_0</th>\n",
       "      <th>bin_1</th>\n",
       "      <th>bin_2</th>\n",
       "      <th>bin_3</th>\n",
       "      <th>bin_4</th>\n",
       "      <th>nom_0</th>\n",
       "      <th>nom_1</th>\n",
       "      <th>nom_2</th>\n",
       "      <th>nom_3</th>\n",
       "      <th>nom_4</th>\n",
       "      <th>nom_5</th>\n",
       "      <th>nom_6</th>\n",
       "      <th>nom_7</th>\n",
       "      <th>nom_8</th>\n",
       "      <th>nom_9</th>\n",
       "      <th>ord_0</th>\n",
       "      <th>ord_1</th>\n",
       "      <th>ord_2</th>\n",
       "      <th>ord_3</th>\n",
       "      <th>ord_4</th>\n",
       "      <th>ord_5</th>\n",
       "      <th>day</th>\n",
       "      <th>month</th>\n",
       "      <th>target</th>\n",
       "    </tr>\n",
       "  </thead>\n",
       "  <tbody>\n",
       "    <tr>\n",
       "      <th>0</th>\n",
       "      <td>0</td>\n",
       "      <td>0.0</td>\n",
       "      <td>0.0</td>\n",
       "      <td>0.0</td>\n",
       "      <td>F</td>\n",
       "      <td>N</td>\n",
       "      <td>Red</td>\n",
       "      <td>Trapezoid</td>\n",
       "      <td>Hamster</td>\n",
       "      <td>Russia</td>\n",
       "      <td>Bassoon</td>\n",
       "      <td>de4c57ee2</td>\n",
       "      <td>a64bc7ddf</td>\n",
       "      <td>598080a91</td>\n",
       "      <td>0256c7a4b</td>\n",
       "      <td>02e7c8990</td>\n",
       "      <td>3.0</td>\n",
       "      <td>Contributor</td>\n",
       "      <td>Hot</td>\n",
       "      <td>c</td>\n",
       "      <td>U</td>\n",
       "      <td>Pw</td>\n",
       "      <td>6.0</td>\n",
       "      <td>3.0</td>\n",
       "      <td>0.0</td>\n",
       "    </tr>\n",
       "    <tr>\n",
       "      <th>1</th>\n",
       "      <td>1</td>\n",
       "      <td>1.0</td>\n",
       "      <td>1.0</td>\n",
       "      <td>0.0</td>\n",
       "      <td>F</td>\n",
       "      <td>Y</td>\n",
       "      <td>Red</td>\n",
       "      <td>Star</td>\n",
       "      <td>Axolotl</td>\n",
       "      <td>NaN</td>\n",
       "      <td>Theremin</td>\n",
       "      <td>2bb3c3e5c</td>\n",
       "      <td>3a3a936e8</td>\n",
       "      <td>1dddb8473</td>\n",
       "      <td>52ead350c</td>\n",
       "      <td>f37df64af</td>\n",
       "      <td>3.0</td>\n",
       "      <td>Grandmaster</td>\n",
       "      <td>Warm</td>\n",
       "      <td>e</td>\n",
       "      <td>X</td>\n",
       "      <td>pE</td>\n",
       "      <td>7.0</td>\n",
       "      <td>7.0</td>\n",
       "      <td>0.0</td>\n",
       "    </tr>\n",
       "    <tr>\n",
       "      <th>2</th>\n",
       "      <td>2</td>\n",
       "      <td>0.0</td>\n",
       "      <td>1.0</td>\n",
       "      <td>0.0</td>\n",
       "      <td>F</td>\n",
       "      <td>N</td>\n",
       "      <td>Red</td>\n",
       "      <td>NaN</td>\n",
       "      <td>Hamster</td>\n",
       "      <td>Canada</td>\n",
       "      <td>Bassoon</td>\n",
       "      <td>b574c9841</td>\n",
       "      <td>708248125</td>\n",
       "      <td>5ddc9a726</td>\n",
       "      <td>745b909d1</td>\n",
       "      <td>NaN</td>\n",
       "      <td>3.0</td>\n",
       "      <td>NaN</td>\n",
       "      <td>Freezing</td>\n",
       "      <td>n</td>\n",
       "      <td>P</td>\n",
       "      <td>eN</td>\n",
       "      <td>5.0</td>\n",
       "      <td>9.0</td>\n",
       "      <td>0.0</td>\n",
       "    </tr>\n",
       "    <tr>\n",
       "      <th>3</th>\n",
       "      <td>3</td>\n",
       "      <td>NaN</td>\n",
       "      <td>0.0</td>\n",
       "      <td>0.0</td>\n",
       "      <td>F</td>\n",
       "      <td>N</td>\n",
       "      <td>Red</td>\n",
       "      <td>Circle</td>\n",
       "      <td>Hamster</td>\n",
       "      <td>Finland</td>\n",
       "      <td>Theremin</td>\n",
       "      <td>673bdf1f6</td>\n",
       "      <td>23edb8da3</td>\n",
       "      <td>3a33ef960</td>\n",
       "      <td>bdaa56dd1</td>\n",
       "      <td>f9d456e57</td>\n",
       "      <td>1.0</td>\n",
       "      <td>Novice</td>\n",
       "      <td>Lava Hot</td>\n",
       "      <td>a</td>\n",
       "      <td>C</td>\n",
       "      <td>NaN</td>\n",
       "      <td>3.0</td>\n",
       "      <td>3.0</td>\n",
       "      <td>0.0</td>\n",
       "    </tr>\n",
       "    <tr>\n",
       "      <th>4</th>\n",
       "      <td>4</td>\n",
       "      <td>0.0</td>\n",
       "      <td>NaN</td>\n",
       "      <td>0.0</td>\n",
       "      <td>T</td>\n",
       "      <td>N</td>\n",
       "      <td>Red</td>\n",
       "      <td>Triangle</td>\n",
       "      <td>Hamster</td>\n",
       "      <td>Costa Rica</td>\n",
       "      <td>NaN</td>\n",
       "      <td>777d1ac2c</td>\n",
       "      <td>3a7975e46</td>\n",
       "      <td>bc9cc2a94</td>\n",
       "      <td>NaN</td>\n",
       "      <td>c5361037c</td>\n",
       "      <td>3.0</td>\n",
       "      <td>Grandmaster</td>\n",
       "      <td>Cold</td>\n",
       "      <td>h</td>\n",
       "      <td>C</td>\n",
       "      <td>OZ</td>\n",
       "      <td>5.0</td>\n",
       "      <td>12.0</td>\n",
       "      <td>0.0</td>\n",
       "    </tr>\n",
       "  </tbody>\n",
       "</table>\n",
       "</div>"
      ],
      "text/plain": [
       "   id  bin_0  bin_1  bin_2 bin_3 bin_4 nom_0      nom_1    nom_2       nom_3  \\\n",
       "0   0    0.0    0.0    0.0     F     N   Red  Trapezoid  Hamster      Russia   \n",
       "1   1    1.0    1.0    0.0     F     Y   Red       Star  Axolotl         NaN   \n",
       "2   2    0.0    1.0    0.0     F     N   Red        NaN  Hamster      Canada   \n",
       "3   3    NaN    0.0    0.0     F     N   Red     Circle  Hamster     Finland   \n",
       "4   4    0.0    NaN    0.0     T     N   Red   Triangle  Hamster  Costa Rica   \n",
       "\n",
       "      nom_4      nom_5      nom_6      nom_7      nom_8      nom_9  ord_0  \\\n",
       "0   Bassoon  de4c57ee2  a64bc7ddf  598080a91  0256c7a4b  02e7c8990    3.0   \n",
       "1  Theremin  2bb3c3e5c  3a3a936e8  1dddb8473  52ead350c  f37df64af    3.0   \n",
       "2   Bassoon  b574c9841  708248125  5ddc9a726  745b909d1        NaN    3.0   \n",
       "3  Theremin  673bdf1f6  23edb8da3  3a33ef960  bdaa56dd1  f9d456e57    1.0   \n",
       "4       NaN  777d1ac2c  3a7975e46  bc9cc2a94        NaN  c5361037c    3.0   \n",
       "\n",
       "         ord_1     ord_2 ord_3 ord_4 ord_5  day  month  target  \n",
       "0  Contributor       Hot     c     U    Pw  6.0    3.0     0.0  \n",
       "1  Grandmaster      Warm     e     X    pE  7.0    7.0     0.0  \n",
       "2          NaN  Freezing     n     P    eN  5.0    9.0     0.0  \n",
       "3       Novice  Lava Hot     a     C   NaN  3.0    3.0     0.0  \n",
       "4  Grandmaster      Cold     h     C    OZ  5.0   12.0     0.0  "
      ]
     },
     "execution_count": 28,
     "metadata": {
      "tags": []
     },
     "output_type": "execute_result"
    }
   ],
   "source": [
    "pd.options.display.max_columns = None\n",
    "data.head()"
   ]
  },
  {
   "cell_type": "markdown",
   "metadata": {
    "colab_type": "text",
    "id": "0_sWTC_eXWJ6"
   },
   "source": [
    "# What you have to do with above dataset?\n",
    "\n",
    "## Try to figure out all categorical features, apply technique that we have learned while at the same time use any simple model & try to analyze the effect of different techniques on ML Model."
   ]
  },
  {
   "cell_type": "markdown",
   "metadata": {
    "colab_type": "text",
    "id": "1U711wWEXWJ7"
   },
   "source": [
    "# You can drop all NAN values & observe the change by applying different encoding techniques"
   ]
  },
  {
   "cell_type": "markdown",
   "metadata": {
    "colab_type": "text",
    "id": "PUP0R2_SXWJ7"
   },
   "source": [
    "# Solution"
   ]
  },
  {
   "cell_type": "code",
   "execution_count": 29,
   "metadata": {
    "colab": {
     "base_uri": "https://localhost:8080/",
     "height": 561
    },
    "colab_type": "code",
    "id": "7MGvwLO-XWJ8",
    "outputId": "bb9d0cb6-9a2d-4c30-d15a-4fe8fc304bc1"
   },
   "outputs": [
    {
     "name": "stdout",
     "output_type": "stream",
     "text": [
      "<class 'pandas.core.frame.DataFrame'>\n",
      "RangeIndex: 74259 entries, 0 to 74258\n",
      "Data columns (total 25 columns):\n",
      " #   Column  Non-Null Count  Dtype  \n",
      "---  ------  --------------  -----  \n",
      " 0   id      74259 non-null  int64  \n",
      " 1   bin_0   72028 non-null  float64\n",
      " 2   bin_1   71991 non-null  float64\n",
      " 3   bin_2   72067 non-null  float64\n",
      " 4   bin_3   72094 non-null  object \n",
      " 5   bin_4   72011 non-null  object \n",
      " 6   nom_0   71986 non-null  object \n",
      " 7   nom_1   72010 non-null  object \n",
      " 8   nom_2   72041 non-null  object \n",
      " 9   nom_3   72005 non-null  object \n",
      " 10  nom_4   71928 non-null  object \n",
      " 11  nom_5   72055 non-null  object \n",
      " 12  nom_6   72046 non-null  object \n",
      " 13  nom_7   72003 non-null  object \n",
      " 14  nom_8   72078 non-null  object \n",
      " 15  nom_9   71992 non-null  object \n",
      " 16  ord_0   72020 non-null  float64\n",
      " 17  ord_1   72015 non-null  object \n",
      " 18  ord_2   72057 non-null  object \n",
      " 19  ord_3   72015 non-null  object \n",
      " 20  ord_4   72121 non-null  object \n",
      " 21  ord_5   72042 non-null  object \n",
      " 22  day     71949 non-null  float64\n",
      " 23  month   72080 non-null  float64\n",
      " 24  target  74258 non-null  float64\n",
      "dtypes: float64(7), int64(1), object(17)\n",
      "memory usage: 14.2+ MB\n"
     ]
    }
   ],
   "source": [
    "data.info()"
   ]
  },
  {
   "cell_type": "markdown",
   "metadata": {
    "colab_type": "text",
    "id": "E3cQanHnXWJ-"
   },
   "source": [
    "#### Dropping NAN values"
   ]
  },
  {
   "cell_type": "code",
   "execution_count": 30,
   "metadata": {
    "colab": {
     "base_uri": "https://localhost:8080/",
     "height": 153
    },
    "colab_type": "code",
    "id": "KWHpb5_4XWJ-",
    "outputId": "5b93cf6e-2194-4f0e-be77-885bc874dafe"
   },
   "outputs": [
    {
     "data": {
      "text/plain": [
       "id           0\n",
       "bin_0     2231\n",
       "bin_1     2268\n",
       "          ... \n",
       "day       2310\n",
       "month     2179\n",
       "target       1\n",
       "Length: 25, dtype: int64"
      ]
     },
     "execution_count": 30,
     "metadata": {
      "tags": []
     },
     "output_type": "execute_result"
    }
   ],
   "source": [
    "data.isnull().sum()"
   ]
  },
  {
   "cell_type": "code",
   "execution_count": 31,
   "metadata": {
    "colab": {
     "base_uri": "https://localhost:8080/",
     "height": 51
    },
    "colab_type": "code",
    "id": "lMLONRwEXWKA",
    "outputId": "a884e7af-bdc4-4bd4-f47e-008d39580afa"
   },
   "outputs": [
    {
     "name": "stdout",
     "output_type": "stream",
     "text": [
      "Before dropping NAN shape: (74259, 25)\n",
      "After dropping NAN shape: (36877, 25)\n"
     ]
    }
   ],
   "source": [
    "print(f'Before dropping NAN shape: {data.shape}')\n",
    "data.dropna(inplace=True)\n",
    "print(f'After dropping NAN shape: {data.shape}')"
   ]
  },
  {
   "cell_type": "code",
   "execution_count": 0,
   "metadata": {
    "colab": {},
    "colab_type": "code",
    "id": "7fYyaR7nXWKC"
   },
   "outputs": [],
   "source": [
    "# cat_data.dropna(inplace=True)"
   ]
  },
  {
   "cell_type": "markdown",
   "metadata": {
    "colab_type": "text",
    "id": "Tcecs47BXWKE"
   },
   "source": [
    "### First focussing on `object` type columns"
   ]
  },
  {
   "cell_type": "code",
   "execution_count": 33,
   "metadata": {
    "colab": {
     "base_uri": "https://localhost:8080/",
     "height": 34
    },
    "colab_type": "code",
    "id": "jpakperXXWKF",
    "outputId": "0da12b61-98ba-4c1c-a06b-70a16e364413"
   },
   "outputs": [
    {
     "data": {
      "text/plain": [
       "(36877, 17)"
      ]
     },
     "execution_count": 33,
     "metadata": {
      "tags": []
     },
     "output_type": "execute_result"
    }
   ],
   "source": [
    "cat_data = data.select_dtypes(include='object').copy()\n",
    "cat_data.shape"
   ]
  },
  {
   "cell_type": "code",
   "execution_count": 34,
   "metadata": {
    "colab": {
     "base_uri": "https://localhost:8080/",
     "height": 204
    },
    "colab_type": "code",
    "id": "GJFijP1zXWKH",
    "outputId": "a1e62ca1-700a-4f57-e863-113e2a9dc25f"
   },
   "outputs": [
    {
     "data": {
      "text/html": [
       "<div>\n",
       "<style scoped>\n",
       "    .dataframe tbody tr th:only-of-type {\n",
       "        vertical-align: middle;\n",
       "    }\n",
       "\n",
       "    .dataframe tbody tr th {\n",
       "        vertical-align: top;\n",
       "    }\n",
       "\n",
       "    .dataframe thead th {\n",
       "        text-align: right;\n",
       "    }\n",
       "</style>\n",
       "<table border=\"1\" class=\"dataframe\">\n",
       "  <thead>\n",
       "    <tr style=\"text-align: right;\">\n",
       "      <th></th>\n",
       "      <th>bin_3</th>\n",
       "      <th>bin_4</th>\n",
       "      <th>nom_0</th>\n",
       "      <th>nom_1</th>\n",
       "      <th>nom_2</th>\n",
       "      <th>nom_3</th>\n",
       "      <th>nom_4</th>\n",
       "      <th>nom_5</th>\n",
       "      <th>nom_6</th>\n",
       "      <th>nom_7</th>\n",
       "      <th>nom_8</th>\n",
       "      <th>nom_9</th>\n",
       "      <th>ord_1</th>\n",
       "      <th>ord_2</th>\n",
       "      <th>ord_3</th>\n",
       "      <th>ord_4</th>\n",
       "      <th>ord_5</th>\n",
       "    </tr>\n",
       "  </thead>\n",
       "  <tbody>\n",
       "    <tr>\n",
       "      <th>0</th>\n",
       "      <td>F</td>\n",
       "      <td>N</td>\n",
       "      <td>Red</td>\n",
       "      <td>Trapezoid</td>\n",
       "      <td>Hamster</td>\n",
       "      <td>Russia</td>\n",
       "      <td>Bassoon</td>\n",
       "      <td>de4c57ee2</td>\n",
       "      <td>a64bc7ddf</td>\n",
       "      <td>598080a91</td>\n",
       "      <td>0256c7a4b</td>\n",
       "      <td>02e7c8990</td>\n",
       "      <td>Contributor</td>\n",
       "      <td>Hot</td>\n",
       "      <td>c</td>\n",
       "      <td>U</td>\n",
       "      <td>Pw</td>\n",
       "    </tr>\n",
       "    <tr>\n",
       "      <th>6</th>\n",
       "      <td>F</td>\n",
       "      <td>N</td>\n",
       "      <td>Red</td>\n",
       "      <td>Triangle</td>\n",
       "      <td>Hamster</td>\n",
       "      <td>Costa Rica</td>\n",
       "      <td>Bassoon</td>\n",
       "      <td>87a5be0d7</td>\n",
       "      <td>cdc35bd00</td>\n",
       "      <td>1cba571fa</td>\n",
       "      <td>b8e63cace</td>\n",
       "      <td>4d3766412</td>\n",
       "      <td>Grandmaster</td>\n",
       "      <td>Cold</td>\n",
       "      <td>c</td>\n",
       "      <td>R</td>\n",
       "      <td>rg</td>\n",
       "    </tr>\n",
       "    <tr>\n",
       "      <th>7</th>\n",
       "      <td>T</td>\n",
       "      <td>N</td>\n",
       "      <td>Red</td>\n",
       "      <td>Triangle</td>\n",
       "      <td>Axolotl</td>\n",
       "      <td>Finland</td>\n",
       "      <td>Bassoon</td>\n",
       "      <td>104aee31d</td>\n",
       "      <td>2a50808ba</td>\n",
       "      <td>81d67e1bb</td>\n",
       "      <td>bd9643a20</td>\n",
       "      <td>a651dec43</td>\n",
       "      <td>Expert</td>\n",
       "      <td>Cold</td>\n",
       "      <td>b</td>\n",
       "      <td>Y</td>\n",
       "      <td>PS</td>\n",
       "    </tr>\n",
       "    <tr>\n",
       "      <th>10</th>\n",
       "      <td>T</td>\n",
       "      <td>Y</td>\n",
       "      <td>Blue</td>\n",
       "      <td>Triangle</td>\n",
       "      <td>Hamster</td>\n",
       "      <td>Finland</td>\n",
       "      <td>Bassoon</td>\n",
       "      <td>8bd03e713</td>\n",
       "      <td>0d8c9ee63</td>\n",
       "      <td>93360bbc9</td>\n",
       "      <td>28869f8aa</td>\n",
       "      <td>9bfe3ee22</td>\n",
       "      <td>Novice</td>\n",
       "      <td>Hot</td>\n",
       "      <td>b</td>\n",
       "      <td>O</td>\n",
       "      <td>hG</td>\n",
       "    </tr>\n",
       "    <tr>\n",
       "      <th>11</th>\n",
       "      <td>F</td>\n",
       "      <td>Y</td>\n",
       "      <td>Red</td>\n",
       "      <td>Square</td>\n",
       "      <td>Hamster</td>\n",
       "      <td>Costa Rica</td>\n",
       "      <td>Oboe</td>\n",
       "      <td>b574c9841</td>\n",
       "      <td>494b565c1</td>\n",
       "      <td>088aace2d</td>\n",
       "      <td>74a092964</td>\n",
       "      <td>6c73b62e4</td>\n",
       "      <td>Contributor</td>\n",
       "      <td>Hot</td>\n",
       "      <td>b</td>\n",
       "      <td>M</td>\n",
       "      <td>xF</td>\n",
       "    </tr>\n",
       "  </tbody>\n",
       "</table>\n",
       "</div>"
      ],
      "text/plain": [
       "   bin_3 bin_4 nom_0      nom_1    nom_2       nom_3    nom_4      nom_5  \\\n",
       "0      F     N   Red  Trapezoid  Hamster      Russia  Bassoon  de4c57ee2   \n",
       "6      F     N   Red   Triangle  Hamster  Costa Rica  Bassoon  87a5be0d7   \n",
       "7      T     N   Red   Triangle  Axolotl     Finland  Bassoon  104aee31d   \n",
       "10     T     Y  Blue   Triangle  Hamster     Finland  Bassoon  8bd03e713   \n",
       "11     F     Y   Red     Square  Hamster  Costa Rica     Oboe  b574c9841   \n",
       "\n",
       "        nom_6      nom_7      nom_8      nom_9        ord_1 ord_2 ord_3 ord_4  \\\n",
       "0   a64bc7ddf  598080a91  0256c7a4b  02e7c8990  Contributor   Hot     c     U   \n",
       "6   cdc35bd00  1cba571fa  b8e63cace  4d3766412  Grandmaster  Cold     c     R   \n",
       "7   2a50808ba  81d67e1bb  bd9643a20  a651dec43       Expert  Cold     b     Y   \n",
       "10  0d8c9ee63  93360bbc9  28869f8aa  9bfe3ee22       Novice   Hot     b     O   \n",
       "11  494b565c1  088aace2d  74a092964  6c73b62e4  Contributor   Hot     b     M   \n",
       "\n",
       "   ord_5  \n",
       "0     Pw  \n",
       "6     rg  \n",
       "7     PS  \n",
       "10    hG  \n",
       "11    xF  "
      ]
     },
     "execution_count": 34,
     "metadata": {
      "tags": []
     },
     "output_type": "execute_result"
    }
   ],
   "source": [
    "cat_data.head()"
   ]
  },
  {
   "cell_type": "markdown",
   "metadata": {
    "colab_type": "text",
    "id": "OKWrulw8XWKN"
   },
   "source": [
    "#### 1. Binary encoding -  Replacing by 1 and 0\n",
    "2 ways to achieve this:\n",
    "1. Using `map()` function\n",
    "2. Using 'LabelEncoder`"
   ]
  },
  {
   "cell_type": "code",
   "execution_count": 35,
   "metadata": {
    "colab": {
     "base_uri": "https://localhost:8080/",
     "height": 153
    },
    "colab_type": "code",
    "id": "kudgg8S3XWKN",
    "outputId": "494dfe43-b637-4eee-ad1c-5eda851d99e8",
    "scrolled": true
   },
   "outputs": [
    {
     "data": {
      "text/plain": [
       "0        0\n",
       "6        0\n",
       "7        1\n",
       "        ..\n",
       "74255    0\n",
       "74256    1\n",
       "74257    1\n",
       "Name: bin_3, Length: 36877, dtype: int64"
      ]
     },
     "execution_count": 35,
     "metadata": {
      "tags": []
     },
     "output_type": "execute_result"
    }
   ],
   "source": [
    "# 1. using map() function\n",
    "cat_data['bin_3'].map({'F': 0, 'T': 1})"
   ]
  },
  {
   "cell_type": "code",
   "execution_count": 36,
   "metadata": {
    "colab": {
     "base_uri": "https://localhost:8080/",
     "height": 153
    },
    "colab_type": "code",
    "id": "-7Mev1xRXWKQ",
    "outputId": "c16fe539-12e9-4122-c11a-f4250c5e3f82",
    "scrolled": true
   },
   "outputs": [
    {
     "data": {
      "text/plain": [
       "0        0\n",
       "6        0\n",
       "7        0\n",
       "        ..\n",
       "74255    0\n",
       "74256    1\n",
       "74257    0\n",
       "Name: bin_4, Length: 36877, dtype: int64"
      ]
     },
     "execution_count": 36,
     "metadata": {
      "tags": []
     },
     "output_type": "execute_result"
    }
   ],
   "source": [
    "cat_data['bin_4'].map({'N': 0, 'Y': 1})"
   ]
  },
  {
   "cell_type": "code",
   "execution_count": 37,
   "metadata": {
    "colab": {
     "base_uri": "https://localhost:8080/",
     "height": 34
    },
    "colab_type": "code",
    "id": "5vjsEg4oXWKS",
    "outputId": "accf5147-dce0-485f-a1f1-2f9563d5ebcf"
   },
   "outputs": [
    {
     "data": {
      "text/plain": [
       "array([0, 0, 1, ..., 0, 1, 1])"
      ]
     },
     "execution_count": 37,
     "metadata": {
      "tags": []
     },
     "output_type": "execute_result"
    }
   ],
   "source": [
    "# 2. Using LabelEncoder\n",
    "from sklearn.preprocessing import LabelEncoder\n",
    "\n",
    "label_encoder = LabelEncoder()\n",
    "label_encoder.fit_transform(cat_data['bin_3'])"
   ]
  },
  {
   "cell_type": "code",
   "execution_count": 38,
   "metadata": {
    "colab": {
     "base_uri": "https://localhost:8080/",
     "height": 34
    },
    "colab_type": "code",
    "id": "Y1P6mblYXWKV",
    "outputId": "a70af0e1-5f57-479a-b727-d13f8599cbf9"
   },
   "outputs": [
    {
     "data": {
      "text/plain": [
       "array([0, 0, 0, ..., 0, 1, 0])"
      ]
     },
     "execution_count": 38,
     "metadata": {
      "tags": []
     },
     "output_type": "execute_result"
    }
   ],
   "source": [
    "label_encoder.fit_transform(cat_data['bin_4'])"
   ]
  },
  {
   "cell_type": "markdown",
   "metadata": {
    "colab_type": "text",
    "id": "dG54DWfVXWKY"
   },
   "source": [
    "#### To proceed apply LabelEncoder"
   ]
  },
  {
   "cell_type": "code",
   "execution_count": 0,
   "metadata": {
    "colab": {},
    "colab_type": "code",
    "id": "jQTsKCO2XWKY"
   },
   "outputs": [],
   "source": [
    "cat_data['label_bin_3'] = label_encoder.fit_transform(cat_data['bin_3'])\n",
    "cat_data['label_bin_4'] = label_encoder.fit_transform(cat_data['bin_4'])"
   ]
  },
  {
   "cell_type": "code",
   "execution_count": 40,
   "metadata": {
    "colab": {
     "base_uri": "https://localhost:8080/",
     "height": 357
    },
    "colab_type": "code",
    "id": "-28hc9PLXWKc",
    "outputId": "51bab817-1cfd-4d64-8225-7d88e6cd70ea"
   },
   "outputs": [
    {
     "data": {
      "text/plain": [
       "(   bin_3 bin_4 nom_0      nom_1    nom_2       nom_3    nom_4      nom_5  \\\n",
       " 0      F     N   Red  Trapezoid  Hamster      Russia  Bassoon  de4c57ee2   \n",
       " 6      F     N   Red   Triangle  Hamster  Costa Rica  Bassoon  87a5be0d7   \n",
       " 7      T     N   Red   Triangle  Axolotl     Finland  Bassoon  104aee31d   \n",
       " 10     T     Y  Blue   Triangle  Hamster     Finland  Bassoon  8bd03e713   \n",
       " 11     F     Y   Red     Square  Hamster  Costa Rica     Oboe  b574c9841   \n",
       " \n",
       "         nom_6      nom_7      nom_8      nom_9        ord_1 ord_2 ord_3 ord_4  \\\n",
       " 0   a64bc7ddf  598080a91  0256c7a4b  02e7c8990  Contributor   Hot     c     U   \n",
       " 6   cdc35bd00  1cba571fa  b8e63cace  4d3766412  Grandmaster  Cold     c     R   \n",
       " 7   2a50808ba  81d67e1bb  bd9643a20  a651dec43       Expert  Cold     b     Y   \n",
       " 10  0d8c9ee63  93360bbc9  28869f8aa  9bfe3ee22       Novice   Hot     b     O   \n",
       " 11  494b565c1  088aace2d  74a092964  6c73b62e4  Contributor   Hot     b     M   \n",
       " \n",
       "    ord_5  label_bin_3  label_bin_4  \n",
       " 0     Pw            0            0  \n",
       " 6     rg            0            0  \n",
       " 7     PS            1            0  \n",
       " 10    hG            1            1  \n",
       " 11    xF            0            1  , (36877, 19))"
      ]
     },
     "execution_count": 40,
     "metadata": {
      "tags": []
     },
     "output_type": "execute_result"
    }
   ],
   "source": [
    "cat_data.head(), cat_data.shape"
   ]
  },
  {
   "cell_type": "code",
   "execution_count": 41,
   "metadata": {
    "colab": {
     "base_uri": "https://localhost:8080/",
     "height": 153
    },
    "colab_type": "code",
    "id": "kb1FnklaXWKe",
    "outputId": "7f405d44-5134-4401-9dee-723086b88bc9"
   },
   "outputs": [
    {
     "data": {
      "text/plain": [
       "bin_3            2\n",
       "bin_4            2\n",
       "nom_0            3\n",
       "              ... \n",
       "ord_5          190\n",
       "label_bin_3      2\n",
       "label_bin_4      2\n",
       "Length: 19, dtype: int64"
      ]
     },
     "execution_count": 41,
     "metadata": {
      "tags": []
     },
     "output_type": "execute_result"
    }
   ],
   "source": [
    "cat_data.nunique()"
   ]
  },
  {
   "cell_type": "markdown",
   "metadata": {
    "colab_type": "text",
    "id": "CwybH0_hXWKh"
   },
   "source": [
    "#### It can be observed that nom_0, nom_1, nom_2, nom_3, nom_4 have less cardinality so we can apply One hot encoding"
   ]
  },
  {
   "cell_type": "code",
   "execution_count": 0,
   "metadata": {
    "colab": {},
    "colab_type": "code",
    "id": "LB5kDmT4XWKi"
   },
   "outputs": [],
   "source": [
    "nom_0_df = pd.get_dummies(cat_data['nom_0'], prefix='nom_0_', drop_first=True)\n",
    "nom_1_df = pd.get_dummies(cat_data['nom_1'], prefix='nom_1_', drop_first=True)\n",
    "nom_2_df = pd.get_dummies(cat_data['nom_2'], prefix='nom_2_', drop_first=True)\n",
    "nom_3_df = pd.get_dummies(cat_data['nom_3'], prefix='nom_3_', drop_first=True)\n",
    "nom_4_df = pd.get_dummies(cat_data['nom_4'], prefix='nom_4_', drop_first=True)"
   ]
  },
  {
   "cell_type": "code",
   "execution_count": 43,
   "metadata": {
    "colab": {
     "base_uri": "https://localhost:8080/",
     "height": 275
    },
    "colab_type": "code",
    "id": "X3IH-HsuXWKk",
    "outputId": "5b11809d-6230-4340-ac97-fd166a4f67e0"
   },
   "outputs": [
    {
     "data": {
      "text/html": [
       "<div>\n",
       "<style scoped>\n",
       "    .dataframe tbody tr th:only-of-type {\n",
       "        vertical-align: middle;\n",
       "    }\n",
       "\n",
       "    .dataframe tbody tr th {\n",
       "        vertical-align: top;\n",
       "    }\n",
       "\n",
       "    .dataframe thead th {\n",
       "        text-align: right;\n",
       "    }\n",
       "</style>\n",
       "<table border=\"1\" class=\"dataframe\">\n",
       "  <thead>\n",
       "    <tr style=\"text-align: right;\">\n",
       "      <th></th>\n",
       "      <th>bin_3</th>\n",
       "      <th>bin_4</th>\n",
       "      <th>nom_0</th>\n",
       "      <th>nom_1</th>\n",
       "      <th>nom_2</th>\n",
       "      <th>nom_3</th>\n",
       "      <th>nom_4</th>\n",
       "      <th>nom_5</th>\n",
       "      <th>nom_6</th>\n",
       "      <th>nom_7</th>\n",
       "      <th>nom_8</th>\n",
       "      <th>nom_9</th>\n",
       "      <th>ord_1</th>\n",
       "      <th>ord_2</th>\n",
       "      <th>ord_3</th>\n",
       "      <th>ord_4</th>\n",
       "      <th>ord_5</th>\n",
       "      <th>label_bin_3</th>\n",
       "      <th>label_bin_4</th>\n",
       "      <th>nom_0__Green</th>\n",
       "      <th>nom_0__Red</th>\n",
       "      <th>nom_1__Polygon</th>\n",
       "      <th>nom_1__Square</th>\n",
       "      <th>nom_1__Star</th>\n",
       "      <th>nom_1__Trapezoid</th>\n",
       "      <th>nom_1__Triangle</th>\n",
       "      <th>nom_2__Cat</th>\n",
       "      <th>nom_2__Dog</th>\n",
       "      <th>nom_2__Hamster</th>\n",
       "      <th>nom_2__Lion</th>\n",
       "      <th>nom_2__Snake</th>\n",
       "      <th>nom_3__China</th>\n",
       "      <th>nom_3__Costa Rica</th>\n",
       "      <th>nom_3__Finland</th>\n",
       "      <th>nom_3__India</th>\n",
       "      <th>nom_3__Russia</th>\n",
       "      <th>nom_4__Oboe</th>\n",
       "      <th>nom_4__Piano</th>\n",
       "      <th>nom_4__Theremin</th>\n",
       "    </tr>\n",
       "  </thead>\n",
       "  <tbody>\n",
       "    <tr>\n",
       "      <th>0</th>\n",
       "      <td>F</td>\n",
       "      <td>N</td>\n",
       "      <td>Red</td>\n",
       "      <td>Trapezoid</td>\n",
       "      <td>Hamster</td>\n",
       "      <td>Russia</td>\n",
       "      <td>Bassoon</td>\n",
       "      <td>de4c57ee2</td>\n",
       "      <td>a64bc7ddf</td>\n",
       "      <td>598080a91</td>\n",
       "      <td>0256c7a4b</td>\n",
       "      <td>02e7c8990</td>\n",
       "      <td>Contributor</td>\n",
       "      <td>Hot</td>\n",
       "      <td>c</td>\n",
       "      <td>U</td>\n",
       "      <td>Pw</td>\n",
       "      <td>0</td>\n",
       "      <td>0</td>\n",
       "      <td>0</td>\n",
       "      <td>1</td>\n",
       "      <td>0</td>\n",
       "      <td>0</td>\n",
       "      <td>0</td>\n",
       "      <td>1</td>\n",
       "      <td>0</td>\n",
       "      <td>0</td>\n",
       "      <td>0</td>\n",
       "      <td>1</td>\n",
       "      <td>0</td>\n",
       "      <td>0</td>\n",
       "      <td>0</td>\n",
       "      <td>0</td>\n",
       "      <td>0</td>\n",
       "      <td>0</td>\n",
       "      <td>1</td>\n",
       "      <td>0</td>\n",
       "      <td>0</td>\n",
       "      <td>0</td>\n",
       "    </tr>\n",
       "    <tr>\n",
       "      <th>6</th>\n",
       "      <td>F</td>\n",
       "      <td>N</td>\n",
       "      <td>Red</td>\n",
       "      <td>Triangle</td>\n",
       "      <td>Hamster</td>\n",
       "      <td>Costa Rica</td>\n",
       "      <td>Bassoon</td>\n",
       "      <td>87a5be0d7</td>\n",
       "      <td>cdc35bd00</td>\n",
       "      <td>1cba571fa</td>\n",
       "      <td>b8e63cace</td>\n",
       "      <td>4d3766412</td>\n",
       "      <td>Grandmaster</td>\n",
       "      <td>Cold</td>\n",
       "      <td>c</td>\n",
       "      <td>R</td>\n",
       "      <td>rg</td>\n",
       "      <td>0</td>\n",
       "      <td>0</td>\n",
       "      <td>0</td>\n",
       "      <td>1</td>\n",
       "      <td>0</td>\n",
       "      <td>0</td>\n",
       "      <td>0</td>\n",
       "      <td>0</td>\n",
       "      <td>1</td>\n",
       "      <td>0</td>\n",
       "      <td>0</td>\n",
       "      <td>1</td>\n",
       "      <td>0</td>\n",
       "      <td>0</td>\n",
       "      <td>0</td>\n",
       "      <td>1</td>\n",
       "      <td>0</td>\n",
       "      <td>0</td>\n",
       "      <td>0</td>\n",
       "      <td>0</td>\n",
       "      <td>0</td>\n",
       "      <td>0</td>\n",
       "    </tr>\n",
       "    <tr>\n",
       "      <th>7</th>\n",
       "      <td>T</td>\n",
       "      <td>N</td>\n",
       "      <td>Red</td>\n",
       "      <td>Triangle</td>\n",
       "      <td>Axolotl</td>\n",
       "      <td>Finland</td>\n",
       "      <td>Bassoon</td>\n",
       "      <td>104aee31d</td>\n",
       "      <td>2a50808ba</td>\n",
       "      <td>81d67e1bb</td>\n",
       "      <td>bd9643a20</td>\n",
       "      <td>a651dec43</td>\n",
       "      <td>Expert</td>\n",
       "      <td>Cold</td>\n",
       "      <td>b</td>\n",
       "      <td>Y</td>\n",
       "      <td>PS</td>\n",
       "      <td>1</td>\n",
       "      <td>0</td>\n",
       "      <td>0</td>\n",
       "      <td>1</td>\n",
       "      <td>0</td>\n",
       "      <td>0</td>\n",
       "      <td>0</td>\n",
       "      <td>0</td>\n",
       "      <td>1</td>\n",
       "      <td>0</td>\n",
       "      <td>0</td>\n",
       "      <td>0</td>\n",
       "      <td>0</td>\n",
       "      <td>0</td>\n",
       "      <td>0</td>\n",
       "      <td>0</td>\n",
       "      <td>1</td>\n",
       "      <td>0</td>\n",
       "      <td>0</td>\n",
       "      <td>0</td>\n",
       "      <td>0</td>\n",
       "      <td>0</td>\n",
       "    </tr>\n",
       "    <tr>\n",
       "      <th>10</th>\n",
       "      <td>T</td>\n",
       "      <td>Y</td>\n",
       "      <td>Blue</td>\n",
       "      <td>Triangle</td>\n",
       "      <td>Hamster</td>\n",
       "      <td>Finland</td>\n",
       "      <td>Bassoon</td>\n",
       "      <td>8bd03e713</td>\n",
       "      <td>0d8c9ee63</td>\n",
       "      <td>93360bbc9</td>\n",
       "      <td>28869f8aa</td>\n",
       "      <td>9bfe3ee22</td>\n",
       "      <td>Novice</td>\n",
       "      <td>Hot</td>\n",
       "      <td>b</td>\n",
       "      <td>O</td>\n",
       "      <td>hG</td>\n",
       "      <td>1</td>\n",
       "      <td>1</td>\n",
       "      <td>0</td>\n",
       "      <td>0</td>\n",
       "      <td>0</td>\n",
       "      <td>0</td>\n",
       "      <td>0</td>\n",
       "      <td>0</td>\n",
       "      <td>1</td>\n",
       "      <td>0</td>\n",
       "      <td>0</td>\n",
       "      <td>1</td>\n",
       "      <td>0</td>\n",
       "      <td>0</td>\n",
       "      <td>0</td>\n",
       "      <td>0</td>\n",
       "      <td>1</td>\n",
       "      <td>0</td>\n",
       "      <td>0</td>\n",
       "      <td>0</td>\n",
       "      <td>0</td>\n",
       "      <td>0</td>\n",
       "    </tr>\n",
       "    <tr>\n",
       "      <th>11</th>\n",
       "      <td>F</td>\n",
       "      <td>Y</td>\n",
       "      <td>Red</td>\n",
       "      <td>Square</td>\n",
       "      <td>Hamster</td>\n",
       "      <td>Costa Rica</td>\n",
       "      <td>Oboe</td>\n",
       "      <td>b574c9841</td>\n",
       "      <td>494b565c1</td>\n",
       "      <td>088aace2d</td>\n",
       "      <td>74a092964</td>\n",
       "      <td>6c73b62e4</td>\n",
       "      <td>Contributor</td>\n",
       "      <td>Hot</td>\n",
       "      <td>b</td>\n",
       "      <td>M</td>\n",
       "      <td>xF</td>\n",
       "      <td>0</td>\n",
       "      <td>1</td>\n",
       "      <td>0</td>\n",
       "      <td>1</td>\n",
       "      <td>0</td>\n",
       "      <td>1</td>\n",
       "      <td>0</td>\n",
       "      <td>0</td>\n",
       "      <td>0</td>\n",
       "      <td>0</td>\n",
       "      <td>0</td>\n",
       "      <td>1</td>\n",
       "      <td>0</td>\n",
       "      <td>0</td>\n",
       "      <td>0</td>\n",
       "      <td>1</td>\n",
       "      <td>0</td>\n",
       "      <td>0</td>\n",
       "      <td>0</td>\n",
       "      <td>1</td>\n",
       "      <td>0</td>\n",
       "      <td>0</td>\n",
       "    </tr>\n",
       "  </tbody>\n",
       "</table>\n",
       "</div>"
      ],
      "text/plain": [
       "   bin_3 bin_4 nom_0      nom_1    nom_2       nom_3    nom_4      nom_5  \\\n",
       "0      F     N   Red  Trapezoid  Hamster      Russia  Bassoon  de4c57ee2   \n",
       "6      F     N   Red   Triangle  Hamster  Costa Rica  Bassoon  87a5be0d7   \n",
       "7      T     N   Red   Triangle  Axolotl     Finland  Bassoon  104aee31d   \n",
       "10     T     Y  Blue   Triangle  Hamster     Finland  Bassoon  8bd03e713   \n",
       "11     F     Y   Red     Square  Hamster  Costa Rica     Oboe  b574c9841   \n",
       "\n",
       "        nom_6      nom_7      nom_8      nom_9        ord_1 ord_2 ord_3 ord_4  \\\n",
       "0   a64bc7ddf  598080a91  0256c7a4b  02e7c8990  Contributor   Hot     c     U   \n",
       "6   cdc35bd00  1cba571fa  b8e63cace  4d3766412  Grandmaster  Cold     c     R   \n",
       "7   2a50808ba  81d67e1bb  bd9643a20  a651dec43       Expert  Cold     b     Y   \n",
       "10  0d8c9ee63  93360bbc9  28869f8aa  9bfe3ee22       Novice   Hot     b     O   \n",
       "11  494b565c1  088aace2d  74a092964  6c73b62e4  Contributor   Hot     b     M   \n",
       "\n",
       "   ord_5  label_bin_3  label_bin_4  nom_0__Green  nom_0__Red  nom_1__Polygon  \\\n",
       "0     Pw            0            0             0           1               0   \n",
       "6     rg            0            0             0           1               0   \n",
       "7     PS            1            0             0           1               0   \n",
       "10    hG            1            1             0           0               0   \n",
       "11    xF            0            1             0           1               0   \n",
       "\n",
       "    nom_1__Square  nom_1__Star  nom_1__Trapezoid  nom_1__Triangle  nom_2__Cat  \\\n",
       "0               0            0                 1                0           0   \n",
       "6               0            0                 0                1           0   \n",
       "7               0            0                 0                1           0   \n",
       "10              0            0                 0                1           0   \n",
       "11              1            0                 0                0           0   \n",
       "\n",
       "    nom_2__Dog  nom_2__Hamster  nom_2__Lion  nom_2__Snake  nom_3__China  \\\n",
       "0            0               1            0             0             0   \n",
       "6            0               1            0             0             0   \n",
       "7            0               0            0             0             0   \n",
       "10           0               1            0             0             0   \n",
       "11           0               1            0             0             0   \n",
       "\n",
       "    nom_3__Costa Rica  nom_3__Finland  nom_3__India  nom_3__Russia  \\\n",
       "0                   0               0             0              1   \n",
       "6                   1               0             0              0   \n",
       "7                   0               1             0              0   \n",
       "10                  0               1             0              0   \n",
       "11                  1               0             0              0   \n",
       "\n",
       "    nom_4__Oboe  nom_4__Piano  nom_4__Theremin  \n",
       "0             0             0                0  \n",
       "6             0             0                0  \n",
       "7             0             0                0  \n",
       "10            0             0                0  \n",
       "11            1             0                0  "
      ]
     },
     "execution_count": 43,
     "metadata": {
      "tags": []
     },
     "output_type": "execute_result"
    }
   ],
   "source": [
    "cat_data = pd.concat([cat_data, nom_0_df, nom_1_df, nom_2_df, nom_3_df, nom_4_df], axis=1)\n",
    "cat_data.head()"
   ]
  },
  {
   "cell_type": "markdown",
   "metadata": {
    "colab_type": "text",
    "id": "gtAkAYqqXWKn"
   },
   "source": [
    "#### Working on high cardinality nominal variables\n",
    "nom_5, nom_6, nom_7, nom_8, nom_9"
   ]
  },
  {
   "cell_type": "code",
   "execution_count": 44,
   "metadata": {
    "colab": {
     "base_uri": "https://localhost:8080/",
     "height": 204
    },
    "colab_type": "code",
    "id": "LZLFYwu_XWKn",
    "outputId": "aeaff06d-6657-45c2-a094-6983e8f59ddc"
   },
   "outputs": [
    {
     "data": {
      "text/html": [
       "<div>\n",
       "<style scoped>\n",
       "    .dataframe tbody tr th:only-of-type {\n",
       "        vertical-align: middle;\n",
       "    }\n",
       "\n",
       "    .dataframe tbody tr th {\n",
       "        vertical-align: top;\n",
       "    }\n",
       "\n",
       "    .dataframe thead th {\n",
       "        text-align: right;\n",
       "    }\n",
       "</style>\n",
       "<table border=\"1\" class=\"dataframe\">\n",
       "  <thead>\n",
       "    <tr style=\"text-align: right;\">\n",
       "      <th></th>\n",
       "      <th>nom_5</th>\n",
       "      <th>nom_6</th>\n",
       "      <th>nom_7</th>\n",
       "      <th>nom_8</th>\n",
       "      <th>nom_9</th>\n",
       "    </tr>\n",
       "  </thead>\n",
       "  <tbody>\n",
       "    <tr>\n",
       "      <th>0</th>\n",
       "      <td>de4c57ee2</td>\n",
       "      <td>a64bc7ddf</td>\n",
       "      <td>598080a91</td>\n",
       "      <td>0256c7a4b</td>\n",
       "      <td>02e7c8990</td>\n",
       "    </tr>\n",
       "    <tr>\n",
       "      <th>6</th>\n",
       "      <td>87a5be0d7</td>\n",
       "      <td>cdc35bd00</td>\n",
       "      <td>1cba571fa</td>\n",
       "      <td>b8e63cace</td>\n",
       "      <td>4d3766412</td>\n",
       "    </tr>\n",
       "    <tr>\n",
       "      <th>7</th>\n",
       "      <td>104aee31d</td>\n",
       "      <td>2a50808ba</td>\n",
       "      <td>81d67e1bb</td>\n",
       "      <td>bd9643a20</td>\n",
       "      <td>a651dec43</td>\n",
       "    </tr>\n",
       "    <tr>\n",
       "      <th>10</th>\n",
       "      <td>8bd03e713</td>\n",
       "      <td>0d8c9ee63</td>\n",
       "      <td>93360bbc9</td>\n",
       "      <td>28869f8aa</td>\n",
       "      <td>9bfe3ee22</td>\n",
       "    </tr>\n",
       "    <tr>\n",
       "      <th>11</th>\n",
       "      <td>b574c9841</td>\n",
       "      <td>494b565c1</td>\n",
       "      <td>088aace2d</td>\n",
       "      <td>74a092964</td>\n",
       "      <td>6c73b62e4</td>\n",
       "    </tr>\n",
       "  </tbody>\n",
       "</table>\n",
       "</div>"
      ],
      "text/plain": [
       "        nom_5      nom_6      nom_7      nom_8      nom_9\n",
       "0   de4c57ee2  a64bc7ddf  598080a91  0256c7a4b  02e7c8990\n",
       "6   87a5be0d7  cdc35bd00  1cba571fa  b8e63cace  4d3766412\n",
       "7   104aee31d  2a50808ba  81d67e1bb  bd9643a20  a651dec43\n",
       "10  8bd03e713  0d8c9ee63  93360bbc9  28869f8aa  9bfe3ee22\n",
       "11  b574c9841  494b565c1  088aace2d  74a092964  6c73b62e4"
      ]
     },
     "execution_count": 44,
     "metadata": {
      "tags": []
     },
     "output_type": "execute_result"
    }
   ],
   "source": [
    "cat_data[['nom_5', 'nom_6', 'nom_7', 'nom_8', 'nom_9']].head()"
   ]
  },
  {
   "cell_type": "code",
   "execution_count": 45,
   "metadata": {
    "colab": {
     "base_uri": "https://localhost:8080/",
     "height": 153
    },
    "colab_type": "code",
    "id": "olKxRJnfXWKp",
    "outputId": "e0696b61-e5a1-4e50-9c0d-505f6dd073f4",
    "scrolled": true
   },
   "outputs": [
    {
     "data": {
      "text/plain": [
       "c8a903ab9    78\n",
       "b7f006bec    75\n",
       "39879cc3e    74\n",
       "             ..\n",
       "e8dca2f17     1\n",
       "b86ec5bff     1\n",
       "f00b62582     1\n",
       "Name: nom_5, Length: 1207, dtype: int64"
      ]
     },
     "execution_count": 45,
     "metadata": {
      "tags": []
     },
     "output_type": "execute_result"
    }
   ],
   "source": [
    "cat_data['nom_5'].value_counts()"
   ]
  },
  {
   "cell_type": "code",
   "execution_count": 46,
   "metadata": {
    "colab": {
     "base_uri": "https://localhost:8080/",
     "height": 153
    },
    "colab_type": "code",
    "id": "Zo1b18tyXWKr",
    "outputId": "0facf7c9-66e9-47b2-a0c2-b3acff874fae",
    "scrolled": true
   },
   "outputs": [
    {
     "data": {
      "text/plain": [
       "5afc91042    64\n",
       "2b94ada45    62\n",
       "aaeae365f    61\n",
       "             ..\n",
       "22d978806     1\n",
       "99f4e90fe     1\n",
       "103b29fc6     1\n",
       "Name: nom_6, Length: 1493, dtype: int64"
      ]
     },
     "execution_count": 46,
     "metadata": {
      "tags": []
     },
     "output_type": "execute_result"
    }
   ],
   "source": [
    "cat_data['nom_6'].value_counts()"
   ]
  },
  {
   "cell_type": "code",
   "execution_count": 47,
   "metadata": {
    "colab": {
     "base_uri": "https://localhost:8080/",
     "height": 153
    },
    "colab_type": "code",
    "id": "0Zsbi-KBXWKv",
    "outputId": "5b250227-bff5-4158-d33c-eaf704dd07f2",
    "scrolled": true
   },
   "outputs": [
    {
     "data": {
      "text/plain": [
       "81d67e1bb    334\n",
       "c79d2197d    329\n",
       "1dddb8473    327\n",
       "            ... \n",
       "75d0e3ef8      8\n",
       "deec583dd      6\n",
       "e9c57c4aa      2\n",
       "Name: nom_7, Length: 222, dtype: int64"
      ]
     },
     "execution_count": 47,
     "metadata": {
      "tags": []
     },
     "output_type": "execute_result"
    }
   ],
   "source": [
    "cat_data['nom_7'].value_counts()"
   ]
  },
  {
   "cell_type": "code",
   "execution_count": 48,
   "metadata": {
    "colab": {
     "base_uri": "https://localhost:8080/",
     "height": 153
    },
    "colab_type": "code",
    "id": "H3SPLWhYXWKx",
    "outputId": "009dea8f-c917-45ef-a658-02f7000bcfbd",
    "scrolled": true
   },
   "outputs": [
    {
     "data": {
      "text/plain": [
       "587840371    352\n",
       "7d7c02c57    335\n",
       "15f03b1f4    332\n",
       "            ... \n",
       "115d9fd8b      8\n",
       "607c26084      6\n",
       "6492aecc3      2\n",
       "Name: nom_8, Length: 222, dtype: int64"
      ]
     },
     "execution_count": 48,
     "metadata": {
      "tags": []
     },
     "output_type": "execute_result"
    }
   ],
   "source": [
    "cat_data['nom_8'].value_counts()"
   ]
  },
  {
   "cell_type": "code",
   "execution_count": 49,
   "metadata": {
    "colab": {
     "base_uri": "https://localhost:8080/",
     "height": 153
    },
    "colab_type": "code",
    "id": "U1vvFzSTXWK1",
    "outputId": "ac5727aa-6cf7-4033-caf1-8ab7384adef9",
    "scrolled": true
   },
   "outputs": [
    {
     "data": {
      "text/plain": [
       "5a93db805    50\n",
       "b9b1cd7f3    49\n",
       "e66418003    46\n",
       "             ..\n",
       "46bd8c521     1\n",
       "fcaa447ad     1\n",
       "47ea47b5f     1\n",
       "Name: nom_9, Length: 2164, dtype: int64"
      ]
     },
     "execution_count": 49,
     "metadata": {
      "tags": []
     },
     "output_type": "execute_result"
    }
   ],
   "source": [
    "cat_data['nom_9'].value_counts()"
   ]
  },
  {
   "cell_type": "markdown",
   "metadata": {
    "colab_type": "text",
    "id": "spEY7vnjXWK4"
   },
   "source": [
    "#### Above we can notice that the difference between the frequencies is large hence we go with Binary encoding"
   ]
  },
  {
   "cell_type": "code",
   "execution_count": 50,
   "metadata": {
    "colab": {
     "base_uri": "https://localhost:8080/",
     "height": 272
    },
    "colab_type": "code",
    "id": "Uj964j7zQ2P1",
    "outputId": "de3467ff-2bc4-4052-99da-bfb1b74d19fe"
   },
   "outputs": [
    {
     "name": "stdout",
     "output_type": "stream",
     "text": [
      "Collecting category_encoders\n",
      "\u001b[?25l  Downloading https://files.pythonhosted.org/packages/44/57/fcef41c248701ee62e8325026b90c432adea35555cbc870aff9cfba23727/category_encoders-2.2.2-py2.py3-none-any.whl (80kB)\n",
      "\r",
      "\u001b[K     |████                            | 10kB 17.0MB/s eta 0:00:01\r",
      "\u001b[K     |████████▏                       | 20kB 1.7MB/s eta 0:00:01\r",
      "\u001b[K     |████████████▏                   | 30kB 2.2MB/s eta 0:00:01\r",
      "\u001b[K     |████████████████▎               | 40kB 2.5MB/s eta 0:00:01\r",
      "\u001b[K     |████████████████████▎           | 51kB 2.0MB/s eta 0:00:01\r",
      "\u001b[K     |████████████████████████▍       | 61kB 2.3MB/s eta 0:00:01\r",
      "\u001b[K     |████████████████████████████▍   | 71kB 2.5MB/s eta 0:00:01\r",
      "\u001b[K     |████████████████████████████████| 81kB 2.2MB/s \n",
      "\u001b[?25hRequirement already satisfied: statsmodels>=0.9.0 in /usr/local/lib/python3.6/dist-packages (from category_encoders) (0.10.2)\n",
      "Requirement already satisfied: numpy>=1.14.0 in /usr/local/lib/python3.6/dist-packages (from category_encoders) (1.18.5)\n",
      "Requirement already satisfied: pandas>=0.21.1 in /usr/local/lib/python3.6/dist-packages (from category_encoders) (1.0.4)\n",
      "Requirement already satisfied: patsy>=0.5.1 in /usr/local/lib/python3.6/dist-packages (from category_encoders) (0.5.1)\n",
      "Requirement already satisfied: scikit-learn>=0.20.0 in /usr/local/lib/python3.6/dist-packages (from category_encoders) (0.22.2.post1)\n",
      "Requirement already satisfied: scipy>=1.0.0 in /usr/local/lib/python3.6/dist-packages (from category_encoders) (1.4.1)\n",
      "Requirement already satisfied: pytz>=2017.2 in /usr/local/lib/python3.6/dist-packages (from pandas>=0.21.1->category_encoders) (2018.9)\n",
      "Requirement already satisfied: python-dateutil>=2.6.1 in /usr/local/lib/python3.6/dist-packages (from pandas>=0.21.1->category_encoders) (2.8.1)\n",
      "Requirement already satisfied: six in /usr/local/lib/python3.6/dist-packages (from patsy>=0.5.1->category_encoders) (1.12.0)\n",
      "Requirement already satisfied: joblib>=0.11 in /usr/local/lib/python3.6/dist-packages (from scikit-learn>=0.20.0->category_encoders) (0.15.1)\n",
      "Installing collected packages: category-encoders\n",
      "Successfully installed category-encoders-2.2.2\n"
     ]
    }
   ],
   "source": [
    "!pip install category_encoders"
   ]
  },
  {
   "cell_type": "code",
   "execution_count": 0,
   "metadata": {
    "colab": {},
    "colab_type": "code",
    "id": "f1f4StBzXWK5"
   },
   "outputs": [],
   "source": [
    "from category_encoders import BinaryEncoder"
   ]
  },
  {
   "cell_type": "code",
   "execution_count": 52,
   "metadata": {
    "colab": {
     "base_uri": "https://localhost:8080/",
     "height": 275
    },
    "colab_type": "code",
    "id": "1kclC57KRIfR",
    "outputId": "d8433f42-c1b3-4dfb-a201-a0d94c45ca5f"
   },
   "outputs": [
    {
     "data": {
      "text/html": [
       "<div>\n",
       "<style scoped>\n",
       "    .dataframe tbody tr th:only-of-type {\n",
       "        vertical-align: middle;\n",
       "    }\n",
       "\n",
       "    .dataframe tbody tr th {\n",
       "        vertical-align: top;\n",
       "    }\n",
       "\n",
       "    .dataframe thead th {\n",
       "        text-align: right;\n",
       "    }\n",
       "</style>\n",
       "<table border=\"1\" class=\"dataframe\">\n",
       "  <thead>\n",
       "    <tr style=\"text-align: right;\">\n",
       "      <th></th>\n",
       "      <th>bin_3</th>\n",
       "      <th>bin_4</th>\n",
       "      <th>nom_0</th>\n",
       "      <th>nom_1</th>\n",
       "      <th>nom_2</th>\n",
       "      <th>nom_3</th>\n",
       "      <th>nom_4</th>\n",
       "      <th>nom_5</th>\n",
       "      <th>nom_6</th>\n",
       "      <th>nom_7</th>\n",
       "      <th>nom_8</th>\n",
       "      <th>nom_9</th>\n",
       "      <th>ord_1</th>\n",
       "      <th>ord_2</th>\n",
       "      <th>ord_3</th>\n",
       "      <th>ord_4</th>\n",
       "      <th>ord_5</th>\n",
       "      <th>label_bin_3</th>\n",
       "      <th>label_bin_4</th>\n",
       "      <th>nom_0__Green</th>\n",
       "      <th>nom_0__Red</th>\n",
       "      <th>nom_1__Polygon</th>\n",
       "      <th>nom_1__Square</th>\n",
       "      <th>nom_1__Star</th>\n",
       "      <th>nom_1__Trapezoid</th>\n",
       "      <th>nom_1__Triangle</th>\n",
       "      <th>nom_2__Cat</th>\n",
       "      <th>nom_2__Dog</th>\n",
       "      <th>nom_2__Hamster</th>\n",
       "      <th>nom_2__Lion</th>\n",
       "      <th>nom_2__Snake</th>\n",
       "      <th>nom_3__China</th>\n",
       "      <th>nom_3__Costa Rica</th>\n",
       "      <th>nom_3__Finland</th>\n",
       "      <th>nom_3__India</th>\n",
       "      <th>nom_3__Russia</th>\n",
       "      <th>nom_4__Oboe</th>\n",
       "      <th>nom_4__Piano</th>\n",
       "      <th>nom_4__Theremin</th>\n",
       "    </tr>\n",
       "  </thead>\n",
       "  <tbody>\n",
       "    <tr>\n",
       "      <th>0</th>\n",
       "      <td>F</td>\n",
       "      <td>N</td>\n",
       "      <td>Red</td>\n",
       "      <td>Trapezoid</td>\n",
       "      <td>Hamster</td>\n",
       "      <td>Russia</td>\n",
       "      <td>Bassoon</td>\n",
       "      <td>de4c57ee2</td>\n",
       "      <td>a64bc7ddf</td>\n",
       "      <td>598080a91</td>\n",
       "      <td>0256c7a4b</td>\n",
       "      <td>02e7c8990</td>\n",
       "      <td>Contributor</td>\n",
       "      <td>Hot</td>\n",
       "      <td>c</td>\n",
       "      <td>U</td>\n",
       "      <td>Pw</td>\n",
       "      <td>0</td>\n",
       "      <td>0</td>\n",
       "      <td>0</td>\n",
       "      <td>1</td>\n",
       "      <td>0</td>\n",
       "      <td>0</td>\n",
       "      <td>0</td>\n",
       "      <td>1</td>\n",
       "      <td>0</td>\n",
       "      <td>0</td>\n",
       "      <td>0</td>\n",
       "      <td>1</td>\n",
       "      <td>0</td>\n",
       "      <td>0</td>\n",
       "      <td>0</td>\n",
       "      <td>0</td>\n",
       "      <td>0</td>\n",
       "      <td>0</td>\n",
       "      <td>1</td>\n",
       "      <td>0</td>\n",
       "      <td>0</td>\n",
       "      <td>0</td>\n",
       "    </tr>\n",
       "    <tr>\n",
       "      <th>6</th>\n",
       "      <td>F</td>\n",
       "      <td>N</td>\n",
       "      <td>Red</td>\n",
       "      <td>Triangle</td>\n",
       "      <td>Hamster</td>\n",
       "      <td>Costa Rica</td>\n",
       "      <td>Bassoon</td>\n",
       "      <td>87a5be0d7</td>\n",
       "      <td>cdc35bd00</td>\n",
       "      <td>1cba571fa</td>\n",
       "      <td>b8e63cace</td>\n",
       "      <td>4d3766412</td>\n",
       "      <td>Grandmaster</td>\n",
       "      <td>Cold</td>\n",
       "      <td>c</td>\n",
       "      <td>R</td>\n",
       "      <td>rg</td>\n",
       "      <td>0</td>\n",
       "      <td>0</td>\n",
       "      <td>0</td>\n",
       "      <td>1</td>\n",
       "      <td>0</td>\n",
       "      <td>0</td>\n",
       "      <td>0</td>\n",
       "      <td>0</td>\n",
       "      <td>1</td>\n",
       "      <td>0</td>\n",
       "      <td>0</td>\n",
       "      <td>1</td>\n",
       "      <td>0</td>\n",
       "      <td>0</td>\n",
       "      <td>0</td>\n",
       "      <td>1</td>\n",
       "      <td>0</td>\n",
       "      <td>0</td>\n",
       "      <td>0</td>\n",
       "      <td>0</td>\n",
       "      <td>0</td>\n",
       "      <td>0</td>\n",
       "    </tr>\n",
       "    <tr>\n",
       "      <th>7</th>\n",
       "      <td>T</td>\n",
       "      <td>N</td>\n",
       "      <td>Red</td>\n",
       "      <td>Triangle</td>\n",
       "      <td>Axolotl</td>\n",
       "      <td>Finland</td>\n",
       "      <td>Bassoon</td>\n",
       "      <td>104aee31d</td>\n",
       "      <td>2a50808ba</td>\n",
       "      <td>81d67e1bb</td>\n",
       "      <td>bd9643a20</td>\n",
       "      <td>a651dec43</td>\n",
       "      <td>Expert</td>\n",
       "      <td>Cold</td>\n",
       "      <td>b</td>\n",
       "      <td>Y</td>\n",
       "      <td>PS</td>\n",
       "      <td>1</td>\n",
       "      <td>0</td>\n",
       "      <td>0</td>\n",
       "      <td>1</td>\n",
       "      <td>0</td>\n",
       "      <td>0</td>\n",
       "      <td>0</td>\n",
       "      <td>0</td>\n",
       "      <td>1</td>\n",
       "      <td>0</td>\n",
       "      <td>0</td>\n",
       "      <td>0</td>\n",
       "      <td>0</td>\n",
       "      <td>0</td>\n",
       "      <td>0</td>\n",
       "      <td>0</td>\n",
       "      <td>1</td>\n",
       "      <td>0</td>\n",
       "      <td>0</td>\n",
       "      <td>0</td>\n",
       "      <td>0</td>\n",
       "      <td>0</td>\n",
       "    </tr>\n",
       "    <tr>\n",
       "      <th>10</th>\n",
       "      <td>T</td>\n",
       "      <td>Y</td>\n",
       "      <td>Blue</td>\n",
       "      <td>Triangle</td>\n",
       "      <td>Hamster</td>\n",
       "      <td>Finland</td>\n",
       "      <td>Bassoon</td>\n",
       "      <td>8bd03e713</td>\n",
       "      <td>0d8c9ee63</td>\n",
       "      <td>93360bbc9</td>\n",
       "      <td>28869f8aa</td>\n",
       "      <td>9bfe3ee22</td>\n",
       "      <td>Novice</td>\n",
       "      <td>Hot</td>\n",
       "      <td>b</td>\n",
       "      <td>O</td>\n",
       "      <td>hG</td>\n",
       "      <td>1</td>\n",
       "      <td>1</td>\n",
       "      <td>0</td>\n",
       "      <td>0</td>\n",
       "      <td>0</td>\n",
       "      <td>0</td>\n",
       "      <td>0</td>\n",
       "      <td>0</td>\n",
       "      <td>1</td>\n",
       "      <td>0</td>\n",
       "      <td>0</td>\n",
       "      <td>1</td>\n",
       "      <td>0</td>\n",
       "      <td>0</td>\n",
       "      <td>0</td>\n",
       "      <td>0</td>\n",
       "      <td>1</td>\n",
       "      <td>0</td>\n",
       "      <td>0</td>\n",
       "      <td>0</td>\n",
       "      <td>0</td>\n",
       "      <td>0</td>\n",
       "    </tr>\n",
       "    <tr>\n",
       "      <th>11</th>\n",
       "      <td>F</td>\n",
       "      <td>Y</td>\n",
       "      <td>Red</td>\n",
       "      <td>Square</td>\n",
       "      <td>Hamster</td>\n",
       "      <td>Costa Rica</td>\n",
       "      <td>Oboe</td>\n",
       "      <td>b574c9841</td>\n",
       "      <td>494b565c1</td>\n",
       "      <td>088aace2d</td>\n",
       "      <td>74a092964</td>\n",
       "      <td>6c73b62e4</td>\n",
       "      <td>Contributor</td>\n",
       "      <td>Hot</td>\n",
       "      <td>b</td>\n",
       "      <td>M</td>\n",
       "      <td>xF</td>\n",
       "      <td>0</td>\n",
       "      <td>1</td>\n",
       "      <td>0</td>\n",
       "      <td>1</td>\n",
       "      <td>0</td>\n",
       "      <td>1</td>\n",
       "      <td>0</td>\n",
       "      <td>0</td>\n",
       "      <td>0</td>\n",
       "      <td>0</td>\n",
       "      <td>0</td>\n",
       "      <td>1</td>\n",
       "      <td>0</td>\n",
       "      <td>0</td>\n",
       "      <td>0</td>\n",
       "      <td>1</td>\n",
       "      <td>0</td>\n",
       "      <td>0</td>\n",
       "      <td>0</td>\n",
       "      <td>1</td>\n",
       "      <td>0</td>\n",
       "      <td>0</td>\n",
       "    </tr>\n",
       "  </tbody>\n",
       "</table>\n",
       "</div>"
      ],
      "text/plain": [
       "   bin_3 bin_4 nom_0      nom_1    nom_2       nom_3    nom_4      nom_5  \\\n",
       "0      F     N   Red  Trapezoid  Hamster      Russia  Bassoon  de4c57ee2   \n",
       "6      F     N   Red   Triangle  Hamster  Costa Rica  Bassoon  87a5be0d7   \n",
       "7      T     N   Red   Triangle  Axolotl     Finland  Bassoon  104aee31d   \n",
       "10     T     Y  Blue   Triangle  Hamster     Finland  Bassoon  8bd03e713   \n",
       "11     F     Y   Red     Square  Hamster  Costa Rica     Oboe  b574c9841   \n",
       "\n",
       "        nom_6      nom_7      nom_8      nom_9        ord_1 ord_2 ord_3 ord_4  \\\n",
       "0   a64bc7ddf  598080a91  0256c7a4b  02e7c8990  Contributor   Hot     c     U   \n",
       "6   cdc35bd00  1cba571fa  b8e63cace  4d3766412  Grandmaster  Cold     c     R   \n",
       "7   2a50808ba  81d67e1bb  bd9643a20  a651dec43       Expert  Cold     b     Y   \n",
       "10  0d8c9ee63  93360bbc9  28869f8aa  9bfe3ee22       Novice   Hot     b     O   \n",
       "11  494b565c1  088aace2d  74a092964  6c73b62e4  Contributor   Hot     b     M   \n",
       "\n",
       "   ord_5  label_bin_3  label_bin_4  nom_0__Green  nom_0__Red  nom_1__Polygon  \\\n",
       "0     Pw            0            0             0           1               0   \n",
       "6     rg            0            0             0           1               0   \n",
       "7     PS            1            0             0           1               0   \n",
       "10    hG            1            1             0           0               0   \n",
       "11    xF            0            1             0           1               0   \n",
       "\n",
       "    nom_1__Square  nom_1__Star  nom_1__Trapezoid  nom_1__Triangle  nom_2__Cat  \\\n",
       "0               0            0                 1                0           0   \n",
       "6               0            0                 0                1           0   \n",
       "7               0            0                 0                1           0   \n",
       "10              0            0                 0                1           0   \n",
       "11              1            0                 0                0           0   \n",
       "\n",
       "    nom_2__Dog  nom_2__Hamster  nom_2__Lion  nom_2__Snake  nom_3__China  \\\n",
       "0            0               1            0             0             0   \n",
       "6            0               1            0             0             0   \n",
       "7            0               0            0             0             0   \n",
       "10           0               1            0             0             0   \n",
       "11           0               1            0             0             0   \n",
       "\n",
       "    nom_3__Costa Rica  nom_3__Finland  nom_3__India  nom_3__Russia  \\\n",
       "0                   0               0             0              1   \n",
       "6                   1               0             0              0   \n",
       "7                   0               1             0              0   \n",
       "10                  0               1             0              0   \n",
       "11                  1               0             0              0   \n",
       "\n",
       "    nom_4__Oboe  nom_4__Piano  nom_4__Theremin  \n",
       "0             0             0                0  \n",
       "6             0             0                0  \n",
       "7             0             0                0  \n",
       "10            0             0                0  \n",
       "11            1             0                0  "
      ]
     },
     "execution_count": 52,
     "metadata": {
      "tags": []
     },
     "output_type": "execute_result"
    }
   ],
   "source": [
    "cat_data.head()"
   ]
  },
  {
   "cell_type": "code",
   "execution_count": 0,
   "metadata": {
    "colab": {},
    "colab_type": "code",
    "id": "uefK-5i6XWK8"
   },
   "outputs": [],
   "source": [
    "be = BinaryEncoder(cols=['nom_5', 'nom_6', 'nom_7', 'nom_8', 'nom_9'], drop_invariant=True)\n",
    "cat_data = be.fit_transform(cat_data)"
   ]
  },
  {
   "cell_type": "markdown",
   "metadata": {
    "colab_type": "text",
    "id": "D_jb-vAmXWK_"
   },
   "source": [
    "#### The Binary encoding and one hot encoding results in sparse features, so we should store them in spare matrix using `scipy.sparse` class"
   ]
  },
  {
   "cell_type": "code",
   "execution_count": 54,
   "metadata": {
    "colab": {
     "base_uri": "https://localhost:8080/",
     "height": 306
    },
    "colab_type": "code",
    "id": "40lcmrxdXWK_",
    "outputId": "5dd43c81-358c-4bce-c8db-0fa4e3b0f8fe"
   },
   "outputs": [
    {
     "data": {
      "text/plain": [
       "(Index(['bin_3', 'bin_4', 'nom_0', 'nom_1', 'nom_2', 'nom_3', 'nom_4',\n",
       "        'nom_5_1', 'nom_5_2', 'nom_5_3', 'nom_5_4', 'nom_5_5', 'nom_5_6',\n",
       "        'nom_5_7', 'nom_5_8', 'nom_5_9', 'nom_5_10', 'nom_5_11', 'nom_6_1',\n",
       "        'nom_6_2', 'nom_6_3', 'nom_6_4', 'nom_6_5', 'nom_6_6', 'nom_6_7',\n",
       "        'nom_6_8', 'nom_6_9', 'nom_6_10', 'nom_6_11', 'nom_7_1', 'nom_7_2',\n",
       "        'nom_7_3', 'nom_7_4', 'nom_7_5', 'nom_7_6', 'nom_7_7', 'nom_7_8',\n",
       "        'nom_8_1', 'nom_8_2', 'nom_8_3', 'nom_8_4', 'nom_8_5', 'nom_8_6',\n",
       "        'nom_8_7', 'nom_8_8', 'nom_9_1', 'nom_9_2', 'nom_9_3', 'nom_9_4',\n",
       "        'nom_9_5', 'nom_9_6', 'nom_9_7', 'nom_9_8', 'nom_9_9', 'nom_9_10',\n",
       "        'nom_9_11', 'nom_9_12', 'ord_1', 'ord_2', 'ord_3', 'ord_4', 'ord_5',\n",
       "        'label_bin_3', 'label_bin_4', 'nom_0__Green', 'nom_0__Red',\n",
       "        'nom_1__Polygon', 'nom_1__Square', 'nom_1__Star', 'nom_1__Trapezoid',\n",
       "        'nom_1__Triangle', 'nom_2__Cat', 'nom_2__Dog', 'nom_2__Hamster',\n",
       "        'nom_2__Lion', 'nom_2__Snake', 'nom_3__China', 'nom_3__Costa Rica',\n",
       "        'nom_3__Finland', 'nom_3__India', 'nom_3__Russia', 'nom_4__Oboe',\n",
       "        'nom_4__Piano', 'nom_4__Theremin'],\n",
       "       dtype='object'), (36877, 84))"
      ]
     },
     "execution_count": 54,
     "metadata": {
      "tags": []
     },
     "output_type": "execute_result"
    }
   ],
   "source": [
    "cat_data.columns, cat_data.shape"
   ]
  },
  {
   "cell_type": "code",
   "execution_count": 55,
   "metadata": {
    "colab": {
     "base_uri": "https://localhost:8080/",
     "height": 153
    },
    "colab_type": "code",
    "id": "Ph64GtLXXWLC",
    "outputId": "5d4b2531-8a6a-4394-fe59-a64553f9fb13",
    "scrolled": true
   },
   "outputs": [
    {
     "data": {
      "text/plain": [
       "bin_3              2\n",
       "bin_4              2\n",
       "nom_0              3\n",
       "                  ..\n",
       "nom_4__Oboe        2\n",
       "nom_4__Piano       2\n",
       "nom_4__Theremin    2\n",
       "Length: 84, dtype: int64"
      ]
     },
     "execution_count": 55,
     "metadata": {
      "tags": []
     },
     "output_type": "execute_result"
    }
   ],
   "source": [
    "cat_data.nunique()"
   ]
  },
  {
   "cell_type": "code",
   "execution_count": 56,
   "metadata": {
    "colab": {
     "base_uri": "https://localhost:8080/",
     "height": 275
    },
    "colab_type": "code",
    "id": "sKJG64K4XWLE",
    "outputId": "c7654bc2-03d0-4036-8ad2-c730f75f173c"
   },
   "outputs": [
    {
     "data": {
      "text/html": [
       "<div>\n",
       "<style scoped>\n",
       "    .dataframe tbody tr th:only-of-type {\n",
       "        vertical-align: middle;\n",
       "    }\n",
       "\n",
       "    .dataframe tbody tr th {\n",
       "        vertical-align: top;\n",
       "    }\n",
       "\n",
       "    .dataframe thead th {\n",
       "        text-align: right;\n",
       "    }\n",
       "</style>\n",
       "<table border=\"1\" class=\"dataframe\">\n",
       "  <thead>\n",
       "    <tr style=\"text-align: right;\">\n",
       "      <th></th>\n",
       "      <th>bin_3</th>\n",
       "      <th>bin_4</th>\n",
       "      <th>nom_0</th>\n",
       "      <th>nom_1</th>\n",
       "      <th>nom_2</th>\n",
       "      <th>nom_3</th>\n",
       "      <th>nom_4</th>\n",
       "      <th>nom_5_1</th>\n",
       "      <th>nom_5_2</th>\n",
       "      <th>nom_5_3</th>\n",
       "      <th>nom_5_4</th>\n",
       "      <th>nom_5_5</th>\n",
       "      <th>nom_5_6</th>\n",
       "      <th>nom_5_7</th>\n",
       "      <th>nom_5_8</th>\n",
       "      <th>nom_5_9</th>\n",
       "      <th>nom_5_10</th>\n",
       "      <th>nom_5_11</th>\n",
       "      <th>nom_6_1</th>\n",
       "      <th>nom_6_2</th>\n",
       "      <th>nom_6_3</th>\n",
       "      <th>nom_6_4</th>\n",
       "      <th>nom_6_5</th>\n",
       "      <th>nom_6_6</th>\n",
       "      <th>nom_6_7</th>\n",
       "      <th>nom_6_8</th>\n",
       "      <th>nom_6_9</th>\n",
       "      <th>nom_6_10</th>\n",
       "      <th>nom_6_11</th>\n",
       "      <th>nom_7_1</th>\n",
       "      <th>nom_7_2</th>\n",
       "      <th>nom_7_3</th>\n",
       "      <th>nom_7_4</th>\n",
       "      <th>nom_7_5</th>\n",
       "      <th>nom_7_6</th>\n",
       "      <th>nom_7_7</th>\n",
       "      <th>nom_7_8</th>\n",
       "      <th>nom_8_1</th>\n",
       "      <th>nom_8_2</th>\n",
       "      <th>nom_8_3</th>\n",
       "      <th>nom_8_4</th>\n",
       "      <th>nom_8_5</th>\n",
       "      <th>nom_8_6</th>\n",
       "      <th>nom_8_7</th>\n",
       "      <th>nom_8_8</th>\n",
       "      <th>nom_9_1</th>\n",
       "      <th>nom_9_2</th>\n",
       "      <th>nom_9_3</th>\n",
       "      <th>nom_9_4</th>\n",
       "      <th>nom_9_5</th>\n",
       "      <th>nom_9_6</th>\n",
       "      <th>nom_9_7</th>\n",
       "      <th>nom_9_8</th>\n",
       "      <th>nom_9_9</th>\n",
       "      <th>nom_9_10</th>\n",
       "      <th>nom_9_11</th>\n",
       "      <th>nom_9_12</th>\n",
       "      <th>ord_1</th>\n",
       "      <th>ord_2</th>\n",
       "      <th>ord_3</th>\n",
       "      <th>ord_4</th>\n",
       "      <th>ord_5</th>\n",
       "      <th>label_bin_3</th>\n",
       "      <th>label_bin_4</th>\n",
       "      <th>nom_0__Green</th>\n",
       "      <th>nom_0__Red</th>\n",
       "      <th>nom_1__Polygon</th>\n",
       "      <th>nom_1__Square</th>\n",
       "      <th>nom_1__Star</th>\n",
       "      <th>nom_1__Trapezoid</th>\n",
       "      <th>nom_1__Triangle</th>\n",
       "      <th>nom_2__Cat</th>\n",
       "      <th>nom_2__Dog</th>\n",
       "      <th>nom_2__Hamster</th>\n",
       "      <th>nom_2__Lion</th>\n",
       "      <th>nom_2__Snake</th>\n",
       "      <th>nom_3__China</th>\n",
       "      <th>nom_3__Costa Rica</th>\n",
       "      <th>nom_3__Finland</th>\n",
       "      <th>nom_3__India</th>\n",
       "      <th>nom_3__Russia</th>\n",
       "      <th>nom_4__Oboe</th>\n",
       "      <th>nom_4__Piano</th>\n",
       "      <th>nom_4__Theremin</th>\n",
       "    </tr>\n",
       "  </thead>\n",
       "  <tbody>\n",
       "    <tr>\n",
       "      <th>0</th>\n",
       "      <td>F</td>\n",
       "      <td>N</td>\n",
       "      <td>Red</td>\n",
       "      <td>Trapezoid</td>\n",
       "      <td>Hamster</td>\n",
       "      <td>Russia</td>\n",
       "      <td>Bassoon</td>\n",
       "      <td>0</td>\n",
       "      <td>0</td>\n",
       "      <td>0</td>\n",
       "      <td>0</td>\n",
       "      <td>0</td>\n",
       "      <td>0</td>\n",
       "      <td>0</td>\n",
       "      <td>0</td>\n",
       "      <td>0</td>\n",
       "      <td>0</td>\n",
       "      <td>1</td>\n",
       "      <td>0</td>\n",
       "      <td>0</td>\n",
       "      <td>0</td>\n",
       "      <td>0</td>\n",
       "      <td>0</td>\n",
       "      <td>0</td>\n",
       "      <td>0</td>\n",
       "      <td>0</td>\n",
       "      <td>0</td>\n",
       "      <td>0</td>\n",
       "      <td>1</td>\n",
       "      <td>0</td>\n",
       "      <td>0</td>\n",
       "      <td>0</td>\n",
       "      <td>0</td>\n",
       "      <td>0</td>\n",
       "      <td>0</td>\n",
       "      <td>0</td>\n",
       "      <td>1</td>\n",
       "      <td>0</td>\n",
       "      <td>0</td>\n",
       "      <td>0</td>\n",
       "      <td>0</td>\n",
       "      <td>0</td>\n",
       "      <td>0</td>\n",
       "      <td>0</td>\n",
       "      <td>1</td>\n",
       "      <td>0</td>\n",
       "      <td>0</td>\n",
       "      <td>0</td>\n",
       "      <td>0</td>\n",
       "      <td>0</td>\n",
       "      <td>0</td>\n",
       "      <td>0</td>\n",
       "      <td>0</td>\n",
       "      <td>0</td>\n",
       "      <td>0</td>\n",
       "      <td>0</td>\n",
       "      <td>1</td>\n",
       "      <td>Contributor</td>\n",
       "      <td>Hot</td>\n",
       "      <td>c</td>\n",
       "      <td>U</td>\n",
       "      <td>Pw</td>\n",
       "      <td>0</td>\n",
       "      <td>0</td>\n",
       "      <td>0</td>\n",
       "      <td>1</td>\n",
       "      <td>0</td>\n",
       "      <td>0</td>\n",
       "      <td>0</td>\n",
       "      <td>1</td>\n",
       "      <td>0</td>\n",
       "      <td>0</td>\n",
       "      <td>0</td>\n",
       "      <td>1</td>\n",
       "      <td>0</td>\n",
       "      <td>0</td>\n",
       "      <td>0</td>\n",
       "      <td>0</td>\n",
       "      <td>0</td>\n",
       "      <td>0</td>\n",
       "      <td>1</td>\n",
       "      <td>0</td>\n",
       "      <td>0</td>\n",
       "      <td>0</td>\n",
       "    </tr>\n",
       "    <tr>\n",
       "      <th>6</th>\n",
       "      <td>F</td>\n",
       "      <td>N</td>\n",
       "      <td>Red</td>\n",
       "      <td>Triangle</td>\n",
       "      <td>Hamster</td>\n",
       "      <td>Costa Rica</td>\n",
       "      <td>Bassoon</td>\n",
       "      <td>0</td>\n",
       "      <td>0</td>\n",
       "      <td>0</td>\n",
       "      <td>0</td>\n",
       "      <td>0</td>\n",
       "      <td>0</td>\n",
       "      <td>0</td>\n",
       "      <td>0</td>\n",
       "      <td>0</td>\n",
       "      <td>1</td>\n",
       "      <td>0</td>\n",
       "      <td>0</td>\n",
       "      <td>0</td>\n",
       "      <td>0</td>\n",
       "      <td>0</td>\n",
       "      <td>0</td>\n",
       "      <td>0</td>\n",
       "      <td>0</td>\n",
       "      <td>0</td>\n",
       "      <td>0</td>\n",
       "      <td>1</td>\n",
       "      <td>0</td>\n",
       "      <td>0</td>\n",
       "      <td>0</td>\n",
       "      <td>0</td>\n",
       "      <td>0</td>\n",
       "      <td>0</td>\n",
       "      <td>0</td>\n",
       "      <td>1</td>\n",
       "      <td>0</td>\n",
       "      <td>0</td>\n",
       "      <td>0</td>\n",
       "      <td>0</td>\n",
       "      <td>0</td>\n",
       "      <td>0</td>\n",
       "      <td>0</td>\n",
       "      <td>1</td>\n",
       "      <td>0</td>\n",
       "      <td>0</td>\n",
       "      <td>0</td>\n",
       "      <td>0</td>\n",
       "      <td>0</td>\n",
       "      <td>0</td>\n",
       "      <td>0</td>\n",
       "      <td>0</td>\n",
       "      <td>0</td>\n",
       "      <td>0</td>\n",
       "      <td>0</td>\n",
       "      <td>1</td>\n",
       "      <td>0</td>\n",
       "      <td>Grandmaster</td>\n",
       "      <td>Cold</td>\n",
       "      <td>c</td>\n",
       "      <td>R</td>\n",
       "      <td>rg</td>\n",
       "      <td>0</td>\n",
       "      <td>0</td>\n",
       "      <td>0</td>\n",
       "      <td>1</td>\n",
       "      <td>0</td>\n",
       "      <td>0</td>\n",
       "      <td>0</td>\n",
       "      <td>0</td>\n",
       "      <td>1</td>\n",
       "      <td>0</td>\n",
       "      <td>0</td>\n",
       "      <td>1</td>\n",
       "      <td>0</td>\n",
       "      <td>0</td>\n",
       "      <td>0</td>\n",
       "      <td>1</td>\n",
       "      <td>0</td>\n",
       "      <td>0</td>\n",
       "      <td>0</td>\n",
       "      <td>0</td>\n",
       "      <td>0</td>\n",
       "      <td>0</td>\n",
       "    </tr>\n",
       "    <tr>\n",
       "      <th>7</th>\n",
       "      <td>T</td>\n",
       "      <td>N</td>\n",
       "      <td>Red</td>\n",
       "      <td>Triangle</td>\n",
       "      <td>Axolotl</td>\n",
       "      <td>Finland</td>\n",
       "      <td>Bassoon</td>\n",
       "      <td>0</td>\n",
       "      <td>0</td>\n",
       "      <td>0</td>\n",
       "      <td>0</td>\n",
       "      <td>0</td>\n",
       "      <td>0</td>\n",
       "      <td>0</td>\n",
       "      <td>0</td>\n",
       "      <td>0</td>\n",
       "      <td>1</td>\n",
       "      <td>1</td>\n",
       "      <td>0</td>\n",
       "      <td>0</td>\n",
       "      <td>0</td>\n",
       "      <td>0</td>\n",
       "      <td>0</td>\n",
       "      <td>0</td>\n",
       "      <td>0</td>\n",
       "      <td>0</td>\n",
       "      <td>0</td>\n",
       "      <td>1</td>\n",
       "      <td>1</td>\n",
       "      <td>0</td>\n",
       "      <td>0</td>\n",
       "      <td>0</td>\n",
       "      <td>0</td>\n",
       "      <td>0</td>\n",
       "      <td>0</td>\n",
       "      <td>1</td>\n",
       "      <td>1</td>\n",
       "      <td>0</td>\n",
       "      <td>0</td>\n",
       "      <td>0</td>\n",
       "      <td>0</td>\n",
       "      <td>0</td>\n",
       "      <td>0</td>\n",
       "      <td>1</td>\n",
       "      <td>1</td>\n",
       "      <td>0</td>\n",
       "      <td>0</td>\n",
       "      <td>0</td>\n",
       "      <td>0</td>\n",
       "      <td>0</td>\n",
       "      <td>0</td>\n",
       "      <td>0</td>\n",
       "      <td>0</td>\n",
       "      <td>0</td>\n",
       "      <td>0</td>\n",
       "      <td>1</td>\n",
       "      <td>1</td>\n",
       "      <td>Expert</td>\n",
       "      <td>Cold</td>\n",
       "      <td>b</td>\n",
       "      <td>Y</td>\n",
       "      <td>PS</td>\n",
       "      <td>1</td>\n",
       "      <td>0</td>\n",
       "      <td>0</td>\n",
       "      <td>1</td>\n",
       "      <td>0</td>\n",
       "      <td>0</td>\n",
       "      <td>0</td>\n",
       "      <td>0</td>\n",
       "      <td>1</td>\n",
       "      <td>0</td>\n",
       "      <td>0</td>\n",
       "      <td>0</td>\n",
       "      <td>0</td>\n",
       "      <td>0</td>\n",
       "      <td>0</td>\n",
       "      <td>0</td>\n",
       "      <td>1</td>\n",
       "      <td>0</td>\n",
       "      <td>0</td>\n",
       "      <td>0</td>\n",
       "      <td>0</td>\n",
       "      <td>0</td>\n",
       "    </tr>\n",
       "    <tr>\n",
       "      <th>10</th>\n",
       "      <td>T</td>\n",
       "      <td>Y</td>\n",
       "      <td>Blue</td>\n",
       "      <td>Triangle</td>\n",
       "      <td>Hamster</td>\n",
       "      <td>Finland</td>\n",
       "      <td>Bassoon</td>\n",
       "      <td>0</td>\n",
       "      <td>0</td>\n",
       "      <td>0</td>\n",
       "      <td>0</td>\n",
       "      <td>0</td>\n",
       "      <td>0</td>\n",
       "      <td>0</td>\n",
       "      <td>0</td>\n",
       "      <td>1</td>\n",
       "      <td>0</td>\n",
       "      <td>0</td>\n",
       "      <td>0</td>\n",
       "      <td>0</td>\n",
       "      <td>0</td>\n",
       "      <td>0</td>\n",
       "      <td>0</td>\n",
       "      <td>0</td>\n",
       "      <td>0</td>\n",
       "      <td>0</td>\n",
       "      <td>1</td>\n",
       "      <td>0</td>\n",
       "      <td>0</td>\n",
       "      <td>0</td>\n",
       "      <td>0</td>\n",
       "      <td>0</td>\n",
       "      <td>0</td>\n",
       "      <td>0</td>\n",
       "      <td>1</td>\n",
       "      <td>0</td>\n",
       "      <td>0</td>\n",
       "      <td>0</td>\n",
       "      <td>0</td>\n",
       "      <td>0</td>\n",
       "      <td>0</td>\n",
       "      <td>0</td>\n",
       "      <td>1</td>\n",
       "      <td>0</td>\n",
       "      <td>0</td>\n",
       "      <td>0</td>\n",
       "      <td>0</td>\n",
       "      <td>0</td>\n",
       "      <td>0</td>\n",
       "      <td>0</td>\n",
       "      <td>0</td>\n",
       "      <td>0</td>\n",
       "      <td>0</td>\n",
       "      <td>0</td>\n",
       "      <td>1</td>\n",
       "      <td>0</td>\n",
       "      <td>0</td>\n",
       "      <td>Novice</td>\n",
       "      <td>Hot</td>\n",
       "      <td>b</td>\n",
       "      <td>O</td>\n",
       "      <td>hG</td>\n",
       "      <td>1</td>\n",
       "      <td>1</td>\n",
       "      <td>0</td>\n",
       "      <td>0</td>\n",
       "      <td>0</td>\n",
       "      <td>0</td>\n",
       "      <td>0</td>\n",
       "      <td>0</td>\n",
       "      <td>1</td>\n",
       "      <td>0</td>\n",
       "      <td>0</td>\n",
       "      <td>1</td>\n",
       "      <td>0</td>\n",
       "      <td>0</td>\n",
       "      <td>0</td>\n",
       "      <td>0</td>\n",
       "      <td>1</td>\n",
       "      <td>0</td>\n",
       "      <td>0</td>\n",
       "      <td>0</td>\n",
       "      <td>0</td>\n",
       "      <td>0</td>\n",
       "    </tr>\n",
       "    <tr>\n",
       "      <th>11</th>\n",
       "      <td>F</td>\n",
       "      <td>Y</td>\n",
       "      <td>Red</td>\n",
       "      <td>Square</td>\n",
       "      <td>Hamster</td>\n",
       "      <td>Costa Rica</td>\n",
       "      <td>Oboe</td>\n",
       "      <td>0</td>\n",
       "      <td>0</td>\n",
       "      <td>0</td>\n",
       "      <td>0</td>\n",
       "      <td>0</td>\n",
       "      <td>0</td>\n",
       "      <td>0</td>\n",
       "      <td>0</td>\n",
       "      <td>1</td>\n",
       "      <td>0</td>\n",
       "      <td>1</td>\n",
       "      <td>0</td>\n",
       "      <td>0</td>\n",
       "      <td>0</td>\n",
       "      <td>0</td>\n",
       "      <td>0</td>\n",
       "      <td>0</td>\n",
       "      <td>0</td>\n",
       "      <td>0</td>\n",
       "      <td>1</td>\n",
       "      <td>0</td>\n",
       "      <td>1</td>\n",
       "      <td>0</td>\n",
       "      <td>0</td>\n",
       "      <td>0</td>\n",
       "      <td>0</td>\n",
       "      <td>0</td>\n",
       "      <td>1</td>\n",
       "      <td>0</td>\n",
       "      <td>1</td>\n",
       "      <td>0</td>\n",
       "      <td>0</td>\n",
       "      <td>0</td>\n",
       "      <td>0</td>\n",
       "      <td>0</td>\n",
       "      <td>1</td>\n",
       "      <td>0</td>\n",
       "      <td>1</td>\n",
       "      <td>0</td>\n",
       "      <td>0</td>\n",
       "      <td>0</td>\n",
       "      <td>0</td>\n",
       "      <td>0</td>\n",
       "      <td>0</td>\n",
       "      <td>0</td>\n",
       "      <td>0</td>\n",
       "      <td>0</td>\n",
       "      <td>1</td>\n",
       "      <td>0</td>\n",
       "      <td>1</td>\n",
       "      <td>Contributor</td>\n",
       "      <td>Hot</td>\n",
       "      <td>b</td>\n",
       "      <td>M</td>\n",
       "      <td>xF</td>\n",
       "      <td>0</td>\n",
       "      <td>1</td>\n",
       "      <td>0</td>\n",
       "      <td>1</td>\n",
       "      <td>0</td>\n",
       "      <td>1</td>\n",
       "      <td>0</td>\n",
       "      <td>0</td>\n",
       "      <td>0</td>\n",
       "      <td>0</td>\n",
       "      <td>0</td>\n",
       "      <td>1</td>\n",
       "      <td>0</td>\n",
       "      <td>0</td>\n",
       "      <td>0</td>\n",
       "      <td>1</td>\n",
       "      <td>0</td>\n",
       "      <td>0</td>\n",
       "      <td>0</td>\n",
       "      <td>1</td>\n",
       "      <td>0</td>\n",
       "      <td>0</td>\n",
       "    </tr>\n",
       "  </tbody>\n",
       "</table>\n",
       "</div>"
      ],
      "text/plain": [
       "   bin_3 bin_4 nom_0      nom_1    nom_2       nom_3    nom_4  nom_5_1  \\\n",
       "0      F     N   Red  Trapezoid  Hamster      Russia  Bassoon        0   \n",
       "6      F     N   Red   Triangle  Hamster  Costa Rica  Bassoon        0   \n",
       "7      T     N   Red   Triangle  Axolotl     Finland  Bassoon        0   \n",
       "10     T     Y  Blue   Triangle  Hamster     Finland  Bassoon        0   \n",
       "11     F     Y   Red     Square  Hamster  Costa Rica     Oboe        0   \n",
       "\n",
       "    nom_5_2  nom_5_3  nom_5_4  nom_5_5  nom_5_6  nom_5_7  nom_5_8  nom_5_9  \\\n",
       "0         0        0        0        0        0        0        0        0   \n",
       "6         0        0        0        0        0        0        0        0   \n",
       "7         0        0        0        0        0        0        0        0   \n",
       "10        0        0        0        0        0        0        0        1   \n",
       "11        0        0        0        0        0        0        0        1   \n",
       "\n",
       "    nom_5_10  nom_5_11  nom_6_1  nom_6_2  nom_6_3  nom_6_4  nom_6_5  nom_6_6  \\\n",
       "0          0         1        0        0        0        0        0        0   \n",
       "6          1         0        0        0        0        0        0        0   \n",
       "7          1         1        0        0        0        0        0        0   \n",
       "10         0         0        0        0        0        0        0        0   \n",
       "11         0         1        0        0        0        0        0        0   \n",
       "\n",
       "    nom_6_7  nom_6_8  nom_6_9  nom_6_10  nom_6_11  nom_7_1  nom_7_2  nom_7_3  \\\n",
       "0         0        0        0         0         1        0        0        0   \n",
       "6         0        0        0         1         0        0        0        0   \n",
       "7         0        0        0         1         1        0        0        0   \n",
       "10        0        0        1         0         0        0        0        0   \n",
       "11        0        0        1         0         1        0        0        0   \n",
       "\n",
       "    nom_7_4  nom_7_5  nom_7_6  nom_7_7  nom_7_8  nom_8_1  nom_8_2  nom_8_3  \\\n",
       "0         0        0        0        0        1        0        0        0   \n",
       "6         0        0        0        1        0        0        0        0   \n",
       "7         0        0        0        1        1        0        0        0   \n",
       "10        0        0        1        0        0        0        0        0   \n",
       "11        0        0        1        0        1        0        0        0   \n",
       "\n",
       "    nom_8_4  nom_8_5  nom_8_6  nom_8_7  nom_8_8  nom_9_1  nom_9_2  nom_9_3  \\\n",
       "0         0        0        0        0        1        0        0        0   \n",
       "6         0        0        0        1        0        0        0        0   \n",
       "7         0        0        0        1        1        0        0        0   \n",
       "10        0        0        1        0        0        0        0        0   \n",
       "11        0        0        1        0        1        0        0        0   \n",
       "\n",
       "    nom_9_4  nom_9_5  nom_9_6  nom_9_7  nom_9_8  nom_9_9  nom_9_10  nom_9_11  \\\n",
       "0         0        0        0        0        0        0         0         0   \n",
       "6         0        0        0        0        0        0         0         1   \n",
       "7         0        0        0        0        0        0         0         1   \n",
       "10        0        0        0        0        0        0         1         0   \n",
       "11        0        0        0        0        0        0         1         0   \n",
       "\n",
       "    nom_9_12        ord_1 ord_2 ord_3 ord_4 ord_5  label_bin_3  label_bin_4  \\\n",
       "0          1  Contributor   Hot     c     U    Pw            0            0   \n",
       "6          0  Grandmaster  Cold     c     R    rg            0            0   \n",
       "7          1       Expert  Cold     b     Y    PS            1            0   \n",
       "10         0       Novice   Hot     b     O    hG            1            1   \n",
       "11         1  Contributor   Hot     b     M    xF            0            1   \n",
       "\n",
       "    nom_0__Green  nom_0__Red  nom_1__Polygon  nom_1__Square  nom_1__Star  \\\n",
       "0              0           1               0              0            0   \n",
       "6              0           1               0              0            0   \n",
       "7              0           1               0              0            0   \n",
       "10             0           0               0              0            0   \n",
       "11             0           1               0              1            0   \n",
       "\n",
       "    nom_1__Trapezoid  nom_1__Triangle  nom_2__Cat  nom_2__Dog  nom_2__Hamster  \\\n",
       "0                  1                0           0           0               1   \n",
       "6                  0                1           0           0               1   \n",
       "7                  0                1           0           0               0   \n",
       "10                 0                1           0           0               1   \n",
       "11                 0                0           0           0               1   \n",
       "\n",
       "    nom_2__Lion  nom_2__Snake  nom_3__China  nom_3__Costa Rica  \\\n",
       "0             0             0             0                  0   \n",
       "6             0             0             0                  1   \n",
       "7             0             0             0                  0   \n",
       "10            0             0             0                  0   \n",
       "11            0             0             0                  1   \n",
       "\n",
       "    nom_3__Finland  nom_3__India  nom_3__Russia  nom_4__Oboe  nom_4__Piano  \\\n",
       "0                0             0              1            0             0   \n",
       "6                0             0              0            0             0   \n",
       "7                1             0              0            0             0   \n",
       "10               1             0              0            0             0   \n",
       "11               0             0              0            1             0   \n",
       "\n",
       "    nom_4__Theremin  \n",
       "0                 0  \n",
       "6                 0  \n",
       "7                 0  \n",
       "10                0  \n",
       "11                0  "
      ]
     },
     "execution_count": 56,
     "metadata": {
      "tags": []
     },
     "output_type": "execute_result"
    }
   ],
   "source": [
    "cat_data.head()"
   ]
  },
  {
   "cell_type": "markdown",
   "metadata": {
    "colab_type": "text",
    "id": "jj8OFPBZXWLG"
   },
   "source": [
    "#### Encoding ord_1 column"
   ]
  },
  {
   "cell_type": "code",
   "execution_count": 57,
   "metadata": {
    "colab": {
     "base_uri": "https://localhost:8080/",
     "height": 51
    },
    "colab_type": "code",
    "id": "jEAP6zMgXWLG",
    "outputId": "c8801463-de60-4a7a-db6d-cf5302ccd548"
   },
   "outputs": [
    {
     "data": {
      "text/plain": [
       "array(['Contributor', 'Grandmaster', 'Expert', 'Novice', 'Master'],\n",
       "      dtype=object)"
      ]
     },
     "execution_count": 57,
     "metadata": {
      "tags": []
     },
     "output_type": "execute_result"
    }
   ],
   "source": [
    "cat_data['ord_1'].unique()"
   ]
  },
  {
   "cell_type": "code",
   "execution_count": 0,
   "metadata": {
    "colab": {},
    "colab_type": "code",
    "id": "8FZoulBnXWLJ"
   },
   "outputs": [],
   "source": [
    "cat_data['ord_1_label'] = cat_data['ord_1'].map({'Novice':  0, 'Contributor': 1, 'Expert': 2, 'Master': 3, 'Grandmaster': 4})"
   ]
  },
  {
   "cell_type": "markdown",
   "metadata": {
    "colab_type": "text",
    "id": "NHhQLYNEXWLL"
   },
   "source": [
    "#### Encoding ord_2 column"
   ]
  },
  {
   "cell_type": "code",
   "execution_count": 59,
   "metadata": {
    "colab": {
     "base_uri": "https://localhost:8080/",
     "height": 51
    },
    "colab_type": "code",
    "id": "fV4GmQ3QXWLN",
    "outputId": "48ce6639-326d-4517-acba-3087a1a15b73"
   },
   "outputs": [
    {
     "data": {
      "text/plain": [
       "array(['Hot', 'Cold', 'Lava Hot', 'Freezing', 'Boiling Hot', 'Warm'],\n",
       "      dtype=object)"
      ]
     },
     "execution_count": 59,
     "metadata": {
      "tags": []
     },
     "output_type": "execute_result"
    }
   ],
   "source": [
    "cat_data['ord_2'].unique()"
   ]
  },
  {
   "cell_type": "code",
   "execution_count": 0,
   "metadata": {
    "colab": {},
    "colab_type": "code",
    "id": "ZMY5_18jXWLP"
   },
   "outputs": [],
   "source": [
    "cat_data['ord_2_label'] = cat_data['ord_2'].map({'Freezing':  0, 'Cold': 1, 'Warm': 2, 'Hot': 3, 'Boiling Hot': 4, 'Lava Hot': 5})"
   ]
  },
  {
   "cell_type": "markdown",
   "metadata": {
    "colab_type": "text",
    "id": "3Q_bswvlXWLR"
   },
   "source": [
    "#### Encoding ord_3 column"
   ]
  },
  {
   "cell_type": "code",
   "execution_count": 61,
   "metadata": {
    "colab": {
     "base_uri": "https://localhost:8080/",
     "height": 51
    },
    "colab_type": "code",
    "id": "wu-K4U96XWLR",
    "outputId": "8f6594ac-9b8a-4f16-9811-a91dea7c5c70"
   },
   "outputs": [
    {
     "data": {
      "text/plain": [
       "array(['c', 'b', 'h', 'n', 'm', 'o', 'a', 'k', 'd', 'e', 'f', 'g', 'i',\n",
       "       'j', 'l'], dtype=object)"
      ]
     },
     "execution_count": 61,
     "metadata": {
      "tags": []
     },
     "output_type": "execute_result"
    }
   ],
   "source": [
    "cat_data['ord_3'].unique()"
   ]
  },
  {
   "cell_type": "code",
   "execution_count": 0,
   "metadata": {
    "colab": {},
    "colab_type": "code",
    "id": "BPqi7dYWXWLT"
   },
   "outputs": [],
   "source": [
    "cat_data['ord_3_label'] = label_encoder.fit_transform(cat_data['ord_3'])"
   ]
  },
  {
   "cell_type": "markdown",
   "metadata": {
    "colab_type": "text",
    "id": "_M3GJClwXWLV"
   },
   "source": [
    "#### Encoding ord_4 column"
   ]
  },
  {
   "cell_type": "code",
   "execution_count": 63,
   "metadata": {
    "colab": {
     "base_uri": "https://localhost:8080/",
     "height": 68
    },
    "colab_type": "code",
    "id": "baQzizvaXWLV",
    "outputId": "abe84a6b-02bc-4eb2-9321-558b305ce88d"
   },
   "outputs": [
    {
     "data": {
      "text/plain": [
       "array(['U', 'R', 'Y', 'O', 'M', 'C', 'E', 'N', 'B', 'Q', 'T', 'A', 'X',\n",
       "       'H', 'I', 'F', 'P', 'W', 'D', 'K', 'S', 'L', 'J', 'G', 'Z', 'V'],\n",
       "      dtype=object)"
      ]
     },
     "execution_count": 63,
     "metadata": {
      "tags": []
     },
     "output_type": "execute_result"
    }
   ],
   "source": [
    "cat_data['ord_4'].unique()"
   ]
  },
  {
   "cell_type": "code",
   "execution_count": 0,
   "metadata": {
    "colab": {},
    "colab_type": "code",
    "id": "1okBH5h9XWLX"
   },
   "outputs": [],
   "source": [
    "cat_data['ord_4_label'] = label_encoder.fit_transform(cat_data['ord_4'])"
   ]
  },
  {
   "cell_type": "markdown",
   "metadata": {
    "colab_type": "text",
    "id": "nsovRvmYXWLY"
   },
   "source": [
    "#### Encoding ord_5 column"
   ]
  },
  {
   "cell_type": "code",
   "execution_count": 65,
   "metadata": {
    "colab": {
     "base_uri": "https://localhost:8080/",
     "height": 323
    },
    "colab_type": "code",
    "id": "viPxPtmUXWLZ",
    "outputId": "d82c1ee9-3988-4eef-d4e8-185c51c770eb"
   },
   "outputs": [
    {
     "data": {
      "text/plain": [
       "array(['Pw', 'rg', 'PS', 'hG', 'xF', 'Nh', 'RV', 'iS', 'Ib', 'nS', 'sf',\n",
       "       'Fl', 'US', 'RD', 'oI', 'DN', 'IS', 'vq', 'eN', 'wa', 'mi', 'th',\n",
       "       'Ey', 'Mg', 'Dj', 'dh', 'TH', 'SS', 'tT', 'Wr', 'rM', 'Pk', 'UV',\n",
       "       'RT', 'ok', 'oh', 'JT', 'XC', 'lA', 'XM', 'mo', 'AG', 'Bx', 'MV',\n",
       "       'Rj', 'Iq', 'LS', 'vx', 'MX', 'BX', 'us', 'Hk', 'ly', 'nj', 'TZ',\n",
       "       'oJ', 'aE', 'rA', 'Ji', 'qN', 'OZ', 'gL', 'kT', 'iv', 'be', 'XR',\n",
       "       'Rv', 'nn', 'EC', 'sc', 'AU', 'pB', 'ur', 'DR', 'jf', 'Rz', 'AW',\n",
       "       'In', 'Kq', 'cY', 'uZ', 'rl', 'ze', 'zc', 'Tz', 'Sz', 'XU', 'TL',\n",
       "       'hT', 'xB', 'LY', 'gj', 'AI', 'cy', 'vw', 'pl', 'ep', 'zp', 'BL',\n",
       "       'sF', 'lS', 'Ay', 'Re', 'mP', 'YJ', 'gc', 'DT', 'cR', 'al', 'qP',\n",
       "       'ne', 'tn', 'xG', 'pE', 'GZ', 'wJ', 'dp', 'OM', 'TP', 'QV', 'lR',\n",
       "       'fV', 'Ox', 'HF', 'WW', 'Ro', 'hx', 'uQ', 'CU', 'fe', 'yE', 'NS',\n",
       "       'pT', 'DI', 'mX', 'Yi', 'Yb', 'Lo', 'yK', 'wU', 'kB', 'HK', 'kv',\n",
       "       'FH', 'IA', 'zf', 'fF', 'Ty', 'oU', 'NT', 'mD', 'aA', 'JQ', 'cg',\n",
       "       'gt', 'CN', 'Yr', 'Qm', 'pZ', 'Mq', 'Cn', 'jp', 'sY', 'ja', 'Tg',\n",
       "       'gK', 'MU', 'uP', 'WC', 'Oe', 'XI', 'Sk', 'FB', 'uW', 'fO', 'MF',\n",
       "       'Io', 'HO', 'RB', 'nf', 'ht', 'uI', 'SL', 'kP', 'PG', 'eA', 'gV',\n",
       "       'Dn', 'Zv', 'vQ'], dtype=object)"
      ]
     },
     "execution_count": 65,
     "metadata": {
      "tags": []
     },
     "output_type": "execute_result"
    }
   ],
   "source": [
    "cat_data['ord_5'].unique()"
   ]
  },
  {
   "cell_type": "code",
   "execution_count": 0,
   "metadata": {
    "colab": {},
    "colab_type": "code",
    "id": "ByIK1CS5XWLa"
   },
   "outputs": [],
   "source": [
    "cat_data['ord_5_label'] = label_encoder.fit_transform(cat_data['ord_5'])"
   ]
  },
  {
   "cell_type": "code",
   "execution_count": 67,
   "metadata": {
    "colab": {
     "base_uri": "https://localhost:8080/",
     "height": 323
    },
    "colab_type": "code",
    "id": "YfSWI0pUXWLc",
    "outputId": "b7a7d353-a171-4cfa-9b7b-da1091aec016"
   },
   "outputs": [
    {
     "data": {
      "text/plain": [
       "Index(['bin_3', 'bin_4', 'nom_0', 'nom_1', 'nom_2', 'nom_3', 'nom_4',\n",
       "       'nom_5_1', 'nom_5_2', 'nom_5_3', 'nom_5_4', 'nom_5_5', 'nom_5_6',\n",
       "       'nom_5_7', 'nom_5_8', 'nom_5_9', 'nom_5_10', 'nom_5_11', 'nom_6_1',\n",
       "       'nom_6_2', 'nom_6_3', 'nom_6_4', 'nom_6_5', 'nom_6_6', 'nom_6_7',\n",
       "       'nom_6_8', 'nom_6_9', 'nom_6_10', 'nom_6_11', 'nom_7_1', 'nom_7_2',\n",
       "       'nom_7_3', 'nom_7_4', 'nom_7_5', 'nom_7_6', 'nom_7_7', 'nom_7_8',\n",
       "       'nom_8_1', 'nom_8_2', 'nom_8_3', 'nom_8_4', 'nom_8_5', 'nom_8_6',\n",
       "       'nom_8_7', 'nom_8_8', 'nom_9_1', 'nom_9_2', 'nom_9_3', 'nom_9_4',\n",
       "       'nom_9_5', 'nom_9_6', 'nom_9_7', 'nom_9_8', 'nom_9_9', 'nom_9_10',\n",
       "       'nom_9_11', 'nom_9_12', 'ord_1', 'ord_2', 'ord_3', 'ord_4', 'ord_5',\n",
       "       'label_bin_3', 'label_bin_4', 'nom_0__Green', 'nom_0__Red',\n",
       "       'nom_1__Polygon', 'nom_1__Square', 'nom_1__Star', 'nom_1__Trapezoid',\n",
       "       'nom_1__Triangle', 'nom_2__Cat', 'nom_2__Dog', 'nom_2__Hamster',\n",
       "       'nom_2__Lion', 'nom_2__Snake', 'nom_3__China', 'nom_3__Costa Rica',\n",
       "       'nom_3__Finland', 'nom_3__India', 'nom_3__Russia', 'nom_4__Oboe',\n",
       "       'nom_4__Piano', 'nom_4__Theremin', 'ord_1_label', 'ord_2_label',\n",
       "       'ord_3_label', 'ord_4_label', 'ord_5_label'],\n",
       "      dtype='object')"
      ]
     },
     "execution_count": 67,
     "metadata": {
      "tags": []
     },
     "output_type": "execute_result"
    }
   ],
   "source": [
    "cat_data.columns"
   ]
  },
  {
   "cell_type": "code",
   "execution_count": 0,
   "metadata": {
    "colab": {},
    "colab_type": "code",
    "id": "F-0TTK4xXWLf"
   },
   "outputs": [],
   "source": [
    "cols_to_drop = ['bin_3', 'bin_4', 'nom_0', 'nom_1', 'nom_2', 'nom_3', 'nom_4', 'ord_1', 'ord_2', 'ord_3', 'ord_4', 'ord_5']\n",
    "cat_data.drop(columns=cols_to_drop, axis=1, inplace=True)"
   ]
  },
  {
   "cell_type": "code",
   "execution_count": 69,
   "metadata": {
    "colab": {
     "base_uri": "https://localhost:8080/",
     "height": 102
    },
    "colab_type": "code",
    "id": "KWl2e_i-SiR6",
    "outputId": "0e4448f1-6b97-45c4-abfe-621677cac328"
   },
   "outputs": [
    {
     "data": {
      "text/plain": [
       "Index(['id', 'bin_0', 'bin_1', 'bin_2', 'bin_3', 'bin_4', 'nom_0', 'nom_1',\n",
       "       'nom_2', 'nom_3', 'nom_4', 'nom_5', 'nom_6', 'nom_7', 'nom_8', 'nom_9',\n",
       "       'ord_0', 'ord_1', 'ord_2', 'ord_3', 'ord_4', 'ord_5', 'day', 'month',\n",
       "       'target'],\n",
       "      dtype='object')"
      ]
     },
     "execution_count": 69,
     "metadata": {
      "tags": []
     },
     "output_type": "execute_result"
    }
   ],
   "source": [
    "data.columns"
   ]
  },
  {
   "cell_type": "code",
   "execution_count": 70,
   "metadata": {
    "colab": {
     "base_uri": "https://localhost:8080/",
     "height": 258
    },
    "colab_type": "code",
    "id": "KW4-UfL2vkFt",
    "outputId": "a6f0a467-4f73-46f4-e82e-2152ed675976"
   },
   "outputs": [
    {
     "data": {
      "text/html": [
       "<div>\n",
       "<style scoped>\n",
       "    .dataframe tbody tr th:only-of-type {\n",
       "        vertical-align: middle;\n",
       "    }\n",
       "\n",
       "    .dataframe tbody tr th {\n",
       "        vertical-align: top;\n",
       "    }\n",
       "\n",
       "    .dataframe thead th {\n",
       "        text-align: right;\n",
       "    }\n",
       "</style>\n",
       "<table border=\"1\" class=\"dataframe\">\n",
       "  <thead>\n",
       "    <tr style=\"text-align: right;\">\n",
       "      <th></th>\n",
       "      <th>id</th>\n",
       "      <th>bin_0</th>\n",
       "      <th>bin_1</th>\n",
       "      <th>bin_2</th>\n",
       "      <th>bin_3</th>\n",
       "      <th>bin_4</th>\n",
       "      <th>nom_0</th>\n",
       "      <th>nom_1</th>\n",
       "      <th>nom_2</th>\n",
       "      <th>nom_3</th>\n",
       "      <th>nom_4</th>\n",
       "      <th>nom_5</th>\n",
       "      <th>nom_6</th>\n",
       "      <th>nom_7</th>\n",
       "      <th>nom_8</th>\n",
       "      <th>nom_9</th>\n",
       "      <th>ord_0</th>\n",
       "      <th>ord_1</th>\n",
       "      <th>ord_2</th>\n",
       "      <th>ord_3</th>\n",
       "      <th>ord_4</th>\n",
       "      <th>ord_5</th>\n",
       "      <th>day</th>\n",
       "      <th>month</th>\n",
       "      <th>target</th>\n",
       "    </tr>\n",
       "  </thead>\n",
       "  <tbody>\n",
       "    <tr>\n",
       "      <th>0</th>\n",
       "      <td>0</td>\n",
       "      <td>0.0</td>\n",
       "      <td>0.0</td>\n",
       "      <td>0.0</td>\n",
       "      <td>F</td>\n",
       "      <td>N</td>\n",
       "      <td>Red</td>\n",
       "      <td>Trapezoid</td>\n",
       "      <td>Hamster</td>\n",
       "      <td>Russia</td>\n",
       "      <td>Bassoon</td>\n",
       "      <td>de4c57ee2</td>\n",
       "      <td>a64bc7ddf</td>\n",
       "      <td>598080a91</td>\n",
       "      <td>0256c7a4b</td>\n",
       "      <td>02e7c8990</td>\n",
       "      <td>3.0</td>\n",
       "      <td>Contributor</td>\n",
       "      <td>Hot</td>\n",
       "      <td>c</td>\n",
       "      <td>U</td>\n",
       "      <td>Pw</td>\n",
       "      <td>6.0</td>\n",
       "      <td>3.0</td>\n",
       "      <td>0.0</td>\n",
       "    </tr>\n",
       "    <tr>\n",
       "      <th>6</th>\n",
       "      <td>6</td>\n",
       "      <td>0.0</td>\n",
       "      <td>0.0</td>\n",
       "      <td>0.0</td>\n",
       "      <td>F</td>\n",
       "      <td>N</td>\n",
       "      <td>Red</td>\n",
       "      <td>Triangle</td>\n",
       "      <td>Hamster</td>\n",
       "      <td>Costa Rica</td>\n",
       "      <td>Bassoon</td>\n",
       "      <td>87a5be0d7</td>\n",
       "      <td>cdc35bd00</td>\n",
       "      <td>1cba571fa</td>\n",
       "      <td>b8e63cace</td>\n",
       "      <td>4d3766412</td>\n",
       "      <td>1.0</td>\n",
       "      <td>Grandmaster</td>\n",
       "      <td>Cold</td>\n",
       "      <td>c</td>\n",
       "      <td>R</td>\n",
       "      <td>rg</td>\n",
       "      <td>5.0</td>\n",
       "      <td>6.0</td>\n",
       "      <td>0.0</td>\n",
       "    </tr>\n",
       "    <tr>\n",
       "      <th>7</th>\n",
       "      <td>7</td>\n",
       "      <td>0.0</td>\n",
       "      <td>0.0</td>\n",
       "      <td>1.0</td>\n",
       "      <td>T</td>\n",
       "      <td>N</td>\n",
       "      <td>Red</td>\n",
       "      <td>Triangle</td>\n",
       "      <td>Axolotl</td>\n",
       "      <td>Finland</td>\n",
       "      <td>Bassoon</td>\n",
       "      <td>104aee31d</td>\n",
       "      <td>2a50808ba</td>\n",
       "      <td>81d67e1bb</td>\n",
       "      <td>bd9643a20</td>\n",
       "      <td>a651dec43</td>\n",
       "      <td>3.0</td>\n",
       "      <td>Expert</td>\n",
       "      <td>Cold</td>\n",
       "      <td>b</td>\n",
       "      <td>Y</td>\n",
       "      <td>PS</td>\n",
       "      <td>1.0</td>\n",
       "      <td>1.0</td>\n",
       "      <td>0.0</td>\n",
       "    </tr>\n",
       "    <tr>\n",
       "      <th>10</th>\n",
       "      <td>10</td>\n",
       "      <td>0.0</td>\n",
       "      <td>0.0</td>\n",
       "      <td>1.0</td>\n",
       "      <td>T</td>\n",
       "      <td>Y</td>\n",
       "      <td>Blue</td>\n",
       "      <td>Triangle</td>\n",
       "      <td>Hamster</td>\n",
       "      <td>Finland</td>\n",
       "      <td>Bassoon</td>\n",
       "      <td>8bd03e713</td>\n",
       "      <td>0d8c9ee63</td>\n",
       "      <td>93360bbc9</td>\n",
       "      <td>28869f8aa</td>\n",
       "      <td>9bfe3ee22</td>\n",
       "      <td>1.0</td>\n",
       "      <td>Novice</td>\n",
       "      <td>Hot</td>\n",
       "      <td>b</td>\n",
       "      <td>O</td>\n",
       "      <td>hG</td>\n",
       "      <td>7.0</td>\n",
       "      <td>5.0</td>\n",
       "      <td>1.0</td>\n",
       "    </tr>\n",
       "    <tr>\n",
       "      <th>11</th>\n",
       "      <td>11</td>\n",
       "      <td>0.0</td>\n",
       "      <td>0.0</td>\n",
       "      <td>1.0</td>\n",
       "      <td>F</td>\n",
       "      <td>Y</td>\n",
       "      <td>Red</td>\n",
       "      <td>Square</td>\n",
       "      <td>Hamster</td>\n",
       "      <td>Costa Rica</td>\n",
       "      <td>Oboe</td>\n",
       "      <td>b574c9841</td>\n",
       "      <td>494b565c1</td>\n",
       "      <td>088aace2d</td>\n",
       "      <td>74a092964</td>\n",
       "      <td>6c73b62e4</td>\n",
       "      <td>1.0</td>\n",
       "      <td>Contributor</td>\n",
       "      <td>Hot</td>\n",
       "      <td>b</td>\n",
       "      <td>M</td>\n",
       "      <td>xF</td>\n",
       "      <td>2.0</td>\n",
       "      <td>8.0</td>\n",
       "      <td>0.0</td>\n",
       "    </tr>\n",
       "  </tbody>\n",
       "</table>\n",
       "</div>"
      ],
      "text/plain": [
       "    id  bin_0  bin_1  bin_2 bin_3 bin_4 nom_0      nom_1    nom_2       nom_3  \\\n",
       "0    0    0.0    0.0    0.0     F     N   Red  Trapezoid  Hamster      Russia   \n",
       "6    6    0.0    0.0    0.0     F     N   Red   Triangle  Hamster  Costa Rica   \n",
       "7    7    0.0    0.0    1.0     T     N   Red   Triangle  Axolotl     Finland   \n",
       "10  10    0.0    0.0    1.0     T     Y  Blue   Triangle  Hamster     Finland   \n",
       "11  11    0.0    0.0    1.0     F     Y   Red     Square  Hamster  Costa Rica   \n",
       "\n",
       "      nom_4      nom_5      nom_6      nom_7      nom_8      nom_9  ord_0  \\\n",
       "0   Bassoon  de4c57ee2  a64bc7ddf  598080a91  0256c7a4b  02e7c8990    3.0   \n",
       "6   Bassoon  87a5be0d7  cdc35bd00  1cba571fa  b8e63cace  4d3766412    1.0   \n",
       "7   Bassoon  104aee31d  2a50808ba  81d67e1bb  bd9643a20  a651dec43    3.0   \n",
       "10  Bassoon  8bd03e713  0d8c9ee63  93360bbc9  28869f8aa  9bfe3ee22    1.0   \n",
       "11     Oboe  b574c9841  494b565c1  088aace2d  74a092964  6c73b62e4    1.0   \n",
       "\n",
       "          ord_1 ord_2 ord_3 ord_4 ord_5  day  month  target  \n",
       "0   Contributor   Hot     c     U    Pw  6.0    3.0     0.0  \n",
       "6   Grandmaster  Cold     c     R    rg  5.0    6.0     0.0  \n",
       "7        Expert  Cold     b     Y    PS  1.0    1.0     0.0  \n",
       "10       Novice   Hot     b     O    hG  7.0    5.0     1.0  \n",
       "11  Contributor   Hot     b     M    xF  2.0    8.0     0.0  "
      ]
     },
     "execution_count": 70,
     "metadata": {
      "tags": []
     },
     "output_type": "execute_result"
    }
   ],
   "source": [
    "data.head()"
   ]
  },
  {
   "cell_type": "code",
   "execution_count": 71,
   "metadata": {
    "colab": {
     "base_uri": "https://localhost:8080/",
     "height": 34
    },
    "colab_type": "code",
    "id": "0rfj6StFSYON",
    "outputId": "a1583173-78ce-4121-8017-c7f832d5bbf3"
   },
   "outputs": [
    {
     "data": {
      "text/plain": [
       "(36877, 84)"
      ]
     },
     "execution_count": 71,
     "metadata": {
      "tags": []
     },
     "output_type": "execute_result"
    }
   ],
   "source": [
    "final_data = pd.concat([cat_data, data[['bin_0', 'bin_1', 'bin_2', 'ord_0', 'day', 'month', 'target']]], axis=1)\n",
    "final_data.shape"
   ]
  },
  {
   "cell_type": "code",
   "execution_count": 72,
   "metadata": {
    "colab": {
     "base_uri": "https://localhost:8080/",
     "height": 306
    },
    "colab_type": "code",
    "id": "6ms7dMd4vRJW",
    "outputId": "be0a0a7e-d8b8-4fa5-d4d9-b73b12138084"
   },
   "outputs": [
    {
     "data": {
      "text/plain": [
       "Index(['nom_5_1', 'nom_5_2', 'nom_5_3', 'nom_5_4', 'nom_5_5', 'nom_5_6',\n",
       "       'nom_5_7', 'nom_5_8', 'nom_5_9', 'nom_5_10', 'nom_5_11', 'nom_6_1',\n",
       "       'nom_6_2', 'nom_6_3', 'nom_6_4', 'nom_6_5', 'nom_6_6', 'nom_6_7',\n",
       "       'nom_6_8', 'nom_6_9', 'nom_6_10', 'nom_6_11', 'nom_7_1', 'nom_7_2',\n",
       "       'nom_7_3', 'nom_7_4', 'nom_7_5', 'nom_7_6', 'nom_7_7', 'nom_7_8',\n",
       "       'nom_8_1', 'nom_8_2', 'nom_8_3', 'nom_8_4', 'nom_8_5', 'nom_8_6',\n",
       "       'nom_8_7', 'nom_8_8', 'nom_9_1', 'nom_9_2', 'nom_9_3', 'nom_9_4',\n",
       "       'nom_9_5', 'nom_9_6', 'nom_9_7', 'nom_9_8', 'nom_9_9', 'nom_9_10',\n",
       "       'nom_9_11', 'nom_9_12', 'label_bin_3', 'label_bin_4', 'nom_0__Green',\n",
       "       'nom_0__Red', 'nom_1__Polygon', 'nom_1__Square', 'nom_1__Star',\n",
       "       'nom_1__Trapezoid', 'nom_1__Triangle', 'nom_2__Cat', 'nom_2__Dog',\n",
       "       'nom_2__Hamster', 'nom_2__Lion', 'nom_2__Snake', 'nom_3__China',\n",
       "       'nom_3__Costa Rica', 'nom_3__Finland', 'nom_3__India', 'nom_3__Russia',\n",
       "       'nom_4__Oboe', 'nom_4__Piano', 'nom_4__Theremin', 'ord_1_label',\n",
       "       'ord_2_label', 'ord_3_label', 'ord_4_label', 'ord_5_label', 'bin_0',\n",
       "       'bin_1', 'bin_2', 'ord_0', 'day', 'month', 'target'],\n",
       "      dtype='object')"
      ]
     },
     "execution_count": 72,
     "metadata": {
      "tags": []
     },
     "output_type": "execute_result"
    }
   ],
   "source": [
    "final_data.columns"
   ]
  },
  {
   "cell_type": "code",
   "execution_count": 73,
   "metadata": {
    "colab": {
     "base_uri": "https://localhost:8080/",
     "height": 241
    },
    "colab_type": "code",
    "id": "J2yuCy11XWLh",
    "outputId": "29606855-41d9-473e-af66-4e50e38ce5b7"
   },
   "outputs": [
    {
     "data": {
      "text/html": [
       "<div>\n",
       "<style scoped>\n",
       "    .dataframe tbody tr th:only-of-type {\n",
       "        vertical-align: middle;\n",
       "    }\n",
       "\n",
       "    .dataframe tbody tr th {\n",
       "        vertical-align: top;\n",
       "    }\n",
       "\n",
       "    .dataframe thead th {\n",
       "        text-align: right;\n",
       "    }\n",
       "</style>\n",
       "<table border=\"1\" class=\"dataframe\">\n",
       "  <thead>\n",
       "    <tr style=\"text-align: right;\">\n",
       "      <th></th>\n",
       "      <th>nom_5_1</th>\n",
       "      <th>nom_5_2</th>\n",
       "      <th>nom_5_3</th>\n",
       "      <th>nom_5_4</th>\n",
       "      <th>nom_5_5</th>\n",
       "      <th>nom_5_6</th>\n",
       "      <th>nom_5_7</th>\n",
       "      <th>nom_5_8</th>\n",
       "      <th>nom_5_9</th>\n",
       "      <th>nom_5_10</th>\n",
       "      <th>nom_5_11</th>\n",
       "      <th>nom_6_1</th>\n",
       "      <th>nom_6_2</th>\n",
       "      <th>nom_6_3</th>\n",
       "      <th>nom_6_4</th>\n",
       "      <th>nom_6_5</th>\n",
       "      <th>nom_6_6</th>\n",
       "      <th>nom_6_7</th>\n",
       "      <th>nom_6_8</th>\n",
       "      <th>nom_6_9</th>\n",
       "      <th>nom_6_10</th>\n",
       "      <th>nom_6_11</th>\n",
       "      <th>nom_7_1</th>\n",
       "      <th>nom_7_2</th>\n",
       "      <th>nom_7_3</th>\n",
       "      <th>nom_7_4</th>\n",
       "      <th>nom_7_5</th>\n",
       "      <th>nom_7_6</th>\n",
       "      <th>nom_7_7</th>\n",
       "      <th>nom_7_8</th>\n",
       "      <th>nom_8_1</th>\n",
       "      <th>nom_8_2</th>\n",
       "      <th>nom_8_3</th>\n",
       "      <th>nom_8_4</th>\n",
       "      <th>nom_8_5</th>\n",
       "      <th>nom_8_6</th>\n",
       "      <th>nom_8_7</th>\n",
       "      <th>nom_8_8</th>\n",
       "      <th>nom_9_1</th>\n",
       "      <th>nom_9_2</th>\n",
       "      <th>nom_9_3</th>\n",
       "      <th>nom_9_4</th>\n",
       "      <th>nom_9_5</th>\n",
       "      <th>nom_9_6</th>\n",
       "      <th>nom_9_7</th>\n",
       "      <th>nom_9_8</th>\n",
       "      <th>nom_9_9</th>\n",
       "      <th>nom_9_10</th>\n",
       "      <th>nom_9_11</th>\n",
       "      <th>nom_9_12</th>\n",
       "      <th>label_bin_3</th>\n",
       "      <th>label_bin_4</th>\n",
       "      <th>nom_0__Green</th>\n",
       "      <th>nom_0__Red</th>\n",
       "      <th>nom_1__Polygon</th>\n",
       "      <th>nom_1__Square</th>\n",
       "      <th>nom_1__Star</th>\n",
       "      <th>nom_1__Trapezoid</th>\n",
       "      <th>nom_1__Triangle</th>\n",
       "      <th>nom_2__Cat</th>\n",
       "      <th>nom_2__Dog</th>\n",
       "      <th>nom_2__Hamster</th>\n",
       "      <th>nom_2__Lion</th>\n",
       "      <th>nom_2__Snake</th>\n",
       "      <th>nom_3__China</th>\n",
       "      <th>nom_3__Costa Rica</th>\n",
       "      <th>nom_3__Finland</th>\n",
       "      <th>nom_3__India</th>\n",
       "      <th>nom_3__Russia</th>\n",
       "      <th>nom_4__Oboe</th>\n",
       "      <th>nom_4__Piano</th>\n",
       "      <th>nom_4__Theremin</th>\n",
       "      <th>ord_1_label</th>\n",
       "      <th>ord_2_label</th>\n",
       "      <th>ord_3_label</th>\n",
       "      <th>ord_4_label</th>\n",
       "      <th>ord_5_label</th>\n",
       "    </tr>\n",
       "  </thead>\n",
       "  <tbody>\n",
       "    <tr>\n",
       "      <th>0</th>\n",
       "      <td>0</td>\n",
       "      <td>0</td>\n",
       "      <td>0</td>\n",
       "      <td>0</td>\n",
       "      <td>0</td>\n",
       "      <td>0</td>\n",
       "      <td>0</td>\n",
       "      <td>0</td>\n",
       "      <td>0</td>\n",
       "      <td>0</td>\n",
       "      <td>1</td>\n",
       "      <td>0</td>\n",
       "      <td>0</td>\n",
       "      <td>0</td>\n",
       "      <td>0</td>\n",
       "      <td>0</td>\n",
       "      <td>0</td>\n",
       "      <td>0</td>\n",
       "      <td>0</td>\n",
       "      <td>0</td>\n",
       "      <td>0</td>\n",
       "      <td>1</td>\n",
       "      <td>0</td>\n",
       "      <td>0</td>\n",
       "      <td>0</td>\n",
       "      <td>0</td>\n",
       "      <td>0</td>\n",
       "      <td>0</td>\n",
       "      <td>0</td>\n",
       "      <td>1</td>\n",
       "      <td>0</td>\n",
       "      <td>0</td>\n",
       "      <td>0</td>\n",
       "      <td>0</td>\n",
       "      <td>0</td>\n",
       "      <td>0</td>\n",
       "      <td>0</td>\n",
       "      <td>1</td>\n",
       "      <td>0</td>\n",
       "      <td>0</td>\n",
       "      <td>0</td>\n",
       "      <td>0</td>\n",
       "      <td>0</td>\n",
       "      <td>0</td>\n",
       "      <td>0</td>\n",
       "      <td>0</td>\n",
       "      <td>0</td>\n",
       "      <td>0</td>\n",
       "      <td>0</td>\n",
       "      <td>1</td>\n",
       "      <td>0</td>\n",
       "      <td>0</td>\n",
       "      <td>0</td>\n",
       "      <td>1</td>\n",
       "      <td>0</td>\n",
       "      <td>0</td>\n",
       "      <td>0</td>\n",
       "      <td>1</td>\n",
       "      <td>0</td>\n",
       "      <td>0</td>\n",
       "      <td>0</td>\n",
       "      <td>1</td>\n",
       "      <td>0</td>\n",
       "      <td>0</td>\n",
       "      <td>0</td>\n",
       "      <td>0</td>\n",
       "      <td>0</td>\n",
       "      <td>0</td>\n",
       "      <td>1</td>\n",
       "      <td>0</td>\n",
       "      <td>0</td>\n",
       "      <td>0</td>\n",
       "      <td>1</td>\n",
       "      <td>3</td>\n",
       "      <td>2</td>\n",
       "      <td>20</td>\n",
       "      <td>56</td>\n",
       "    </tr>\n",
       "    <tr>\n",
       "      <th>6</th>\n",
       "      <td>0</td>\n",
       "      <td>0</td>\n",
       "      <td>0</td>\n",
       "      <td>0</td>\n",
       "      <td>0</td>\n",
       "      <td>0</td>\n",
       "      <td>0</td>\n",
       "      <td>0</td>\n",
       "      <td>0</td>\n",
       "      <td>1</td>\n",
       "      <td>0</td>\n",
       "      <td>0</td>\n",
       "      <td>0</td>\n",
       "      <td>0</td>\n",
       "      <td>0</td>\n",
       "      <td>0</td>\n",
       "      <td>0</td>\n",
       "      <td>0</td>\n",
       "      <td>0</td>\n",
       "      <td>0</td>\n",
       "      <td>1</td>\n",
       "      <td>0</td>\n",
       "      <td>0</td>\n",
       "      <td>0</td>\n",
       "      <td>0</td>\n",
       "      <td>0</td>\n",
       "      <td>0</td>\n",
       "      <td>0</td>\n",
       "      <td>1</td>\n",
       "      <td>0</td>\n",
       "      <td>0</td>\n",
       "      <td>0</td>\n",
       "      <td>0</td>\n",
       "      <td>0</td>\n",
       "      <td>0</td>\n",
       "      <td>0</td>\n",
       "      <td>1</td>\n",
       "      <td>0</td>\n",
       "      <td>0</td>\n",
       "      <td>0</td>\n",
       "      <td>0</td>\n",
       "      <td>0</td>\n",
       "      <td>0</td>\n",
       "      <td>0</td>\n",
       "      <td>0</td>\n",
       "      <td>0</td>\n",
       "      <td>0</td>\n",
       "      <td>0</td>\n",
       "      <td>1</td>\n",
       "      <td>0</td>\n",
       "      <td>0</td>\n",
       "      <td>0</td>\n",
       "      <td>0</td>\n",
       "      <td>1</td>\n",
       "      <td>0</td>\n",
       "      <td>0</td>\n",
       "      <td>0</td>\n",
       "      <td>0</td>\n",
       "      <td>1</td>\n",
       "      <td>0</td>\n",
       "      <td>0</td>\n",
       "      <td>1</td>\n",
       "      <td>0</td>\n",
       "      <td>0</td>\n",
       "      <td>0</td>\n",
       "      <td>1</td>\n",
       "      <td>0</td>\n",
       "      <td>0</td>\n",
       "      <td>0</td>\n",
       "      <td>0</td>\n",
       "      <td>0</td>\n",
       "      <td>0</td>\n",
       "      <td>4</td>\n",
       "      <td>1</td>\n",
       "      <td>2</td>\n",
       "      <td>17</td>\n",
       "      <td>158</td>\n",
       "    </tr>\n",
       "    <tr>\n",
       "      <th>7</th>\n",
       "      <td>0</td>\n",
       "      <td>0</td>\n",
       "      <td>0</td>\n",
       "      <td>0</td>\n",
       "      <td>0</td>\n",
       "      <td>0</td>\n",
       "      <td>0</td>\n",
       "      <td>0</td>\n",
       "      <td>0</td>\n",
       "      <td>1</td>\n",
       "      <td>1</td>\n",
       "      <td>0</td>\n",
       "      <td>0</td>\n",
       "      <td>0</td>\n",
       "      <td>0</td>\n",
       "      <td>0</td>\n",
       "      <td>0</td>\n",
       "      <td>0</td>\n",
       "      <td>0</td>\n",
       "      <td>0</td>\n",
       "      <td>1</td>\n",
       "      <td>1</td>\n",
       "      <td>0</td>\n",
       "      <td>0</td>\n",
       "      <td>0</td>\n",
       "      <td>0</td>\n",
       "      <td>0</td>\n",
       "      <td>0</td>\n",
       "      <td>1</td>\n",
       "      <td>1</td>\n",
       "      <td>0</td>\n",
       "      <td>0</td>\n",
       "      <td>0</td>\n",
       "      <td>0</td>\n",
       "      <td>0</td>\n",
       "      <td>0</td>\n",
       "      <td>1</td>\n",
       "      <td>1</td>\n",
       "      <td>0</td>\n",
       "      <td>0</td>\n",
       "      <td>0</td>\n",
       "      <td>0</td>\n",
       "      <td>0</td>\n",
       "      <td>0</td>\n",
       "      <td>0</td>\n",
       "      <td>0</td>\n",
       "      <td>0</td>\n",
       "      <td>0</td>\n",
       "      <td>1</td>\n",
       "      <td>1</td>\n",
       "      <td>1</td>\n",
       "      <td>0</td>\n",
       "      <td>0</td>\n",
       "      <td>1</td>\n",
       "      <td>0</td>\n",
       "      <td>0</td>\n",
       "      <td>0</td>\n",
       "      <td>0</td>\n",
       "      <td>1</td>\n",
       "      <td>0</td>\n",
       "      <td>0</td>\n",
       "      <td>0</td>\n",
       "      <td>0</td>\n",
       "      <td>0</td>\n",
       "      <td>0</td>\n",
       "      <td>0</td>\n",
       "      <td>1</td>\n",
       "      <td>0</td>\n",
       "      <td>0</td>\n",
       "      <td>0</td>\n",
       "      <td>0</td>\n",
       "      <td>0</td>\n",
       "      <td>2</td>\n",
       "      <td>1</td>\n",
       "      <td>1</td>\n",
       "      <td>24</td>\n",
       "      <td>54</td>\n",
       "    </tr>\n",
       "    <tr>\n",
       "      <th>10</th>\n",
       "      <td>0</td>\n",
       "      <td>0</td>\n",
       "      <td>0</td>\n",
       "      <td>0</td>\n",
       "      <td>0</td>\n",
       "      <td>0</td>\n",
       "      <td>0</td>\n",
       "      <td>0</td>\n",
       "      <td>1</td>\n",
       "      <td>0</td>\n",
       "      <td>0</td>\n",
       "      <td>0</td>\n",
       "      <td>0</td>\n",
       "      <td>0</td>\n",
       "      <td>0</td>\n",
       "      <td>0</td>\n",
       "      <td>0</td>\n",
       "      <td>0</td>\n",
       "      <td>0</td>\n",
       "      <td>1</td>\n",
       "      <td>0</td>\n",
       "      <td>0</td>\n",
       "      <td>0</td>\n",
       "      <td>0</td>\n",
       "      <td>0</td>\n",
       "      <td>0</td>\n",
       "      <td>0</td>\n",
       "      <td>1</td>\n",
       "      <td>0</td>\n",
       "      <td>0</td>\n",
       "      <td>0</td>\n",
       "      <td>0</td>\n",
       "      <td>0</td>\n",
       "      <td>0</td>\n",
       "      <td>0</td>\n",
       "      <td>1</td>\n",
       "      <td>0</td>\n",
       "      <td>0</td>\n",
       "      <td>0</td>\n",
       "      <td>0</td>\n",
       "      <td>0</td>\n",
       "      <td>0</td>\n",
       "      <td>0</td>\n",
       "      <td>0</td>\n",
       "      <td>0</td>\n",
       "      <td>0</td>\n",
       "      <td>0</td>\n",
       "      <td>1</td>\n",
       "      <td>0</td>\n",
       "      <td>0</td>\n",
       "      <td>1</td>\n",
       "      <td>1</td>\n",
       "      <td>0</td>\n",
       "      <td>0</td>\n",
       "      <td>0</td>\n",
       "      <td>0</td>\n",
       "      <td>0</td>\n",
       "      <td>0</td>\n",
       "      <td>1</td>\n",
       "      <td>0</td>\n",
       "      <td>0</td>\n",
       "      <td>1</td>\n",
       "      <td>0</td>\n",
       "      <td>0</td>\n",
       "      <td>0</td>\n",
       "      <td>0</td>\n",
       "      <td>1</td>\n",
       "      <td>0</td>\n",
       "      <td>0</td>\n",
       "      <td>0</td>\n",
       "      <td>0</td>\n",
       "      <td>0</td>\n",
       "      <td>0</td>\n",
       "      <td>3</td>\n",
       "      <td>1</td>\n",
       "      <td>14</td>\n",
       "      <td>117</td>\n",
       "    </tr>\n",
       "    <tr>\n",
       "      <th>11</th>\n",
       "      <td>0</td>\n",
       "      <td>0</td>\n",
       "      <td>0</td>\n",
       "      <td>0</td>\n",
       "      <td>0</td>\n",
       "      <td>0</td>\n",
       "      <td>0</td>\n",
       "      <td>0</td>\n",
       "      <td>1</td>\n",
       "      <td>0</td>\n",
       "      <td>1</td>\n",
       "      <td>0</td>\n",
       "      <td>0</td>\n",
       "      <td>0</td>\n",
       "      <td>0</td>\n",
       "      <td>0</td>\n",
       "      <td>0</td>\n",
       "      <td>0</td>\n",
       "      <td>0</td>\n",
       "      <td>1</td>\n",
       "      <td>0</td>\n",
       "      <td>1</td>\n",
       "      <td>0</td>\n",
       "      <td>0</td>\n",
       "      <td>0</td>\n",
       "      <td>0</td>\n",
       "      <td>0</td>\n",
       "      <td>1</td>\n",
       "      <td>0</td>\n",
       "      <td>1</td>\n",
       "      <td>0</td>\n",
       "      <td>0</td>\n",
       "      <td>0</td>\n",
       "      <td>0</td>\n",
       "      <td>0</td>\n",
       "      <td>1</td>\n",
       "      <td>0</td>\n",
       "      <td>1</td>\n",
       "      <td>0</td>\n",
       "      <td>0</td>\n",
       "      <td>0</td>\n",
       "      <td>0</td>\n",
       "      <td>0</td>\n",
       "      <td>0</td>\n",
       "      <td>0</td>\n",
       "      <td>0</td>\n",
       "      <td>0</td>\n",
       "      <td>1</td>\n",
       "      <td>0</td>\n",
       "      <td>1</td>\n",
       "      <td>0</td>\n",
       "      <td>1</td>\n",
       "      <td>0</td>\n",
       "      <td>1</td>\n",
       "      <td>0</td>\n",
       "      <td>1</td>\n",
       "      <td>0</td>\n",
       "      <td>0</td>\n",
       "      <td>0</td>\n",
       "      <td>0</td>\n",
       "      <td>0</td>\n",
       "      <td>1</td>\n",
       "      <td>0</td>\n",
       "      <td>0</td>\n",
       "      <td>0</td>\n",
       "      <td>1</td>\n",
       "      <td>0</td>\n",
       "      <td>0</td>\n",
       "      <td>0</td>\n",
       "      <td>1</td>\n",
       "      <td>0</td>\n",
       "      <td>0</td>\n",
       "      <td>1</td>\n",
       "      <td>3</td>\n",
       "      <td>1</td>\n",
       "      <td>12</td>\n",
       "      <td>182</td>\n",
       "    </tr>\n",
       "  </tbody>\n",
       "</table>\n",
       "</div>"
      ],
      "text/plain": [
       "    nom_5_1  nom_5_2  nom_5_3  nom_5_4  nom_5_5  nom_5_6  nom_5_7  nom_5_8  \\\n",
       "0         0        0        0        0        0        0        0        0   \n",
       "6         0        0        0        0        0        0        0        0   \n",
       "7         0        0        0        0        0        0        0        0   \n",
       "10        0        0        0        0        0        0        0        0   \n",
       "11        0        0        0        0        0        0        0        0   \n",
       "\n",
       "    nom_5_9  nom_5_10  nom_5_11  nom_6_1  nom_6_2  nom_6_3  nom_6_4  nom_6_5  \\\n",
       "0         0         0         1        0        0        0        0        0   \n",
       "6         0         1         0        0        0        0        0        0   \n",
       "7         0         1         1        0        0        0        0        0   \n",
       "10        1         0         0        0        0        0        0        0   \n",
       "11        1         0         1        0        0        0        0        0   \n",
       "\n",
       "    nom_6_6  nom_6_7  nom_6_8  nom_6_9  nom_6_10  nom_6_11  nom_7_1  nom_7_2  \\\n",
       "0         0        0        0        0         0         1        0        0   \n",
       "6         0        0        0        0         1         0        0        0   \n",
       "7         0        0        0        0         1         1        0        0   \n",
       "10        0        0        0        1         0         0        0        0   \n",
       "11        0        0        0        1         0         1        0        0   \n",
       "\n",
       "    nom_7_3  nom_7_4  nom_7_5  nom_7_6  nom_7_7  nom_7_8  nom_8_1  nom_8_2  \\\n",
       "0         0        0        0        0        0        1        0        0   \n",
       "6         0        0        0        0        1        0        0        0   \n",
       "7         0        0        0        0        1        1        0        0   \n",
       "10        0        0        0        1        0        0        0        0   \n",
       "11        0        0        0        1        0        1        0        0   \n",
       "\n",
       "    nom_8_3  nom_8_4  nom_8_5  nom_8_6  nom_8_7  nom_8_8  nom_9_1  nom_9_2  \\\n",
       "0         0        0        0        0        0        1        0        0   \n",
       "6         0        0        0        0        1        0        0        0   \n",
       "7         0        0        0        0        1        1        0        0   \n",
       "10        0        0        0        1        0        0        0        0   \n",
       "11        0        0        0        1        0        1        0        0   \n",
       "\n",
       "    nom_9_3  nom_9_4  nom_9_5  nom_9_6  nom_9_7  nom_9_8  nom_9_9  nom_9_10  \\\n",
       "0         0        0        0        0        0        0        0         0   \n",
       "6         0        0        0        0        0        0        0         0   \n",
       "7         0        0        0        0        0        0        0         0   \n",
       "10        0        0        0        0        0        0        0         1   \n",
       "11        0        0        0        0        0        0        0         1   \n",
       "\n",
       "    nom_9_11  nom_9_12  label_bin_3  label_bin_4  nom_0__Green  nom_0__Red  \\\n",
       "0          0         1            0            0             0           1   \n",
       "6          1         0            0            0             0           1   \n",
       "7          1         1            1            0             0           1   \n",
       "10         0         0            1            1             0           0   \n",
       "11         0         1            0            1             0           1   \n",
       "\n",
       "    nom_1__Polygon  nom_1__Square  nom_1__Star  nom_1__Trapezoid  \\\n",
       "0                0              0            0                 1   \n",
       "6                0              0            0                 0   \n",
       "7                0              0            0                 0   \n",
       "10               0              0            0                 0   \n",
       "11               0              1            0                 0   \n",
       "\n",
       "    nom_1__Triangle  nom_2__Cat  nom_2__Dog  nom_2__Hamster  nom_2__Lion  \\\n",
       "0                 0           0           0               1            0   \n",
       "6                 1           0           0               1            0   \n",
       "7                 1           0           0               0            0   \n",
       "10                1           0           0               1            0   \n",
       "11                0           0           0               1            0   \n",
       "\n",
       "    nom_2__Snake  nom_3__China  nom_3__Costa Rica  nom_3__Finland  \\\n",
       "0              0             0                  0               0   \n",
       "6              0             0                  1               0   \n",
       "7              0             0                  0               1   \n",
       "10             0             0                  0               1   \n",
       "11             0             0                  1               0   \n",
       "\n",
       "    nom_3__India  nom_3__Russia  nom_4__Oboe  nom_4__Piano  nom_4__Theremin  \\\n",
       "0              0              1            0             0                0   \n",
       "6              0              0            0             0                0   \n",
       "7              0              0            0             0                0   \n",
       "10             0              0            0             0                0   \n",
       "11             0              0            1             0                0   \n",
       "\n",
       "    ord_1_label  ord_2_label  ord_3_label  ord_4_label  ord_5_label  \n",
       "0             1            3            2           20           56  \n",
       "6             4            1            2           17          158  \n",
       "7             2            1            1           24           54  \n",
       "10            0            3            1           14          117  \n",
       "11            1            3            1           12          182  "
      ]
     },
     "execution_count": 73,
     "metadata": {
      "tags": []
     },
     "output_type": "execute_result"
    }
   ],
   "source": [
    "cat_data.head()"
   ]
  },
  {
   "cell_type": "code",
   "execution_count": 74,
   "metadata": {
    "colab": {
     "base_uri": "https://localhost:8080/",
     "height": 241
    },
    "colab_type": "code",
    "id": "K4dMZOLPTY8m",
    "outputId": "f7a48ffb-2920-41bc-dfae-95df1ba604b1"
   },
   "outputs": [
    {
     "data": {
      "text/html": [
       "<div>\n",
       "<style scoped>\n",
       "    .dataframe tbody tr th:only-of-type {\n",
       "        vertical-align: middle;\n",
       "    }\n",
       "\n",
       "    .dataframe tbody tr th {\n",
       "        vertical-align: top;\n",
       "    }\n",
       "\n",
       "    .dataframe thead th {\n",
       "        text-align: right;\n",
       "    }\n",
       "</style>\n",
       "<table border=\"1\" class=\"dataframe\">\n",
       "  <thead>\n",
       "    <tr style=\"text-align: right;\">\n",
       "      <th></th>\n",
       "      <th>nom_5_1</th>\n",
       "      <th>nom_5_2</th>\n",
       "      <th>nom_5_3</th>\n",
       "      <th>nom_5_4</th>\n",
       "      <th>nom_5_5</th>\n",
       "      <th>nom_5_6</th>\n",
       "      <th>nom_5_7</th>\n",
       "      <th>nom_5_8</th>\n",
       "      <th>nom_5_9</th>\n",
       "      <th>nom_5_10</th>\n",
       "      <th>nom_5_11</th>\n",
       "      <th>nom_6_1</th>\n",
       "      <th>nom_6_2</th>\n",
       "      <th>nom_6_3</th>\n",
       "      <th>nom_6_4</th>\n",
       "      <th>nom_6_5</th>\n",
       "      <th>nom_6_6</th>\n",
       "      <th>nom_6_7</th>\n",
       "      <th>nom_6_8</th>\n",
       "      <th>nom_6_9</th>\n",
       "      <th>nom_6_10</th>\n",
       "      <th>nom_6_11</th>\n",
       "      <th>nom_7_1</th>\n",
       "      <th>nom_7_2</th>\n",
       "      <th>nom_7_3</th>\n",
       "      <th>nom_7_4</th>\n",
       "      <th>nom_7_5</th>\n",
       "      <th>nom_7_6</th>\n",
       "      <th>nom_7_7</th>\n",
       "      <th>nom_7_8</th>\n",
       "      <th>nom_8_1</th>\n",
       "      <th>nom_8_2</th>\n",
       "      <th>nom_8_3</th>\n",
       "      <th>nom_8_4</th>\n",
       "      <th>nom_8_5</th>\n",
       "      <th>nom_8_6</th>\n",
       "      <th>nom_8_7</th>\n",
       "      <th>nom_8_8</th>\n",
       "      <th>nom_9_1</th>\n",
       "      <th>nom_9_2</th>\n",
       "      <th>nom_9_3</th>\n",
       "      <th>nom_9_4</th>\n",
       "      <th>nom_9_5</th>\n",
       "      <th>nom_9_6</th>\n",
       "      <th>nom_9_7</th>\n",
       "      <th>nom_9_8</th>\n",
       "      <th>nom_9_9</th>\n",
       "      <th>nom_9_10</th>\n",
       "      <th>nom_9_11</th>\n",
       "      <th>nom_9_12</th>\n",
       "      <th>label_bin_3</th>\n",
       "      <th>label_bin_4</th>\n",
       "      <th>nom_0__Green</th>\n",
       "      <th>nom_0__Red</th>\n",
       "      <th>nom_1__Polygon</th>\n",
       "      <th>nom_1__Square</th>\n",
       "      <th>nom_1__Star</th>\n",
       "      <th>nom_1__Trapezoid</th>\n",
       "      <th>nom_1__Triangle</th>\n",
       "      <th>nom_2__Cat</th>\n",
       "      <th>nom_2__Dog</th>\n",
       "      <th>nom_2__Hamster</th>\n",
       "      <th>nom_2__Lion</th>\n",
       "      <th>nom_2__Snake</th>\n",
       "      <th>nom_3__China</th>\n",
       "      <th>nom_3__Costa Rica</th>\n",
       "      <th>nom_3__Finland</th>\n",
       "      <th>nom_3__India</th>\n",
       "      <th>nom_3__Russia</th>\n",
       "      <th>nom_4__Oboe</th>\n",
       "      <th>nom_4__Piano</th>\n",
       "      <th>nom_4__Theremin</th>\n",
       "      <th>ord_1_label</th>\n",
       "      <th>ord_2_label</th>\n",
       "      <th>ord_3_label</th>\n",
       "      <th>ord_4_label</th>\n",
       "      <th>ord_5_label</th>\n",
       "      <th>bin_0</th>\n",
       "      <th>bin_1</th>\n",
       "      <th>bin_2</th>\n",
       "      <th>ord_0</th>\n",
       "      <th>day</th>\n",
       "      <th>month</th>\n",
       "      <th>target</th>\n",
       "    </tr>\n",
       "  </thead>\n",
       "  <tbody>\n",
       "    <tr>\n",
       "      <th>0</th>\n",
       "      <td>0</td>\n",
       "      <td>0</td>\n",
       "      <td>0</td>\n",
       "      <td>0</td>\n",
       "      <td>0</td>\n",
       "      <td>0</td>\n",
       "      <td>0</td>\n",
       "      <td>0</td>\n",
       "      <td>0</td>\n",
       "      <td>0</td>\n",
       "      <td>1</td>\n",
       "      <td>0</td>\n",
       "      <td>0</td>\n",
       "      <td>0</td>\n",
       "      <td>0</td>\n",
       "      <td>0</td>\n",
       "      <td>0</td>\n",
       "      <td>0</td>\n",
       "      <td>0</td>\n",
       "      <td>0</td>\n",
       "      <td>0</td>\n",
       "      <td>1</td>\n",
       "      <td>0</td>\n",
       "      <td>0</td>\n",
       "      <td>0</td>\n",
       "      <td>0</td>\n",
       "      <td>0</td>\n",
       "      <td>0</td>\n",
       "      <td>0</td>\n",
       "      <td>1</td>\n",
       "      <td>0</td>\n",
       "      <td>0</td>\n",
       "      <td>0</td>\n",
       "      <td>0</td>\n",
       "      <td>0</td>\n",
       "      <td>0</td>\n",
       "      <td>0</td>\n",
       "      <td>1</td>\n",
       "      <td>0</td>\n",
       "      <td>0</td>\n",
       "      <td>0</td>\n",
       "      <td>0</td>\n",
       "      <td>0</td>\n",
       "      <td>0</td>\n",
       "      <td>0</td>\n",
       "      <td>0</td>\n",
       "      <td>0</td>\n",
       "      <td>0</td>\n",
       "      <td>0</td>\n",
       "      <td>1</td>\n",
       "      <td>0</td>\n",
       "      <td>0</td>\n",
       "      <td>0</td>\n",
       "      <td>1</td>\n",
       "      <td>0</td>\n",
       "      <td>0</td>\n",
       "      <td>0</td>\n",
       "      <td>1</td>\n",
       "      <td>0</td>\n",
       "      <td>0</td>\n",
       "      <td>0</td>\n",
       "      <td>1</td>\n",
       "      <td>0</td>\n",
       "      <td>0</td>\n",
       "      <td>0</td>\n",
       "      <td>0</td>\n",
       "      <td>0</td>\n",
       "      <td>0</td>\n",
       "      <td>1</td>\n",
       "      <td>0</td>\n",
       "      <td>0</td>\n",
       "      <td>0</td>\n",
       "      <td>1</td>\n",
       "      <td>3</td>\n",
       "      <td>2</td>\n",
       "      <td>20</td>\n",
       "      <td>56</td>\n",
       "      <td>0.0</td>\n",
       "      <td>0.0</td>\n",
       "      <td>0.0</td>\n",
       "      <td>3.0</td>\n",
       "      <td>6.0</td>\n",
       "      <td>3.0</td>\n",
       "      <td>0.0</td>\n",
       "    </tr>\n",
       "    <tr>\n",
       "      <th>6</th>\n",
       "      <td>0</td>\n",
       "      <td>0</td>\n",
       "      <td>0</td>\n",
       "      <td>0</td>\n",
       "      <td>0</td>\n",
       "      <td>0</td>\n",
       "      <td>0</td>\n",
       "      <td>0</td>\n",
       "      <td>0</td>\n",
       "      <td>1</td>\n",
       "      <td>0</td>\n",
       "      <td>0</td>\n",
       "      <td>0</td>\n",
       "      <td>0</td>\n",
       "      <td>0</td>\n",
       "      <td>0</td>\n",
       "      <td>0</td>\n",
       "      <td>0</td>\n",
       "      <td>0</td>\n",
       "      <td>0</td>\n",
       "      <td>1</td>\n",
       "      <td>0</td>\n",
       "      <td>0</td>\n",
       "      <td>0</td>\n",
       "      <td>0</td>\n",
       "      <td>0</td>\n",
       "      <td>0</td>\n",
       "      <td>0</td>\n",
       "      <td>1</td>\n",
       "      <td>0</td>\n",
       "      <td>0</td>\n",
       "      <td>0</td>\n",
       "      <td>0</td>\n",
       "      <td>0</td>\n",
       "      <td>0</td>\n",
       "      <td>0</td>\n",
       "      <td>1</td>\n",
       "      <td>0</td>\n",
       "      <td>0</td>\n",
       "      <td>0</td>\n",
       "      <td>0</td>\n",
       "      <td>0</td>\n",
       "      <td>0</td>\n",
       "      <td>0</td>\n",
       "      <td>0</td>\n",
       "      <td>0</td>\n",
       "      <td>0</td>\n",
       "      <td>0</td>\n",
       "      <td>1</td>\n",
       "      <td>0</td>\n",
       "      <td>0</td>\n",
       "      <td>0</td>\n",
       "      <td>0</td>\n",
       "      <td>1</td>\n",
       "      <td>0</td>\n",
       "      <td>0</td>\n",
       "      <td>0</td>\n",
       "      <td>0</td>\n",
       "      <td>1</td>\n",
       "      <td>0</td>\n",
       "      <td>0</td>\n",
       "      <td>1</td>\n",
       "      <td>0</td>\n",
       "      <td>0</td>\n",
       "      <td>0</td>\n",
       "      <td>1</td>\n",
       "      <td>0</td>\n",
       "      <td>0</td>\n",
       "      <td>0</td>\n",
       "      <td>0</td>\n",
       "      <td>0</td>\n",
       "      <td>0</td>\n",
       "      <td>4</td>\n",
       "      <td>1</td>\n",
       "      <td>2</td>\n",
       "      <td>17</td>\n",
       "      <td>158</td>\n",
       "      <td>0.0</td>\n",
       "      <td>0.0</td>\n",
       "      <td>0.0</td>\n",
       "      <td>1.0</td>\n",
       "      <td>5.0</td>\n",
       "      <td>6.0</td>\n",
       "      <td>0.0</td>\n",
       "    </tr>\n",
       "    <tr>\n",
       "      <th>7</th>\n",
       "      <td>0</td>\n",
       "      <td>0</td>\n",
       "      <td>0</td>\n",
       "      <td>0</td>\n",
       "      <td>0</td>\n",
       "      <td>0</td>\n",
       "      <td>0</td>\n",
       "      <td>0</td>\n",
       "      <td>0</td>\n",
       "      <td>1</td>\n",
       "      <td>1</td>\n",
       "      <td>0</td>\n",
       "      <td>0</td>\n",
       "      <td>0</td>\n",
       "      <td>0</td>\n",
       "      <td>0</td>\n",
       "      <td>0</td>\n",
       "      <td>0</td>\n",
       "      <td>0</td>\n",
       "      <td>0</td>\n",
       "      <td>1</td>\n",
       "      <td>1</td>\n",
       "      <td>0</td>\n",
       "      <td>0</td>\n",
       "      <td>0</td>\n",
       "      <td>0</td>\n",
       "      <td>0</td>\n",
       "      <td>0</td>\n",
       "      <td>1</td>\n",
       "      <td>1</td>\n",
       "      <td>0</td>\n",
       "      <td>0</td>\n",
       "      <td>0</td>\n",
       "      <td>0</td>\n",
       "      <td>0</td>\n",
       "      <td>0</td>\n",
       "      <td>1</td>\n",
       "      <td>1</td>\n",
       "      <td>0</td>\n",
       "      <td>0</td>\n",
       "      <td>0</td>\n",
       "      <td>0</td>\n",
       "      <td>0</td>\n",
       "      <td>0</td>\n",
       "      <td>0</td>\n",
       "      <td>0</td>\n",
       "      <td>0</td>\n",
       "      <td>0</td>\n",
       "      <td>1</td>\n",
       "      <td>1</td>\n",
       "      <td>1</td>\n",
       "      <td>0</td>\n",
       "      <td>0</td>\n",
       "      <td>1</td>\n",
       "      <td>0</td>\n",
       "      <td>0</td>\n",
       "      <td>0</td>\n",
       "      <td>0</td>\n",
       "      <td>1</td>\n",
       "      <td>0</td>\n",
       "      <td>0</td>\n",
       "      <td>0</td>\n",
       "      <td>0</td>\n",
       "      <td>0</td>\n",
       "      <td>0</td>\n",
       "      <td>0</td>\n",
       "      <td>1</td>\n",
       "      <td>0</td>\n",
       "      <td>0</td>\n",
       "      <td>0</td>\n",
       "      <td>0</td>\n",
       "      <td>0</td>\n",
       "      <td>2</td>\n",
       "      <td>1</td>\n",
       "      <td>1</td>\n",
       "      <td>24</td>\n",
       "      <td>54</td>\n",
       "      <td>0.0</td>\n",
       "      <td>0.0</td>\n",
       "      <td>1.0</td>\n",
       "      <td>3.0</td>\n",
       "      <td>1.0</td>\n",
       "      <td>1.0</td>\n",
       "      <td>0.0</td>\n",
       "    </tr>\n",
       "    <tr>\n",
       "      <th>10</th>\n",
       "      <td>0</td>\n",
       "      <td>0</td>\n",
       "      <td>0</td>\n",
       "      <td>0</td>\n",
       "      <td>0</td>\n",
       "      <td>0</td>\n",
       "      <td>0</td>\n",
       "      <td>0</td>\n",
       "      <td>1</td>\n",
       "      <td>0</td>\n",
       "      <td>0</td>\n",
       "      <td>0</td>\n",
       "      <td>0</td>\n",
       "      <td>0</td>\n",
       "      <td>0</td>\n",
       "      <td>0</td>\n",
       "      <td>0</td>\n",
       "      <td>0</td>\n",
       "      <td>0</td>\n",
       "      <td>1</td>\n",
       "      <td>0</td>\n",
       "      <td>0</td>\n",
       "      <td>0</td>\n",
       "      <td>0</td>\n",
       "      <td>0</td>\n",
       "      <td>0</td>\n",
       "      <td>0</td>\n",
       "      <td>1</td>\n",
       "      <td>0</td>\n",
       "      <td>0</td>\n",
       "      <td>0</td>\n",
       "      <td>0</td>\n",
       "      <td>0</td>\n",
       "      <td>0</td>\n",
       "      <td>0</td>\n",
       "      <td>1</td>\n",
       "      <td>0</td>\n",
       "      <td>0</td>\n",
       "      <td>0</td>\n",
       "      <td>0</td>\n",
       "      <td>0</td>\n",
       "      <td>0</td>\n",
       "      <td>0</td>\n",
       "      <td>0</td>\n",
       "      <td>0</td>\n",
       "      <td>0</td>\n",
       "      <td>0</td>\n",
       "      <td>1</td>\n",
       "      <td>0</td>\n",
       "      <td>0</td>\n",
       "      <td>1</td>\n",
       "      <td>1</td>\n",
       "      <td>0</td>\n",
       "      <td>0</td>\n",
       "      <td>0</td>\n",
       "      <td>0</td>\n",
       "      <td>0</td>\n",
       "      <td>0</td>\n",
       "      <td>1</td>\n",
       "      <td>0</td>\n",
       "      <td>0</td>\n",
       "      <td>1</td>\n",
       "      <td>0</td>\n",
       "      <td>0</td>\n",
       "      <td>0</td>\n",
       "      <td>0</td>\n",
       "      <td>1</td>\n",
       "      <td>0</td>\n",
       "      <td>0</td>\n",
       "      <td>0</td>\n",
       "      <td>0</td>\n",
       "      <td>0</td>\n",
       "      <td>0</td>\n",
       "      <td>3</td>\n",
       "      <td>1</td>\n",
       "      <td>14</td>\n",
       "      <td>117</td>\n",
       "      <td>0.0</td>\n",
       "      <td>0.0</td>\n",
       "      <td>1.0</td>\n",
       "      <td>1.0</td>\n",
       "      <td>7.0</td>\n",
       "      <td>5.0</td>\n",
       "      <td>1.0</td>\n",
       "    </tr>\n",
       "    <tr>\n",
       "      <th>11</th>\n",
       "      <td>0</td>\n",
       "      <td>0</td>\n",
       "      <td>0</td>\n",
       "      <td>0</td>\n",
       "      <td>0</td>\n",
       "      <td>0</td>\n",
       "      <td>0</td>\n",
       "      <td>0</td>\n",
       "      <td>1</td>\n",
       "      <td>0</td>\n",
       "      <td>1</td>\n",
       "      <td>0</td>\n",
       "      <td>0</td>\n",
       "      <td>0</td>\n",
       "      <td>0</td>\n",
       "      <td>0</td>\n",
       "      <td>0</td>\n",
       "      <td>0</td>\n",
       "      <td>0</td>\n",
       "      <td>1</td>\n",
       "      <td>0</td>\n",
       "      <td>1</td>\n",
       "      <td>0</td>\n",
       "      <td>0</td>\n",
       "      <td>0</td>\n",
       "      <td>0</td>\n",
       "      <td>0</td>\n",
       "      <td>1</td>\n",
       "      <td>0</td>\n",
       "      <td>1</td>\n",
       "      <td>0</td>\n",
       "      <td>0</td>\n",
       "      <td>0</td>\n",
       "      <td>0</td>\n",
       "      <td>0</td>\n",
       "      <td>1</td>\n",
       "      <td>0</td>\n",
       "      <td>1</td>\n",
       "      <td>0</td>\n",
       "      <td>0</td>\n",
       "      <td>0</td>\n",
       "      <td>0</td>\n",
       "      <td>0</td>\n",
       "      <td>0</td>\n",
       "      <td>0</td>\n",
       "      <td>0</td>\n",
       "      <td>0</td>\n",
       "      <td>1</td>\n",
       "      <td>0</td>\n",
       "      <td>1</td>\n",
       "      <td>0</td>\n",
       "      <td>1</td>\n",
       "      <td>0</td>\n",
       "      <td>1</td>\n",
       "      <td>0</td>\n",
       "      <td>1</td>\n",
       "      <td>0</td>\n",
       "      <td>0</td>\n",
       "      <td>0</td>\n",
       "      <td>0</td>\n",
       "      <td>0</td>\n",
       "      <td>1</td>\n",
       "      <td>0</td>\n",
       "      <td>0</td>\n",
       "      <td>0</td>\n",
       "      <td>1</td>\n",
       "      <td>0</td>\n",
       "      <td>0</td>\n",
       "      <td>0</td>\n",
       "      <td>1</td>\n",
       "      <td>0</td>\n",
       "      <td>0</td>\n",
       "      <td>1</td>\n",
       "      <td>3</td>\n",
       "      <td>1</td>\n",
       "      <td>12</td>\n",
       "      <td>182</td>\n",
       "      <td>0.0</td>\n",
       "      <td>0.0</td>\n",
       "      <td>1.0</td>\n",
       "      <td>1.0</td>\n",
       "      <td>2.0</td>\n",
       "      <td>8.0</td>\n",
       "      <td>0.0</td>\n",
       "    </tr>\n",
       "  </tbody>\n",
       "</table>\n",
       "</div>"
      ],
      "text/plain": [
       "    nom_5_1  nom_5_2  nom_5_3  nom_5_4  nom_5_5  nom_5_6  nom_5_7  nom_5_8  \\\n",
       "0         0        0        0        0        0        0        0        0   \n",
       "6         0        0        0        0        0        0        0        0   \n",
       "7         0        0        0        0        0        0        0        0   \n",
       "10        0        0        0        0        0        0        0        0   \n",
       "11        0        0        0        0        0        0        0        0   \n",
       "\n",
       "    nom_5_9  nom_5_10  nom_5_11  nom_6_1  nom_6_2  nom_6_3  nom_6_4  nom_6_5  \\\n",
       "0         0         0         1        0        0        0        0        0   \n",
       "6         0         1         0        0        0        0        0        0   \n",
       "7         0         1         1        0        0        0        0        0   \n",
       "10        1         0         0        0        0        0        0        0   \n",
       "11        1         0         1        0        0        0        0        0   \n",
       "\n",
       "    nom_6_6  nom_6_7  nom_6_8  nom_6_9  nom_6_10  nom_6_11  nom_7_1  nom_7_2  \\\n",
       "0         0        0        0        0         0         1        0        0   \n",
       "6         0        0        0        0         1         0        0        0   \n",
       "7         0        0        0        0         1         1        0        0   \n",
       "10        0        0        0        1         0         0        0        0   \n",
       "11        0        0        0        1         0         1        0        0   \n",
       "\n",
       "    nom_7_3  nom_7_4  nom_7_5  nom_7_6  nom_7_7  nom_7_8  nom_8_1  nom_8_2  \\\n",
       "0         0        0        0        0        0        1        0        0   \n",
       "6         0        0        0        0        1        0        0        0   \n",
       "7         0        0        0        0        1        1        0        0   \n",
       "10        0        0        0        1        0        0        0        0   \n",
       "11        0        0        0        1        0        1        0        0   \n",
       "\n",
       "    nom_8_3  nom_8_4  nom_8_5  nom_8_6  nom_8_7  nom_8_8  nom_9_1  nom_9_2  \\\n",
       "0         0        0        0        0        0        1        0        0   \n",
       "6         0        0        0        0        1        0        0        0   \n",
       "7         0        0        0        0        1        1        0        0   \n",
       "10        0        0        0        1        0        0        0        0   \n",
       "11        0        0        0        1        0        1        0        0   \n",
       "\n",
       "    nom_9_3  nom_9_4  nom_9_5  nom_9_6  nom_9_7  nom_9_8  nom_9_9  nom_9_10  \\\n",
       "0         0        0        0        0        0        0        0         0   \n",
       "6         0        0        0        0        0        0        0         0   \n",
       "7         0        0        0        0        0        0        0         0   \n",
       "10        0        0        0        0        0        0        0         1   \n",
       "11        0        0        0        0        0        0        0         1   \n",
       "\n",
       "    nom_9_11  nom_9_12  label_bin_3  label_bin_4  nom_0__Green  nom_0__Red  \\\n",
       "0          0         1            0            0             0           1   \n",
       "6          1         0            0            0             0           1   \n",
       "7          1         1            1            0             0           1   \n",
       "10         0         0            1            1             0           0   \n",
       "11         0         1            0            1             0           1   \n",
       "\n",
       "    nom_1__Polygon  nom_1__Square  nom_1__Star  nom_1__Trapezoid  \\\n",
       "0                0              0            0                 1   \n",
       "6                0              0            0                 0   \n",
       "7                0              0            0                 0   \n",
       "10               0              0            0                 0   \n",
       "11               0              1            0                 0   \n",
       "\n",
       "    nom_1__Triangle  nom_2__Cat  nom_2__Dog  nom_2__Hamster  nom_2__Lion  \\\n",
       "0                 0           0           0               1            0   \n",
       "6                 1           0           0               1            0   \n",
       "7                 1           0           0               0            0   \n",
       "10                1           0           0               1            0   \n",
       "11                0           0           0               1            0   \n",
       "\n",
       "    nom_2__Snake  nom_3__China  nom_3__Costa Rica  nom_3__Finland  \\\n",
       "0              0             0                  0               0   \n",
       "6              0             0                  1               0   \n",
       "7              0             0                  0               1   \n",
       "10             0             0                  0               1   \n",
       "11             0             0                  1               0   \n",
       "\n",
       "    nom_3__India  nom_3__Russia  nom_4__Oboe  nom_4__Piano  nom_4__Theremin  \\\n",
       "0              0              1            0             0                0   \n",
       "6              0              0            0             0                0   \n",
       "7              0              0            0             0                0   \n",
       "10             0              0            0             0                0   \n",
       "11             0              0            1             0                0   \n",
       "\n",
       "    ord_1_label  ord_2_label  ord_3_label  ord_4_label  ord_5_label  bin_0  \\\n",
       "0             1            3            2           20           56    0.0   \n",
       "6             4            1            2           17          158    0.0   \n",
       "7             2            1            1           24           54    0.0   \n",
       "10            0            3            1           14          117    0.0   \n",
       "11            1            3            1           12          182    0.0   \n",
       "\n",
       "    bin_1  bin_2  ord_0  day  month  target  \n",
       "0     0.0    0.0    3.0  6.0    3.0     0.0  \n",
       "6     0.0    0.0    1.0  5.0    6.0     0.0  \n",
       "7     0.0    1.0    3.0  1.0    1.0     0.0  \n",
       "10    0.0    1.0    1.0  7.0    5.0     1.0  \n",
       "11    0.0    1.0    1.0  2.0    8.0     0.0  "
      ]
     },
     "execution_count": 74,
     "metadata": {
      "tags": []
     },
     "output_type": "execute_result"
    }
   ],
   "source": [
    "final_data.head()"
   ]
  },
  {
   "cell_type": "code",
   "execution_count": 75,
   "metadata": {
    "colab": {
     "base_uri": "https://localhost:8080/",
     "height": 34
    },
    "colab_type": "code",
    "id": "PoPYO6eMTmAb",
    "outputId": "c6ff3bd6-3e1b-4c11-90ed-e53f1ac8cd34"
   },
   "outputs": [
    {
     "data": {
      "text/plain": [
       "array([0., 1.])"
      ]
     },
     "execution_count": 75,
     "metadata": {
      "tags": []
     },
     "output_type": "execute_result"
    }
   ],
   "source": [
    "final_data.target.unique()"
   ]
  },
  {
   "cell_type": "code",
   "execution_count": 0,
   "metadata": {
    "colab": {},
    "colab_type": "code",
    "id": "1oc33yVCXWLi"
   },
   "outputs": [],
   "source": [
    "from sklearn.linear_model import LogisticRegression\n",
    "from sklearn.model_selection import train_test_split"
   ]
  },
  {
   "cell_type": "code",
   "execution_count": 0,
   "metadata": {
    "colab": {},
    "colab_type": "code",
    "id": "IHTUo9DNXWLj"
   },
   "outputs": [],
   "source": [
    "X_train, X_test, y_train, y_test = train_test_split(final_data[final_data.columns.difference(['target'])], final_data['target'], test_size=0.3, random_state=1)"
   ]
  },
  {
   "cell_type": "code",
   "execution_count": 0,
   "metadata": {
    "colab": {},
    "colab_type": "code",
    "id": "pd1_sOikXWLl"
   },
   "outputs": [],
   "source": [
    "# del cat_data"
   ]
  },
  {
   "cell_type": "code",
   "execution_count": 79,
   "metadata": {
    "colab": {
     "base_uri": "https://localhost:8080/",
     "height": 34
    },
    "colab_type": "code",
    "id": "gUFg2g1_XWLm",
    "outputId": "00d7e5d8-1069-4bf1-b4e5-77477f5f7b57"
   },
   "outputs": [
    {
     "data": {
      "text/plain": [
       "((25813, 83), (11064, 83), (25813,), (11064,))"
      ]
     },
     "execution_count": 79,
     "metadata": {
      "tags": []
     },
     "output_type": "execute_result"
    }
   ],
   "source": [
    "X_train.shape, X_test.shape, y_train.shape, y_test.shape"
   ]
  },
  {
   "cell_type": "code",
   "execution_count": 80,
   "metadata": {
    "colab": {
     "base_uri": "https://localhost:8080/",
     "height": 34
    },
    "colab_type": "code",
    "id": "gxQ7YNXiXWLo",
    "outputId": "d8264d13-06e4-40e0-af6f-c90d3f41a07a"
   },
   "outputs": [
    {
     "name": "stdout",
     "output_type": "stream",
     "text": [
      "0.8092010122921186\n"
     ]
    }
   ],
   "source": [
    "from sklearn.metrics import accuracy_score\n",
    "\n",
    "clf = LogisticRegression(random_state=0).fit(X_train, y_train)\n",
    "y_pred = clf.predict(X_test)\n",
    "acc = accuracy_score(y_test, y_pred)\n",
    "print(acc)"
   ]
  },
  {
   "cell_type": "markdown",
   "metadata": {
    "colab_type": "text",
    "id": "Kr3AVfc3dRLH"
   },
   "source": [
    "Scaling features"
   ]
  },
  {
   "cell_type": "code",
   "execution_count": 0,
   "metadata": {
    "colab": {},
    "colab_type": "code",
    "id": "3PRf0WjKXWLv"
   },
   "outputs": [],
   "source": [
    "from sklearn import preprocessing\n",
    "mm_scaler = preprocessing.MinMaxScaler()\n",
    "X_train_minmax = mm_scaler.fit_transform(X_train)\n",
    "X_test_minmax = mm_scaler.transform(X_test)"
   ]
  },
  {
   "cell_type": "code",
   "execution_count": 82,
   "metadata": {
    "colab": {
     "base_uri": "https://localhost:8080/",
     "height": 34
    },
    "colab_type": "code",
    "id": "7ugjFFNldYtX",
    "outputId": "18dde47c-3ca3-403a-885c-9a890df27986"
   },
   "outputs": [
    {
     "name": "stdout",
     "output_type": "stream",
     "text": [
      "0.8189624005784526\n"
     ]
    }
   ],
   "source": [
    "clf = LogisticRegression(random_state=0).fit(X_train_minmax, y_train)\n",
    "y_pred = clf.predict(X_test_minmax)\n",
    "acc = accuracy_score(y_test, y_pred)\n",
    "print(acc)"
   ]
  },
  {
   "cell_type": "code",
   "execution_count": 83,
   "metadata": {
    "colab": {
     "base_uri": "https://localhost:8080/",
     "height": 289
    },
    "colab_type": "code",
    "id": "uqXHD_ifU4Kx",
    "outputId": "d58f1879-f482-4677-be40-c93f95ac1ba4"
   },
   "outputs": [
    {
     "data": {
      "text/plain": [
       "Index(['nom_5_1', 'nom_5_2', 'nom_5_3', 'nom_5_4', 'nom_5_5', 'nom_5_6',\n",
       "       'nom_5_7', 'nom_5_8', 'nom_5_9', 'nom_5_10', 'nom_5_11', 'nom_6_1',\n",
       "       'nom_6_2', 'nom_6_3', 'nom_6_4', 'nom_6_5', 'nom_6_6', 'nom_6_7',\n",
       "       'nom_6_8', 'nom_6_9', 'nom_6_10', 'nom_6_11', 'nom_7_1', 'nom_7_2',\n",
       "       'nom_7_3', 'nom_7_4', 'nom_7_5', 'nom_7_6', 'nom_7_7', 'nom_7_8',\n",
       "       'nom_8_1', 'nom_8_2', 'nom_8_3', 'nom_8_4', 'nom_8_5', 'nom_8_6',\n",
       "       'nom_8_7', 'nom_8_8', 'nom_9_1', 'nom_9_2', 'nom_9_3', 'nom_9_4',\n",
       "       'nom_9_5', 'nom_9_6', 'nom_9_7', 'nom_9_8', 'nom_9_9', 'nom_9_10',\n",
       "       'nom_9_11', 'nom_9_12', 'label_bin_3', 'label_bin_4', 'nom_0__Green',\n",
       "       'nom_0__Red', 'nom_1__Polygon', 'nom_1__Square', 'nom_1__Star',\n",
       "       'nom_1__Trapezoid', 'nom_1__Triangle', 'nom_2__Cat', 'nom_2__Dog',\n",
       "       'nom_2__Hamster', 'nom_2__Lion', 'nom_2__Snake', 'nom_3__China',\n",
       "       'nom_3__Costa Rica', 'nom_3__Finland', 'nom_3__India', 'nom_3__Russia',\n",
       "       'nom_4__Oboe', 'nom_4__Piano', 'nom_4__Theremin', 'ord_1_label',\n",
       "       'ord_2_label', 'ord_3_label', 'ord_4_label', 'ord_5_label'],\n",
       "      dtype='object')"
      ]
     },
     "execution_count": 83,
     "metadata": {
      "tags": []
     },
     "output_type": "execute_result"
    }
   ],
   "source": [
    "cat_data.columns"
   ]
  },
  {
   "cell_type": "code",
   "execution_count": 84,
   "metadata": {
    "colab": {
     "base_uri": "https://localhost:8080/",
     "height": 258
    },
    "colab_type": "code",
    "id": "0zuSKTL2WD4J",
    "outputId": "cfe39c04-95d6-4b70-9466-192b58391657"
   },
   "outputs": [
    {
     "data": {
      "text/html": [
       "<div>\n",
       "<style scoped>\n",
       "    .dataframe tbody tr th:only-of-type {\n",
       "        vertical-align: middle;\n",
       "    }\n",
       "\n",
       "    .dataframe tbody tr th {\n",
       "        vertical-align: top;\n",
       "    }\n",
       "\n",
       "    .dataframe thead th {\n",
       "        text-align: right;\n",
       "    }\n",
       "</style>\n",
       "<table border=\"1\" class=\"dataframe\">\n",
       "  <thead>\n",
       "    <tr style=\"text-align: right;\">\n",
       "      <th></th>\n",
       "      <th>id</th>\n",
       "      <th>bin_0</th>\n",
       "      <th>bin_1</th>\n",
       "      <th>bin_2</th>\n",
       "      <th>bin_3</th>\n",
       "      <th>bin_4</th>\n",
       "      <th>nom_0</th>\n",
       "      <th>nom_1</th>\n",
       "      <th>nom_2</th>\n",
       "      <th>nom_3</th>\n",
       "      <th>nom_4</th>\n",
       "      <th>nom_5</th>\n",
       "      <th>nom_6</th>\n",
       "      <th>nom_7</th>\n",
       "      <th>nom_8</th>\n",
       "      <th>nom_9</th>\n",
       "      <th>ord_0</th>\n",
       "      <th>ord_1</th>\n",
       "      <th>ord_2</th>\n",
       "      <th>ord_3</th>\n",
       "      <th>ord_4</th>\n",
       "      <th>ord_5</th>\n",
       "      <th>day</th>\n",
       "      <th>month</th>\n",
       "      <th>target</th>\n",
       "    </tr>\n",
       "  </thead>\n",
       "  <tbody>\n",
       "    <tr>\n",
       "      <th>0</th>\n",
       "      <td>0</td>\n",
       "      <td>0.0</td>\n",
       "      <td>0.0</td>\n",
       "      <td>0.0</td>\n",
       "      <td>F</td>\n",
       "      <td>N</td>\n",
       "      <td>Red</td>\n",
       "      <td>Trapezoid</td>\n",
       "      <td>Hamster</td>\n",
       "      <td>Russia</td>\n",
       "      <td>Bassoon</td>\n",
       "      <td>de4c57ee2</td>\n",
       "      <td>a64bc7ddf</td>\n",
       "      <td>598080a91</td>\n",
       "      <td>0256c7a4b</td>\n",
       "      <td>02e7c8990</td>\n",
       "      <td>3.0</td>\n",
       "      <td>Contributor</td>\n",
       "      <td>Hot</td>\n",
       "      <td>c</td>\n",
       "      <td>U</td>\n",
       "      <td>Pw</td>\n",
       "      <td>6.0</td>\n",
       "      <td>3.0</td>\n",
       "      <td>0.0</td>\n",
       "    </tr>\n",
       "    <tr>\n",
       "      <th>6</th>\n",
       "      <td>6</td>\n",
       "      <td>0.0</td>\n",
       "      <td>0.0</td>\n",
       "      <td>0.0</td>\n",
       "      <td>F</td>\n",
       "      <td>N</td>\n",
       "      <td>Red</td>\n",
       "      <td>Triangle</td>\n",
       "      <td>Hamster</td>\n",
       "      <td>Costa Rica</td>\n",
       "      <td>Bassoon</td>\n",
       "      <td>87a5be0d7</td>\n",
       "      <td>cdc35bd00</td>\n",
       "      <td>1cba571fa</td>\n",
       "      <td>b8e63cace</td>\n",
       "      <td>4d3766412</td>\n",
       "      <td>1.0</td>\n",
       "      <td>Grandmaster</td>\n",
       "      <td>Cold</td>\n",
       "      <td>c</td>\n",
       "      <td>R</td>\n",
       "      <td>rg</td>\n",
       "      <td>5.0</td>\n",
       "      <td>6.0</td>\n",
       "      <td>0.0</td>\n",
       "    </tr>\n",
       "    <tr>\n",
       "      <th>7</th>\n",
       "      <td>7</td>\n",
       "      <td>0.0</td>\n",
       "      <td>0.0</td>\n",
       "      <td>1.0</td>\n",
       "      <td>T</td>\n",
       "      <td>N</td>\n",
       "      <td>Red</td>\n",
       "      <td>Triangle</td>\n",
       "      <td>Axolotl</td>\n",
       "      <td>Finland</td>\n",
       "      <td>Bassoon</td>\n",
       "      <td>104aee31d</td>\n",
       "      <td>2a50808ba</td>\n",
       "      <td>81d67e1bb</td>\n",
       "      <td>bd9643a20</td>\n",
       "      <td>a651dec43</td>\n",
       "      <td>3.0</td>\n",
       "      <td>Expert</td>\n",
       "      <td>Cold</td>\n",
       "      <td>b</td>\n",
       "      <td>Y</td>\n",
       "      <td>PS</td>\n",
       "      <td>1.0</td>\n",
       "      <td>1.0</td>\n",
       "      <td>0.0</td>\n",
       "    </tr>\n",
       "    <tr>\n",
       "      <th>10</th>\n",
       "      <td>10</td>\n",
       "      <td>0.0</td>\n",
       "      <td>0.0</td>\n",
       "      <td>1.0</td>\n",
       "      <td>T</td>\n",
       "      <td>Y</td>\n",
       "      <td>Blue</td>\n",
       "      <td>Triangle</td>\n",
       "      <td>Hamster</td>\n",
       "      <td>Finland</td>\n",
       "      <td>Bassoon</td>\n",
       "      <td>8bd03e713</td>\n",
       "      <td>0d8c9ee63</td>\n",
       "      <td>93360bbc9</td>\n",
       "      <td>28869f8aa</td>\n",
       "      <td>9bfe3ee22</td>\n",
       "      <td>1.0</td>\n",
       "      <td>Novice</td>\n",
       "      <td>Hot</td>\n",
       "      <td>b</td>\n",
       "      <td>O</td>\n",
       "      <td>hG</td>\n",
       "      <td>7.0</td>\n",
       "      <td>5.0</td>\n",
       "      <td>1.0</td>\n",
       "    </tr>\n",
       "    <tr>\n",
       "      <th>11</th>\n",
       "      <td>11</td>\n",
       "      <td>0.0</td>\n",
       "      <td>0.0</td>\n",
       "      <td>1.0</td>\n",
       "      <td>F</td>\n",
       "      <td>Y</td>\n",
       "      <td>Red</td>\n",
       "      <td>Square</td>\n",
       "      <td>Hamster</td>\n",
       "      <td>Costa Rica</td>\n",
       "      <td>Oboe</td>\n",
       "      <td>b574c9841</td>\n",
       "      <td>494b565c1</td>\n",
       "      <td>088aace2d</td>\n",
       "      <td>74a092964</td>\n",
       "      <td>6c73b62e4</td>\n",
       "      <td>1.0</td>\n",
       "      <td>Contributor</td>\n",
       "      <td>Hot</td>\n",
       "      <td>b</td>\n",
       "      <td>M</td>\n",
       "      <td>xF</td>\n",
       "      <td>2.0</td>\n",
       "      <td>8.0</td>\n",
       "      <td>0.0</td>\n",
       "    </tr>\n",
       "  </tbody>\n",
       "</table>\n",
       "</div>"
      ],
      "text/plain": [
       "    id  bin_0  bin_1  bin_2 bin_3 bin_4 nom_0      nom_1    nom_2       nom_3  \\\n",
       "0    0    0.0    0.0    0.0     F     N   Red  Trapezoid  Hamster      Russia   \n",
       "6    6    0.0    0.0    0.0     F     N   Red   Triangle  Hamster  Costa Rica   \n",
       "7    7    0.0    0.0    1.0     T     N   Red   Triangle  Axolotl     Finland   \n",
       "10  10    0.0    0.0    1.0     T     Y  Blue   Triangle  Hamster     Finland   \n",
       "11  11    0.0    0.0    1.0     F     Y   Red     Square  Hamster  Costa Rica   \n",
       "\n",
       "      nom_4      nom_5      nom_6      nom_7      nom_8      nom_9  ord_0  \\\n",
       "0   Bassoon  de4c57ee2  a64bc7ddf  598080a91  0256c7a4b  02e7c8990    3.0   \n",
       "6   Bassoon  87a5be0d7  cdc35bd00  1cba571fa  b8e63cace  4d3766412    1.0   \n",
       "7   Bassoon  104aee31d  2a50808ba  81d67e1bb  bd9643a20  a651dec43    3.0   \n",
       "10  Bassoon  8bd03e713  0d8c9ee63  93360bbc9  28869f8aa  9bfe3ee22    1.0   \n",
       "11     Oboe  b574c9841  494b565c1  088aace2d  74a092964  6c73b62e4    1.0   \n",
       "\n",
       "          ord_1 ord_2 ord_3 ord_4 ord_5  day  month  target  \n",
       "0   Contributor   Hot     c     U    Pw  6.0    3.0     0.0  \n",
       "6   Grandmaster  Cold     c     R    rg  5.0    6.0     0.0  \n",
       "7        Expert  Cold     b     Y    PS  1.0    1.0     0.0  \n",
       "10       Novice   Hot     b     O    hG  7.0    5.0     1.0  \n",
       "11  Contributor   Hot     b     M    xF  2.0    8.0     0.0  "
      ]
     },
     "execution_count": 84,
     "metadata": {
      "tags": []
     },
     "output_type": "execute_result"
    }
   ],
   "source": [
    "data.head()"
   ]
  },
  {
   "cell_type": "markdown",
   "metadata": {
    "colab_type": "text",
    "id": "YU1HmXtNWUjC"
   },
   "source": [
    "## Frequency encoding for columns nom_5, nom_6, nom_7, nom_8, nom_9"
   ]
  },
  {
   "cell_type": "code",
   "execution_count": 85,
   "metadata": {
    "colab": {
     "base_uri": "https://localhost:8080/",
     "height": 153
    },
    "colab_type": "code",
    "id": "VmfYM0npWIKw",
    "outputId": "57cd16d7-eea8-4886-fbba-939b9932974f"
   },
   "outputs": [
    {
     "data": {
      "text/plain": [
       "Index(['label_bin_3', 'label_bin_4', 'nom_0__Green', 'nom_0__Red',\n",
       "       'nom_1__Polygon', 'nom_1__Square', 'nom_1__Star', 'nom_1__Trapezoid',\n",
       "       'nom_1__Triangle', 'nom_2__Cat', 'nom_2__Dog', 'nom_2__Hamster',\n",
       "       'nom_2__Lion', 'nom_2__Snake', 'nom_3__China', 'nom_3__Costa Rica',\n",
       "       'nom_3__Finland', 'nom_3__India', 'nom_3__Russia', 'nom_4__Oboe',\n",
       "       'nom_4__Piano', 'nom_4__Theremin', 'ord_1_label', 'ord_2_label',\n",
       "       'ord_3_label', 'ord_4_label', 'ord_5_label'],\n",
       "      dtype='object')"
      ]
     },
     "execution_count": 85,
     "metadata": {
      "tags": []
     },
     "output_type": "execute_result"
    }
   ],
   "source": [
    "drop_cols = ['nom_5_1', 'nom_5_2', 'nom_5_3', 'nom_5_4', 'nom_5_5', 'nom_5_6',\n",
    "       'nom_5_7', 'nom_5_8', 'nom_5_9', 'nom_5_10', 'nom_5_11', 'nom_6_1',\n",
    "       'nom_6_2', 'nom_6_3', 'nom_6_4', 'nom_6_5', 'nom_6_6', 'nom_6_7',\n",
    "       'nom_6_8', 'nom_6_9', 'nom_6_10', 'nom_6_11', 'nom_7_1', 'nom_7_2',\n",
    "       'nom_7_3', 'nom_7_4', 'nom_7_5', 'nom_7_6', 'nom_7_7', 'nom_7_8',\n",
    "       'nom_8_1', 'nom_8_2', 'nom_8_3', 'nom_8_4', 'nom_8_5', 'nom_8_6',\n",
    "       'nom_8_7', 'nom_8_8', 'nom_9_1', 'nom_9_2', 'nom_9_3', 'nom_9_4',\n",
    "       'nom_9_5', 'nom_9_6', 'nom_9_7', 'nom_9_8', 'nom_9_9', 'nom_9_10',\n",
    "       'nom_9_11', 'nom_9_12']\n",
    "cat_data.drop(columns=drop_cols, axis=1, inplace=True)\n",
    "cat_data.columns"
   ]
  },
  {
   "cell_type": "code",
   "execution_count": 0,
   "metadata": {
    "colab": {},
    "colab_type": "code",
    "id": "Ubp4CWj6W1zR"
   },
   "outputs": [],
   "source": [
    "feature_encoding_nom_5 = data['nom_5'].value_counts(normalize=True)\n",
    "feature_encoding_nom_6 = data['nom_6'].value_counts(normalize=True)\n",
    "feature_encoding_nom_7 = data['nom_7'].value_counts(normalize=True)\n",
    "feature_encoding_nom_8 = data['nom_8'].value_counts(normalize=True)\n",
    "feature_encoding_nom_9 = data['nom_9'].value_counts(normalize=True)"
   ]
  },
  {
   "cell_type": "code",
   "execution_count": 87,
   "metadata": {
    "colab": {
     "base_uri": "https://localhost:8080/",
     "height": 34
    },
    "colab_type": "code",
    "id": "X-rv8D0WXS5r",
    "outputId": "97182199-f67c-4048-fd81-d89cb3f2487f"
   },
   "outputs": [
    {
     "data": {
      "text/plain": [
       "pandas.core.series.Series"
      ]
     },
     "execution_count": 87,
     "metadata": {
      "tags": []
     },
     "output_type": "execute_result"
    }
   ],
   "source": [
    "type(feature_encoding_nom_5)"
   ]
  },
  {
   "cell_type": "code",
   "execution_count": 0,
   "metadata": {
    "colab": {},
    "colab_type": "code",
    "id": "6gyfLMACXXUp"
   },
   "outputs": [],
   "source": [
    "cat_data['nom_5'] = data['nom_5'].map(feature_encoding_nom_5)\n",
    "cat_data['nom_6'] = data['nom_6'].map(feature_encoding_nom_6)\n",
    "cat_data['nom_7'] = data['nom_7'].map(feature_encoding_nom_7)\n",
    "cat_data['nom_8'] = data['nom_8'].map(feature_encoding_nom_8)\n",
    "cat_data['nom_9'] = data['nom_9'].map(feature_encoding_nom_9)"
   ]
  },
  {
   "cell_type": "code",
   "execution_count": 89,
   "metadata": {
    "colab": {
     "base_uri": "https://localhost:8080/",
     "height": 241
    },
    "colab_type": "code",
    "id": "ClTwO_DebD19",
    "outputId": "fedbddb0-a7ef-4958-c027-6662e483f76b"
   },
   "outputs": [
    {
     "data": {
      "text/html": [
       "<div>\n",
       "<style scoped>\n",
       "    .dataframe tbody tr th:only-of-type {\n",
       "        vertical-align: middle;\n",
       "    }\n",
       "\n",
       "    .dataframe tbody tr th {\n",
       "        vertical-align: top;\n",
       "    }\n",
       "\n",
       "    .dataframe thead th {\n",
       "        text-align: right;\n",
       "    }\n",
       "</style>\n",
       "<table border=\"1\" class=\"dataframe\">\n",
       "  <thead>\n",
       "    <tr style=\"text-align: right;\">\n",
       "      <th></th>\n",
       "      <th>label_bin_3</th>\n",
       "      <th>label_bin_4</th>\n",
       "      <th>nom_0__Green</th>\n",
       "      <th>nom_0__Red</th>\n",
       "      <th>nom_1__Polygon</th>\n",
       "      <th>nom_1__Square</th>\n",
       "      <th>nom_1__Star</th>\n",
       "      <th>nom_1__Trapezoid</th>\n",
       "      <th>nom_1__Triangle</th>\n",
       "      <th>nom_2__Cat</th>\n",
       "      <th>nom_2__Dog</th>\n",
       "      <th>nom_2__Hamster</th>\n",
       "      <th>nom_2__Lion</th>\n",
       "      <th>nom_2__Snake</th>\n",
       "      <th>nom_3__China</th>\n",
       "      <th>nom_3__Costa Rica</th>\n",
       "      <th>nom_3__Finland</th>\n",
       "      <th>nom_3__India</th>\n",
       "      <th>nom_3__Russia</th>\n",
       "      <th>nom_4__Oboe</th>\n",
       "      <th>nom_4__Piano</th>\n",
       "      <th>nom_4__Theremin</th>\n",
       "      <th>ord_1_label</th>\n",
       "      <th>ord_2_label</th>\n",
       "      <th>ord_3_label</th>\n",
       "      <th>ord_4_label</th>\n",
       "      <th>ord_5_label</th>\n",
       "      <th>nom_5</th>\n",
       "      <th>nom_6</th>\n",
       "      <th>nom_7</th>\n",
       "      <th>nom_8</th>\n",
       "      <th>nom_9</th>\n",
       "    </tr>\n",
       "  </thead>\n",
       "  <tbody>\n",
       "    <tr>\n",
       "      <th>0</th>\n",
       "      <td>0</td>\n",
       "      <td>0</td>\n",
       "      <td>0</td>\n",
       "      <td>1</td>\n",
       "      <td>0</td>\n",
       "      <td>0</td>\n",
       "      <td>0</td>\n",
       "      <td>1</td>\n",
       "      <td>0</td>\n",
       "      <td>0</td>\n",
       "      <td>0</td>\n",
       "      <td>1</td>\n",
       "      <td>0</td>\n",
       "      <td>0</td>\n",
       "      <td>0</td>\n",
       "      <td>0</td>\n",
       "      <td>0</td>\n",
       "      <td>0</td>\n",
       "      <td>1</td>\n",
       "      <td>0</td>\n",
       "      <td>0</td>\n",
       "      <td>0</td>\n",
       "      <td>1</td>\n",
       "      <td>3</td>\n",
       "      <td>2</td>\n",
       "      <td>20</td>\n",
       "      <td>56</td>\n",
       "      <td>0.000732</td>\n",
       "      <td>0.000325</td>\n",
       "      <td>0.003579</td>\n",
       "      <td>0.002712</td>\n",
       "      <td>0.000434</td>\n",
       "    </tr>\n",
       "    <tr>\n",
       "      <th>6</th>\n",
       "      <td>0</td>\n",
       "      <td>0</td>\n",
       "      <td>0</td>\n",
       "      <td>1</td>\n",
       "      <td>0</td>\n",
       "      <td>0</td>\n",
       "      <td>0</td>\n",
       "      <td>0</td>\n",
       "      <td>1</td>\n",
       "      <td>0</td>\n",
       "      <td>0</td>\n",
       "      <td>1</td>\n",
       "      <td>0</td>\n",
       "      <td>0</td>\n",
       "      <td>0</td>\n",
       "      <td>1</td>\n",
       "      <td>0</td>\n",
       "      <td>0</td>\n",
       "      <td>0</td>\n",
       "      <td>0</td>\n",
       "      <td>0</td>\n",
       "      <td>0</td>\n",
       "      <td>4</td>\n",
       "      <td>1</td>\n",
       "      <td>2</td>\n",
       "      <td>17</td>\n",
       "      <td>158</td>\n",
       "      <td>0.001464</td>\n",
       "      <td>0.000814</td>\n",
       "      <td>0.003552</td>\n",
       "      <td>0.004800</td>\n",
       "      <td>0.001030</td>\n",
       "    </tr>\n",
       "    <tr>\n",
       "      <th>7</th>\n",
       "      <td>1</td>\n",
       "      <td>0</td>\n",
       "      <td>0</td>\n",
       "      <td>1</td>\n",
       "      <td>0</td>\n",
       "      <td>0</td>\n",
       "      <td>0</td>\n",
       "      <td>0</td>\n",
       "      <td>1</td>\n",
       "      <td>0</td>\n",
       "      <td>0</td>\n",
       "      <td>0</td>\n",
       "      <td>0</td>\n",
       "      <td>0</td>\n",
       "      <td>0</td>\n",
       "      <td>0</td>\n",
       "      <td>1</td>\n",
       "      <td>0</td>\n",
       "      <td>0</td>\n",
       "      <td>0</td>\n",
       "      <td>0</td>\n",
       "      <td>0</td>\n",
       "      <td>2</td>\n",
       "      <td>1</td>\n",
       "      <td>1</td>\n",
       "      <td>24</td>\n",
       "      <td>54</td>\n",
       "      <td>0.001546</td>\n",
       "      <td>0.001302</td>\n",
       "      <td>0.009057</td>\n",
       "      <td>0.004610</td>\n",
       "      <td>0.000624</td>\n",
       "    </tr>\n",
       "    <tr>\n",
       "      <th>10</th>\n",
       "      <td>1</td>\n",
       "      <td>1</td>\n",
       "      <td>0</td>\n",
       "      <td>0</td>\n",
       "      <td>0</td>\n",
       "      <td>0</td>\n",
       "      <td>0</td>\n",
       "      <td>0</td>\n",
       "      <td>1</td>\n",
       "      <td>0</td>\n",
       "      <td>0</td>\n",
       "      <td>1</td>\n",
       "      <td>0</td>\n",
       "      <td>0</td>\n",
       "      <td>0</td>\n",
       "      <td>0</td>\n",
       "      <td>1</td>\n",
       "      <td>0</td>\n",
       "      <td>0</td>\n",
       "      <td>0</td>\n",
       "      <td>0</td>\n",
       "      <td>0</td>\n",
       "      <td>0</td>\n",
       "      <td>3</td>\n",
       "      <td>1</td>\n",
       "      <td>14</td>\n",
       "      <td>117</td>\n",
       "      <td>0.000814</td>\n",
       "      <td>0.001003</td>\n",
       "      <td>0.005179</td>\n",
       "      <td>0.007484</td>\n",
       "      <td>0.000705</td>\n",
       "    </tr>\n",
       "    <tr>\n",
       "      <th>11</th>\n",
       "      <td>0</td>\n",
       "      <td>1</td>\n",
       "      <td>0</td>\n",
       "      <td>1</td>\n",
       "      <td>0</td>\n",
       "      <td>1</td>\n",
       "      <td>0</td>\n",
       "      <td>0</td>\n",
       "      <td>0</td>\n",
       "      <td>0</td>\n",
       "      <td>0</td>\n",
       "      <td>1</td>\n",
       "      <td>0</td>\n",
       "      <td>0</td>\n",
       "      <td>0</td>\n",
       "      <td>1</td>\n",
       "      <td>0</td>\n",
       "      <td>0</td>\n",
       "      <td>0</td>\n",
       "      <td>1</td>\n",
       "      <td>0</td>\n",
       "      <td>0</td>\n",
       "      <td>1</td>\n",
       "      <td>3</td>\n",
       "      <td>1</td>\n",
       "      <td>12</td>\n",
       "      <td>182</td>\n",
       "      <td>0.001383</td>\n",
       "      <td>0.001003</td>\n",
       "      <td>0.006101</td>\n",
       "      <td>0.004556</td>\n",
       "      <td>0.000217</td>\n",
       "    </tr>\n",
       "  </tbody>\n",
       "</table>\n",
       "</div>"
      ],
      "text/plain": [
       "    label_bin_3  label_bin_4  nom_0__Green  nom_0__Red  nom_1__Polygon  \\\n",
       "0             0            0             0           1               0   \n",
       "6             0            0             0           1               0   \n",
       "7             1            0             0           1               0   \n",
       "10            1            1             0           0               0   \n",
       "11            0            1             0           1               0   \n",
       "\n",
       "    nom_1__Square  nom_1__Star  nom_1__Trapezoid  nom_1__Triangle  nom_2__Cat  \\\n",
       "0               0            0                 1                0           0   \n",
       "6               0            0                 0                1           0   \n",
       "7               0            0                 0                1           0   \n",
       "10              0            0                 0                1           0   \n",
       "11              1            0                 0                0           0   \n",
       "\n",
       "    nom_2__Dog  nom_2__Hamster  nom_2__Lion  nom_2__Snake  nom_3__China  \\\n",
       "0            0               1            0             0             0   \n",
       "6            0               1            0             0             0   \n",
       "7            0               0            0             0             0   \n",
       "10           0               1            0             0             0   \n",
       "11           0               1            0             0             0   \n",
       "\n",
       "    nom_3__Costa Rica  nom_3__Finland  nom_3__India  nom_3__Russia  \\\n",
       "0                   0               0             0              1   \n",
       "6                   1               0             0              0   \n",
       "7                   0               1             0              0   \n",
       "10                  0               1             0              0   \n",
       "11                  1               0             0              0   \n",
       "\n",
       "    nom_4__Oboe  nom_4__Piano  nom_4__Theremin  ord_1_label  ord_2_label  \\\n",
       "0             0             0                0            1            3   \n",
       "6             0             0                0            4            1   \n",
       "7             0             0                0            2            1   \n",
       "10            0             0                0            0            3   \n",
       "11            1             0                0            1            3   \n",
       "\n",
       "    ord_3_label  ord_4_label  ord_5_label     nom_5     nom_6     nom_7  \\\n",
       "0             2           20           56  0.000732  0.000325  0.003579   \n",
       "6             2           17          158  0.001464  0.000814  0.003552   \n",
       "7             1           24           54  0.001546  0.001302  0.009057   \n",
       "10            1           14          117  0.000814  0.001003  0.005179   \n",
       "11            1           12          182  0.001383  0.001003  0.006101   \n",
       "\n",
       "       nom_8     nom_9  \n",
       "0   0.002712  0.000434  \n",
       "6   0.004800  0.001030  \n",
       "7   0.004610  0.000624  \n",
       "10  0.007484  0.000705  \n",
       "11  0.004556  0.000217  "
      ]
     },
     "execution_count": 89,
     "metadata": {
      "tags": []
     },
     "output_type": "execute_result"
    }
   ],
   "source": [
    "cat_data.head()"
   ]
  },
  {
   "cell_type": "code",
   "execution_count": 90,
   "metadata": {
    "colab": {
     "base_uri": "https://localhost:8080/",
     "height": 34
    },
    "colab_type": "code",
    "id": "J0hizv3AcjbB",
    "outputId": "5ad92374-e233-4a59-95e6-15e656fa8ddf"
   },
   "outputs": [
    {
     "data": {
      "text/plain": [
       "(36877, 39)"
      ]
     },
     "execution_count": 90,
     "metadata": {
      "tags": []
     },
     "output_type": "execute_result"
    }
   ],
   "source": [
    "final_data = pd.concat([cat_data, data[['bin_0', 'bin_1', 'bin_2', 'ord_0', 'day', 'month', 'target']]], axis=1)\n",
    "final_data.shape"
   ]
  },
  {
   "cell_type": "code",
   "execution_count": 91,
   "metadata": {
    "colab": {
     "base_uri": "https://localhost:8080/",
     "height": 34
    },
    "colab_type": "code",
    "id": "3U0-YXJYcjmK",
    "outputId": "9d24d8d7-3372-4359-a360-07a07cd5ac1e"
   },
   "outputs": [
    {
     "data": {
      "text/plain": [
       "((25813, 38), (11064, 38), (25813,), (11064,))"
      ]
     },
     "execution_count": 91,
     "metadata": {
      "tags": []
     },
     "output_type": "execute_result"
    }
   ],
   "source": [
    "X_train, X_test, y_train, y_test = train_test_split(final_data[final_data.columns.difference(['target'])], final_data['target'], test_size=0.3, random_state=1)\n",
    "X_train.shape, X_test.shape, y_train.shape, y_test.shape"
   ]
  },
  {
   "cell_type": "code",
   "execution_count": 92,
   "metadata": {
    "colab": {
     "base_uri": "https://localhost:8080/",
     "height": 34
    },
    "colab_type": "code",
    "id": "WRMvwvQ8cj4r",
    "outputId": "ce210c0a-8ae5-4b5d-88a9-13976a615b24"
   },
   "outputs": [
    {
     "name": "stdout",
     "output_type": "stream",
     "text": [
      "0.8104663774403471\n"
     ]
    }
   ],
   "source": [
    "clf = LogisticRegression(random_state=0).fit(X_train, y_train)\n",
    "y_pred = clf.predict(X_test)\n",
    "acc = accuracy_score(y_test, y_pred)\n",
    "print(acc)"
   ]
  },
  {
   "cell_type": "markdown",
   "metadata": {
    "colab_type": "text",
    "id": "I2urLmSscdn8"
   },
   "source": [
    "## Scaling the features "
   ]
  },
  {
   "cell_type": "code",
   "execution_count": 0,
   "metadata": {
    "colab": {},
    "colab_type": "code",
    "id": "eUe1Pe2ZbJ6B"
   },
   "outputs": [],
   "source": [
    "from sklearn import preprocessing\n",
    "mm_scaler = preprocessing.MinMaxScaler()\n",
    "X_train_minmax = mm_scaler.fit_transform(X_train)\n",
    "X_test_minmax = mm_scaler.transform(X_test)"
   ]
  },
  {
   "cell_type": "code",
   "execution_count": 94,
   "metadata": {
    "colab": {
     "base_uri": "https://localhost:8080/",
     "height": 34
    },
    "colab_type": "code",
    "id": "1bpL3sYuc77X",
    "outputId": "68a091b7-3750-42fc-ff64-d1c29c8d176b"
   },
   "outputs": [
    {
     "name": "stdout",
     "output_type": "stream",
     "text": [
      "0.818239334779465\n"
     ]
    }
   ],
   "source": [
    "clf = LogisticRegression(random_state=0).fit(X_train_minmax, y_train)\n",
    "y_pred = clf.predict(X_test_minmax)\n",
    "acc = accuracy_score(y_test, y_pred)\n",
    "print(acc)"
   ]
  },
  {
   "cell_type": "markdown",
   "metadata": {
    "colab_type": "text",
    "id": "HHVvyol1fLFg"
   },
   "source": [
    "## Apply Frequency encoding for columns nom_5, nom_6, nom_7, nom_8, nom_9 by dividing by len()"
   ]
  },
  {
   "cell_type": "code",
   "execution_count": 0,
   "metadata": {
    "colab": {},
    "colab_type": "code",
    "id": "Q4Tf62U4fKCY"
   },
   "outputs": [],
   "source": [
    "feature_encoding_nom_5 = data['nom_5'].value_counts()/len(cat_data)\n",
    "feature_encoding_nom_6 = data['nom_6'].value_counts()/len(cat_data)\n",
    "feature_encoding_nom_7 = data['nom_7'].value_counts()/len(cat_data)\n",
    "feature_encoding_nom_8 = data['nom_8'].value_counts()/len(cat_data)\n",
    "feature_encoding_nom_9 = data['nom_9'].value_counts()/len(cat_data)"
   ]
  },
  {
   "cell_type": "code",
   "execution_count": 0,
   "metadata": {
    "colab": {},
    "colab_type": "code",
    "id": "1zTcK_hBfKI9"
   },
   "outputs": [],
   "source": [
    "cat_data['nom_5'] = data['nom_5'].map(feature_encoding_nom_5)\n",
    "cat_data['nom_6'] = data['nom_6'].map(feature_encoding_nom_6)\n",
    "cat_data['nom_7'] = data['nom_7'].map(feature_encoding_nom_7)\n",
    "cat_data['nom_8'] = data['nom_8'].map(feature_encoding_nom_8)\n",
    "cat_data['nom_9'] = data['nom_9'].map(feature_encoding_nom_9)"
   ]
  },
  {
   "cell_type": "code",
   "execution_count": 97,
   "metadata": {
    "colab": {
     "base_uri": "https://localhost:8080/",
     "height": 34
    },
    "colab_type": "code",
    "id": "2ml026uzfKOV",
    "outputId": "f203ec30-656b-43a7-c690-578fe9ca189b"
   },
   "outputs": [
    {
     "data": {
      "text/plain": [
       "(36877, 39)"
      ]
     },
     "execution_count": 97,
     "metadata": {
      "tags": []
     },
     "output_type": "execute_result"
    }
   ],
   "source": [
    "final_data = pd.concat([cat_data, data[['bin_0', 'bin_1', 'bin_2', 'ord_0', 'day', 'month', 'target']]], axis=1)\n",
    "final_data.shape"
   ]
  },
  {
   "cell_type": "code",
   "execution_count": 98,
   "metadata": {
    "colab": {
     "base_uri": "https://localhost:8080/",
     "height": 34
    },
    "colab_type": "code",
    "id": "TBcOVVjifKMF",
    "outputId": "5fe75a28-0596-454e-e60f-54354a20d60f"
   },
   "outputs": [
    {
     "data": {
      "text/plain": [
       "((25813, 38), (11064, 38), (25813,), (11064,))"
      ]
     },
     "execution_count": 98,
     "metadata": {
      "tags": []
     },
     "output_type": "execute_result"
    }
   ],
   "source": [
    "X_train, X_test, y_train, y_test = train_test_split(final_data[final_data.columns.difference(['target'])], final_data['target'], test_size=0.3, random_state=1)\n",
    "X_train.shape, X_test.shape, y_train.shape, y_test.shape"
   ]
  },
  {
   "cell_type": "code",
   "execution_count": 99,
   "metadata": {
    "colab": {
     "base_uri": "https://localhost:8080/",
     "height": 34
    },
    "colab_type": "code",
    "id": "GgnB4ZxsfKHf",
    "outputId": "9c08a3b2-81c4-40db-c20e-7fc4d3765d3a"
   },
   "outputs": [
    {
     "name": "stdout",
     "output_type": "stream",
     "text": [
      "0.8104663774403471\n"
     ]
    }
   ],
   "source": [
    "clf = LogisticRegression(random_state=0).fit(X_train, y_train)\n",
    "y_pred = clf.predict(X_test)\n",
    "acc = accuracy_score(y_test, y_pred)\n",
    "print(acc)"
   ]
  },
  {
   "cell_type": "markdown",
   "metadata": {
    "colab_type": "text",
    "id": "Y6M8w3L7f88U"
   },
   "source": [
    "## Scaling the features "
   ]
  },
  {
   "cell_type": "code",
   "execution_count": 0,
   "metadata": {
    "colab": {},
    "colab_type": "code",
    "id": "H2RwRslaf88Y"
   },
   "outputs": [],
   "source": [
    "from sklearn import preprocessing\n",
    "mm_scaler = preprocessing.MinMaxScaler()\n",
    "X_train_minmax = mm_scaler.fit_transform(X_train)\n",
    "X_test_minmax = mm_scaler.transform(X_test)"
   ]
  },
  {
   "cell_type": "code",
   "execution_count": 101,
   "metadata": {
    "colab": {
     "base_uri": "https://localhost:8080/",
     "height": 34
    },
    "colab_type": "code",
    "id": "RHY6SX4xf88c",
    "outputId": "ba554607-b707-46e8-a08c-ccfe6ef3d62c"
   },
   "outputs": [
    {
     "name": "stdout",
     "output_type": "stream",
     "text": [
      "0.818239334779465\n"
     ]
    }
   ],
   "source": [
    "clf = LogisticRegression(random_state=0).fit(X_train_minmax, y_train)\n",
    "y_pred = clf.predict(X_test_minmax)\n",
    "acc = accuracy_score(y_test, y_pred)\n",
    "print(acc)"
   ]
  },
  {
   "cell_type": "markdown",
   "metadata": {
    "colab_type": "text",
    "id": "jaOwwRx6gUDU"
   },
   "source": [
    "## **This means that value_counts(normalize=True) and value_counts()/len(dataframe) are one and the same things and hence yield same metrics**"
   ]
  },
  {
   "cell_type": "markdown",
   "metadata": {
    "colab_type": "text",
    "id": "_bcOqKWze8wK"
   },
   "source": [
    "## Apply feature encoding to columns ord_3, ord_4, ord_5"
   ]
  },
  {
   "cell_type": "code",
   "execution_count": 102,
   "metadata": {
    "colab": {
     "base_uri": "https://localhost:8080/",
     "height": 170
    },
    "colab_type": "code",
    "id": "d3SNFKMJglun",
    "outputId": "7f06d5e4-8d9c-46b7-ed83-cc818a386cab"
   },
   "outputs": [
    {
     "data": {
      "text/plain": [
       "Index(['label_bin_3', 'label_bin_4', 'nom_0__Green', 'nom_0__Red',\n",
       "       'nom_1__Polygon', 'nom_1__Square', 'nom_1__Star', 'nom_1__Trapezoid',\n",
       "       'nom_1__Triangle', 'nom_2__Cat', 'nom_2__Dog', 'nom_2__Hamster',\n",
       "       'nom_2__Lion', 'nom_2__Snake', 'nom_3__China', 'nom_3__Costa Rica',\n",
       "       'nom_3__Finland', 'nom_3__India', 'nom_3__Russia', 'nom_4__Oboe',\n",
       "       'nom_4__Piano', 'nom_4__Theremin', 'ord_1_label', 'ord_2_label',\n",
       "       'ord_3_label', 'ord_4_label', 'ord_5_label', 'nom_5', 'nom_6', 'nom_7',\n",
       "       'nom_8', 'nom_9'],\n",
       "      dtype='object')"
      ]
     },
     "execution_count": 102,
     "metadata": {
      "tags": []
     },
     "output_type": "execute_result"
    }
   ],
   "source": [
    "cat_data.columns"
   ]
  },
  {
   "cell_type": "code",
   "execution_count": 103,
   "metadata": {
    "colab": {
     "base_uri": "https://localhost:8080/",
     "height": 258
    },
    "colab_type": "code",
    "id": "2Iqvg5E0dDHE",
    "outputId": "c36014ce-f930-469f-a38a-e6f4bd0b5ff4"
   },
   "outputs": [
    {
     "data": {
      "text/html": [
       "<div>\n",
       "<style scoped>\n",
       "    .dataframe tbody tr th:only-of-type {\n",
       "        vertical-align: middle;\n",
       "    }\n",
       "\n",
       "    .dataframe tbody tr th {\n",
       "        vertical-align: top;\n",
       "    }\n",
       "\n",
       "    .dataframe thead th {\n",
       "        text-align: right;\n",
       "    }\n",
       "</style>\n",
       "<table border=\"1\" class=\"dataframe\">\n",
       "  <thead>\n",
       "    <tr style=\"text-align: right;\">\n",
       "      <th></th>\n",
       "      <th>id</th>\n",
       "      <th>bin_0</th>\n",
       "      <th>bin_1</th>\n",
       "      <th>bin_2</th>\n",
       "      <th>bin_3</th>\n",
       "      <th>bin_4</th>\n",
       "      <th>nom_0</th>\n",
       "      <th>nom_1</th>\n",
       "      <th>nom_2</th>\n",
       "      <th>nom_3</th>\n",
       "      <th>nom_4</th>\n",
       "      <th>nom_5</th>\n",
       "      <th>nom_6</th>\n",
       "      <th>nom_7</th>\n",
       "      <th>nom_8</th>\n",
       "      <th>nom_9</th>\n",
       "      <th>ord_0</th>\n",
       "      <th>ord_1</th>\n",
       "      <th>ord_2</th>\n",
       "      <th>ord_3</th>\n",
       "      <th>ord_4</th>\n",
       "      <th>ord_5</th>\n",
       "      <th>day</th>\n",
       "      <th>month</th>\n",
       "      <th>target</th>\n",
       "    </tr>\n",
       "  </thead>\n",
       "  <tbody>\n",
       "    <tr>\n",
       "      <th>0</th>\n",
       "      <td>0</td>\n",
       "      <td>0.0</td>\n",
       "      <td>0.0</td>\n",
       "      <td>0.0</td>\n",
       "      <td>F</td>\n",
       "      <td>N</td>\n",
       "      <td>Red</td>\n",
       "      <td>Trapezoid</td>\n",
       "      <td>Hamster</td>\n",
       "      <td>Russia</td>\n",
       "      <td>Bassoon</td>\n",
       "      <td>de4c57ee2</td>\n",
       "      <td>a64bc7ddf</td>\n",
       "      <td>598080a91</td>\n",
       "      <td>0256c7a4b</td>\n",
       "      <td>02e7c8990</td>\n",
       "      <td>3.0</td>\n",
       "      <td>Contributor</td>\n",
       "      <td>Hot</td>\n",
       "      <td>c</td>\n",
       "      <td>U</td>\n",
       "      <td>Pw</td>\n",
       "      <td>6.0</td>\n",
       "      <td>3.0</td>\n",
       "      <td>0.0</td>\n",
       "    </tr>\n",
       "    <tr>\n",
       "      <th>6</th>\n",
       "      <td>6</td>\n",
       "      <td>0.0</td>\n",
       "      <td>0.0</td>\n",
       "      <td>0.0</td>\n",
       "      <td>F</td>\n",
       "      <td>N</td>\n",
       "      <td>Red</td>\n",
       "      <td>Triangle</td>\n",
       "      <td>Hamster</td>\n",
       "      <td>Costa Rica</td>\n",
       "      <td>Bassoon</td>\n",
       "      <td>87a5be0d7</td>\n",
       "      <td>cdc35bd00</td>\n",
       "      <td>1cba571fa</td>\n",
       "      <td>b8e63cace</td>\n",
       "      <td>4d3766412</td>\n",
       "      <td>1.0</td>\n",
       "      <td>Grandmaster</td>\n",
       "      <td>Cold</td>\n",
       "      <td>c</td>\n",
       "      <td>R</td>\n",
       "      <td>rg</td>\n",
       "      <td>5.0</td>\n",
       "      <td>6.0</td>\n",
       "      <td>0.0</td>\n",
       "    </tr>\n",
       "    <tr>\n",
       "      <th>7</th>\n",
       "      <td>7</td>\n",
       "      <td>0.0</td>\n",
       "      <td>0.0</td>\n",
       "      <td>1.0</td>\n",
       "      <td>T</td>\n",
       "      <td>N</td>\n",
       "      <td>Red</td>\n",
       "      <td>Triangle</td>\n",
       "      <td>Axolotl</td>\n",
       "      <td>Finland</td>\n",
       "      <td>Bassoon</td>\n",
       "      <td>104aee31d</td>\n",
       "      <td>2a50808ba</td>\n",
       "      <td>81d67e1bb</td>\n",
       "      <td>bd9643a20</td>\n",
       "      <td>a651dec43</td>\n",
       "      <td>3.0</td>\n",
       "      <td>Expert</td>\n",
       "      <td>Cold</td>\n",
       "      <td>b</td>\n",
       "      <td>Y</td>\n",
       "      <td>PS</td>\n",
       "      <td>1.0</td>\n",
       "      <td>1.0</td>\n",
       "      <td>0.0</td>\n",
       "    </tr>\n",
       "    <tr>\n",
       "      <th>10</th>\n",
       "      <td>10</td>\n",
       "      <td>0.0</td>\n",
       "      <td>0.0</td>\n",
       "      <td>1.0</td>\n",
       "      <td>T</td>\n",
       "      <td>Y</td>\n",
       "      <td>Blue</td>\n",
       "      <td>Triangle</td>\n",
       "      <td>Hamster</td>\n",
       "      <td>Finland</td>\n",
       "      <td>Bassoon</td>\n",
       "      <td>8bd03e713</td>\n",
       "      <td>0d8c9ee63</td>\n",
       "      <td>93360bbc9</td>\n",
       "      <td>28869f8aa</td>\n",
       "      <td>9bfe3ee22</td>\n",
       "      <td>1.0</td>\n",
       "      <td>Novice</td>\n",
       "      <td>Hot</td>\n",
       "      <td>b</td>\n",
       "      <td>O</td>\n",
       "      <td>hG</td>\n",
       "      <td>7.0</td>\n",
       "      <td>5.0</td>\n",
       "      <td>1.0</td>\n",
       "    </tr>\n",
       "    <tr>\n",
       "      <th>11</th>\n",
       "      <td>11</td>\n",
       "      <td>0.0</td>\n",
       "      <td>0.0</td>\n",
       "      <td>1.0</td>\n",
       "      <td>F</td>\n",
       "      <td>Y</td>\n",
       "      <td>Red</td>\n",
       "      <td>Square</td>\n",
       "      <td>Hamster</td>\n",
       "      <td>Costa Rica</td>\n",
       "      <td>Oboe</td>\n",
       "      <td>b574c9841</td>\n",
       "      <td>494b565c1</td>\n",
       "      <td>088aace2d</td>\n",
       "      <td>74a092964</td>\n",
       "      <td>6c73b62e4</td>\n",
       "      <td>1.0</td>\n",
       "      <td>Contributor</td>\n",
       "      <td>Hot</td>\n",
       "      <td>b</td>\n",
       "      <td>M</td>\n",
       "      <td>xF</td>\n",
       "      <td>2.0</td>\n",
       "      <td>8.0</td>\n",
       "      <td>0.0</td>\n",
       "    </tr>\n",
       "  </tbody>\n",
       "</table>\n",
       "</div>"
      ],
      "text/plain": [
       "    id  bin_0  bin_1  bin_2 bin_3 bin_4 nom_0      nom_1    nom_2       nom_3  \\\n",
       "0    0    0.0    0.0    0.0     F     N   Red  Trapezoid  Hamster      Russia   \n",
       "6    6    0.0    0.0    0.0     F     N   Red   Triangle  Hamster  Costa Rica   \n",
       "7    7    0.0    0.0    1.0     T     N   Red   Triangle  Axolotl     Finland   \n",
       "10  10    0.0    0.0    1.0     T     Y  Blue   Triangle  Hamster     Finland   \n",
       "11  11    0.0    0.0    1.0     F     Y   Red     Square  Hamster  Costa Rica   \n",
       "\n",
       "      nom_4      nom_5      nom_6      nom_7      nom_8      nom_9  ord_0  \\\n",
       "0   Bassoon  de4c57ee2  a64bc7ddf  598080a91  0256c7a4b  02e7c8990    3.0   \n",
       "6   Bassoon  87a5be0d7  cdc35bd00  1cba571fa  b8e63cace  4d3766412    1.0   \n",
       "7   Bassoon  104aee31d  2a50808ba  81d67e1bb  bd9643a20  a651dec43    3.0   \n",
       "10  Bassoon  8bd03e713  0d8c9ee63  93360bbc9  28869f8aa  9bfe3ee22    1.0   \n",
       "11     Oboe  b574c9841  494b565c1  088aace2d  74a092964  6c73b62e4    1.0   \n",
       "\n",
       "          ord_1 ord_2 ord_3 ord_4 ord_5  day  month  target  \n",
       "0   Contributor   Hot     c     U    Pw  6.0    3.0     0.0  \n",
       "6   Grandmaster  Cold     c     R    rg  5.0    6.0     0.0  \n",
       "7        Expert  Cold     b     Y    PS  1.0    1.0     0.0  \n",
       "10       Novice   Hot     b     O    hG  7.0    5.0     1.0  \n",
       "11  Contributor   Hot     b     M    xF  2.0    8.0     0.0  "
      ]
     },
     "execution_count": 103,
     "metadata": {
      "tags": []
     },
     "output_type": "execute_result"
    }
   ],
   "source": [
    "data.head()"
   ]
  },
  {
   "cell_type": "code",
   "execution_count": 0,
   "metadata": {
    "colab": {},
    "colab_type": "code",
    "id": "uL43zofRkPxF"
   },
   "outputs": [],
   "source": [
    "feature_encoding_ord_3 = data['ord_3'].value_counts(normalize=True)\n",
    "feature_encoding_ord_4 = data['ord_4'].value_counts(normalize=True)\n",
    "feature_encoding_ord_5 = data['ord_5'].value_counts(normalize=True)"
   ]
  },
  {
   "cell_type": "code",
   "execution_count": 0,
   "metadata": {
    "colab": {},
    "colab_type": "code",
    "id": "ZdXhBp9IjXmT"
   },
   "outputs": [],
   "source": [
    "cat_data['ord_3_label'] = data['ord_3'].map(feature_encoding_ord_3)\n",
    "cat_data['ord_4_label'] = data['ord_4'].map(feature_encoding_ord_4)\n",
    "cat_data['ord_5_label'] = data['ord_5'].map(feature_encoding_ord_5)"
   ]
  },
  {
   "cell_type": "code",
   "execution_count": 106,
   "metadata": {
    "colab": {
     "base_uri": "https://localhost:8080/",
     "height": 241
    },
    "colab_type": "code",
    "id": "FPrZhlelj52f",
    "outputId": "b4302cea-c797-45aa-c63f-47962081cc11"
   },
   "outputs": [
    {
     "data": {
      "text/html": [
       "<div>\n",
       "<style scoped>\n",
       "    .dataframe tbody tr th:only-of-type {\n",
       "        vertical-align: middle;\n",
       "    }\n",
       "\n",
       "    .dataframe tbody tr th {\n",
       "        vertical-align: top;\n",
       "    }\n",
       "\n",
       "    .dataframe thead th {\n",
       "        text-align: right;\n",
       "    }\n",
       "</style>\n",
       "<table border=\"1\" class=\"dataframe\">\n",
       "  <thead>\n",
       "    <tr style=\"text-align: right;\">\n",
       "      <th></th>\n",
       "      <th>label_bin_3</th>\n",
       "      <th>label_bin_4</th>\n",
       "      <th>nom_0__Green</th>\n",
       "      <th>nom_0__Red</th>\n",
       "      <th>nom_1__Polygon</th>\n",
       "      <th>nom_1__Square</th>\n",
       "      <th>nom_1__Star</th>\n",
       "      <th>nom_1__Trapezoid</th>\n",
       "      <th>nom_1__Triangle</th>\n",
       "      <th>nom_2__Cat</th>\n",
       "      <th>nom_2__Dog</th>\n",
       "      <th>nom_2__Hamster</th>\n",
       "      <th>nom_2__Lion</th>\n",
       "      <th>nom_2__Snake</th>\n",
       "      <th>nom_3__China</th>\n",
       "      <th>nom_3__Costa Rica</th>\n",
       "      <th>nom_3__Finland</th>\n",
       "      <th>nom_3__India</th>\n",
       "      <th>nom_3__Russia</th>\n",
       "      <th>nom_4__Oboe</th>\n",
       "      <th>nom_4__Piano</th>\n",
       "      <th>nom_4__Theremin</th>\n",
       "      <th>ord_1_label</th>\n",
       "      <th>ord_2_label</th>\n",
       "      <th>ord_3_label</th>\n",
       "      <th>ord_4_label</th>\n",
       "      <th>ord_5_label</th>\n",
       "      <th>nom_5</th>\n",
       "      <th>nom_6</th>\n",
       "      <th>nom_7</th>\n",
       "      <th>nom_8</th>\n",
       "      <th>nom_9</th>\n",
       "    </tr>\n",
       "  </thead>\n",
       "  <tbody>\n",
       "    <tr>\n",
       "      <th>0</th>\n",
       "      <td>0</td>\n",
       "      <td>0</td>\n",
       "      <td>0</td>\n",
       "      <td>1</td>\n",
       "      <td>0</td>\n",
       "      <td>0</td>\n",
       "      <td>0</td>\n",
       "      <td>1</td>\n",
       "      <td>0</td>\n",
       "      <td>0</td>\n",
       "      <td>0</td>\n",
       "      <td>1</td>\n",
       "      <td>0</td>\n",
       "      <td>0</td>\n",
       "      <td>0</td>\n",
       "      <td>0</td>\n",
       "      <td>0</td>\n",
       "      <td>0</td>\n",
       "      <td>1</td>\n",
       "      <td>0</td>\n",
       "      <td>0</td>\n",
       "      <td>0</td>\n",
       "      <td>1</td>\n",
       "      <td>3</td>\n",
       "      <td>0.098571</td>\n",
       "      <td>0.055400</td>\n",
       "      <td>0.007430</td>\n",
       "      <td>0.000732</td>\n",
       "      <td>0.000325</td>\n",
       "      <td>0.003579</td>\n",
       "      <td>0.002712</td>\n",
       "      <td>0.000434</td>\n",
       "    </tr>\n",
       "    <tr>\n",
       "      <th>6</th>\n",
       "      <td>0</td>\n",
       "      <td>0</td>\n",
       "      <td>0</td>\n",
       "      <td>1</td>\n",
       "      <td>0</td>\n",
       "      <td>0</td>\n",
       "      <td>0</td>\n",
       "      <td>0</td>\n",
       "      <td>1</td>\n",
       "      <td>0</td>\n",
       "      <td>0</td>\n",
       "      <td>1</td>\n",
       "      <td>0</td>\n",
       "      <td>0</td>\n",
       "      <td>0</td>\n",
       "      <td>1</td>\n",
       "      <td>0</td>\n",
       "      <td>0</td>\n",
       "      <td>0</td>\n",
       "      <td>0</td>\n",
       "      <td>0</td>\n",
       "      <td>0</td>\n",
       "      <td>4</td>\n",
       "      <td>1</td>\n",
       "      <td>0.098571</td>\n",
       "      <td>0.056322</td>\n",
       "      <td>0.007701</td>\n",
       "      <td>0.001464</td>\n",
       "      <td>0.000814</td>\n",
       "      <td>0.003552</td>\n",
       "      <td>0.004800</td>\n",
       "      <td>0.001030</td>\n",
       "    </tr>\n",
       "    <tr>\n",
       "      <th>7</th>\n",
       "      <td>1</td>\n",
       "      <td>0</td>\n",
       "      <td>0</td>\n",
       "      <td>1</td>\n",
       "      <td>0</td>\n",
       "      <td>0</td>\n",
       "      <td>0</td>\n",
       "      <td>0</td>\n",
       "      <td>1</td>\n",
       "      <td>0</td>\n",
       "      <td>0</td>\n",
       "      <td>0</td>\n",
       "      <td>0</td>\n",
       "      <td>0</td>\n",
       "      <td>0</td>\n",
       "      <td>0</td>\n",
       "      <td>1</td>\n",
       "      <td>0</td>\n",
       "      <td>0</td>\n",
       "      <td>0</td>\n",
       "      <td>0</td>\n",
       "      <td>0</td>\n",
       "      <td>2</td>\n",
       "      <td>1</td>\n",
       "      <td>0.077718</td>\n",
       "      <td>0.063156</td>\n",
       "      <td>0.009193</td>\n",
       "      <td>0.001546</td>\n",
       "      <td>0.001302</td>\n",
       "      <td>0.009057</td>\n",
       "      <td>0.004610</td>\n",
       "      <td>0.000624</td>\n",
       "    </tr>\n",
       "    <tr>\n",
       "      <th>10</th>\n",
       "      <td>1</td>\n",
       "      <td>1</td>\n",
       "      <td>0</td>\n",
       "      <td>0</td>\n",
       "      <td>0</td>\n",
       "      <td>0</td>\n",
       "      <td>0</td>\n",
       "      <td>0</td>\n",
       "      <td>1</td>\n",
       "      <td>0</td>\n",
       "      <td>0</td>\n",
       "      <td>1</td>\n",
       "      <td>0</td>\n",
       "      <td>0</td>\n",
       "      <td>0</td>\n",
       "      <td>0</td>\n",
       "      <td>1</td>\n",
       "      <td>0</td>\n",
       "      <td>0</td>\n",
       "      <td>0</td>\n",
       "      <td>0</td>\n",
       "      <td>0</td>\n",
       "      <td>0</td>\n",
       "      <td>3</td>\n",
       "      <td>0.077718</td>\n",
       "      <td>0.045340</td>\n",
       "      <td>0.008406</td>\n",
       "      <td>0.000814</td>\n",
       "      <td>0.001003</td>\n",
       "      <td>0.005179</td>\n",
       "      <td>0.007484</td>\n",
       "      <td>0.000705</td>\n",
       "    </tr>\n",
       "    <tr>\n",
       "      <th>11</th>\n",
       "      <td>0</td>\n",
       "      <td>1</td>\n",
       "      <td>0</td>\n",
       "      <td>1</td>\n",
       "      <td>0</td>\n",
       "      <td>1</td>\n",
       "      <td>0</td>\n",
       "      <td>0</td>\n",
       "      <td>0</td>\n",
       "      <td>0</td>\n",
       "      <td>0</td>\n",
       "      <td>1</td>\n",
       "      <td>0</td>\n",
       "      <td>0</td>\n",
       "      <td>0</td>\n",
       "      <td>1</td>\n",
       "      <td>0</td>\n",
       "      <td>0</td>\n",
       "      <td>0</td>\n",
       "      <td>1</td>\n",
       "      <td>0</td>\n",
       "      <td>0</td>\n",
       "      <td>1</td>\n",
       "      <td>3</td>\n",
       "      <td>0.077718</td>\n",
       "      <td>0.055997</td>\n",
       "      <td>0.003335</td>\n",
       "      <td>0.001383</td>\n",
       "      <td>0.001003</td>\n",
       "      <td>0.006101</td>\n",
       "      <td>0.004556</td>\n",
       "      <td>0.000217</td>\n",
       "    </tr>\n",
       "  </tbody>\n",
       "</table>\n",
       "</div>"
      ],
      "text/plain": [
       "    label_bin_3  label_bin_4  nom_0__Green  nom_0__Red  nom_1__Polygon  \\\n",
       "0             0            0             0           1               0   \n",
       "6             0            0             0           1               0   \n",
       "7             1            0             0           1               0   \n",
       "10            1            1             0           0               0   \n",
       "11            0            1             0           1               0   \n",
       "\n",
       "    nom_1__Square  nom_1__Star  nom_1__Trapezoid  nom_1__Triangle  nom_2__Cat  \\\n",
       "0               0            0                 1                0           0   \n",
       "6               0            0                 0                1           0   \n",
       "7               0            0                 0                1           0   \n",
       "10              0            0                 0                1           0   \n",
       "11              1            0                 0                0           0   \n",
       "\n",
       "    nom_2__Dog  nom_2__Hamster  nom_2__Lion  nom_2__Snake  nom_3__China  \\\n",
       "0            0               1            0             0             0   \n",
       "6            0               1            0             0             0   \n",
       "7            0               0            0             0             0   \n",
       "10           0               1            0             0             0   \n",
       "11           0               1            0             0             0   \n",
       "\n",
       "    nom_3__Costa Rica  nom_3__Finland  nom_3__India  nom_3__Russia  \\\n",
       "0                   0               0             0              1   \n",
       "6                   1               0             0              0   \n",
       "7                   0               1             0              0   \n",
       "10                  0               1             0              0   \n",
       "11                  1               0             0              0   \n",
       "\n",
       "    nom_4__Oboe  nom_4__Piano  nom_4__Theremin  ord_1_label  ord_2_label  \\\n",
       "0             0             0                0            1            3   \n",
       "6             0             0                0            4            1   \n",
       "7             0             0                0            2            1   \n",
       "10            0             0                0            0            3   \n",
       "11            1             0                0            1            3   \n",
       "\n",
       "    ord_3_label  ord_4_label  ord_5_label     nom_5     nom_6     nom_7  \\\n",
       "0      0.098571     0.055400     0.007430  0.000732  0.000325  0.003579   \n",
       "6      0.098571     0.056322     0.007701  0.001464  0.000814  0.003552   \n",
       "7      0.077718     0.063156     0.009193  0.001546  0.001302  0.009057   \n",
       "10     0.077718     0.045340     0.008406  0.000814  0.001003  0.005179   \n",
       "11     0.077718     0.055997     0.003335  0.001383  0.001003  0.006101   \n",
       "\n",
       "       nom_8     nom_9  \n",
       "0   0.002712  0.000434  \n",
       "6   0.004800  0.001030  \n",
       "7   0.004610  0.000624  \n",
       "10  0.007484  0.000705  \n",
       "11  0.004556  0.000217  "
      ]
     },
     "execution_count": 106,
     "metadata": {
      "tags": []
     },
     "output_type": "execute_result"
    }
   ],
   "source": [
    "cat_data.head()"
   ]
  },
  {
   "cell_type": "code",
   "execution_count": 107,
   "metadata": {
    "colab": {
     "base_uri": "https://localhost:8080/",
     "height": 34
    },
    "colab_type": "code",
    "id": "0yy4gQWnjeKs",
    "outputId": "5c282185-8b5b-4c45-a1c1-720acc8b5380"
   },
   "outputs": [
    {
     "data": {
      "text/plain": [
       "(36877, 39)"
      ]
     },
     "execution_count": 107,
     "metadata": {
      "tags": []
     },
     "output_type": "execute_result"
    }
   ],
   "source": [
    "final_data = pd.concat([cat_data, data[['bin_0', 'bin_1', 'bin_2', 'ord_0', 'day', 'month', 'target']]], axis=1)\n",
    "final_data.shape"
   ]
  },
  {
   "cell_type": "code",
   "execution_count": 108,
   "metadata": {
    "colab": {
     "base_uri": "https://localhost:8080/",
     "height": 34
    },
    "colab_type": "code",
    "id": "V4uGy8WmhQi5",
    "outputId": "0cbd75bf-b8b8-4c54-90d0-d38986fe4f2c"
   },
   "outputs": [
    {
     "data": {
      "text/plain": [
       "((25813, 38), (11064, 38), (25813,), (11064,))"
      ]
     },
     "execution_count": 108,
     "metadata": {
      "tags": []
     },
     "output_type": "execute_result"
    }
   ],
   "source": [
    "X_train, X_test, y_train, y_test = train_test_split(final_data[final_data.columns.difference(['target'])], final_data['target'], test_size=0.3, random_state=1)\n",
    "X_train.shape, X_test.shape, y_train.shape, y_test.shape"
   ]
  },
  {
   "cell_type": "code",
   "execution_count": 109,
   "metadata": {
    "colab": {
     "base_uri": "https://localhost:8080/",
     "height": 34
    },
    "colab_type": "code",
    "id": "_8WL1eMrhS8_",
    "outputId": "d3f0e85b-aa2f-46a1-eb33-1375376eb287"
   },
   "outputs": [
    {
     "name": "stdout",
     "output_type": "stream",
     "text": [
      "0.8133586406362979\n"
     ]
    }
   ],
   "source": [
    "clf = LogisticRegression(random_state=0).fit(X_train, y_train)\n",
    "y_pred = clf.predict(X_test)\n",
    "acc = accuracy_score(y_test, y_pred)\n",
    "print(acc)"
   ]
  },
  {
   "cell_type": "markdown",
   "metadata": {
    "colab_type": "text",
    "id": "Lfjdc1d2lLzP"
   },
   "source": [
    "## Scaling the features "
   ]
  },
  {
   "cell_type": "code",
   "execution_count": 0,
   "metadata": {
    "colab": {},
    "colab_type": "code",
    "id": "Gj-V7SOQlLzV"
   },
   "outputs": [],
   "source": [
    "from sklearn import preprocessing\n",
    "mm_scaler = preprocessing.MinMaxScaler()\n",
    "X_train_minmax = mm_scaler.fit_transform(X_train)\n",
    "X_test_minmax = mm_scaler.transform(X_test)"
   ]
  },
  {
   "cell_type": "code",
   "execution_count": 111,
   "metadata": {
    "colab": {
     "base_uri": "https://localhost:8080/",
     "height": 34
    },
    "colab_type": "code",
    "id": "3eFB146hlLzi",
    "outputId": "6ec798ab-6493-435b-b449-4b57b7ce713e"
   },
   "outputs": [
    {
     "name": "stdout",
     "output_type": "stream",
     "text": [
      "0.8138105567606653\n"
     ]
    }
   ],
   "source": [
    "clf = LogisticRegression(random_state=0).fit(X_train_minmax, y_train)\n",
    "y_pred = clf.predict(X_test_minmax)\n",
    "acc = accuracy_score(y_test, y_pred)\n",
    "print(acc)"
   ]
  },
  {
   "cell_type": "markdown",
   "metadata": {
    "colab_type": "text",
    "id": "xaUlNR9NlprC"
   },
   "source": [
    "## The accuracy_score has decreased this means `label_encoding` was better than frequency encoding for ord_3, ord_4, ord_5 columns, apply binary encoding"
   ]
  },
  {
   "cell_type": "markdown",
   "metadata": {
    "colab_type": "text",
    "id": "a-K7H5aImqFg"
   },
   "source": [
    "## Applying Binary_encoding to ord_3, ord_4, ord_5"
   ]
  },
  {
   "cell_type": "code",
   "execution_count": 0,
   "metadata": {
    "colab": {},
    "colab_type": "code",
    "id": "3ipuq7MjmiXb"
   },
   "outputs": [],
   "source": [
    "drop_cols = ['ord_3_label', 'ord_4_label', 'ord_5_label']\n",
    "cat_data.drop(columns=drop_cols, inplace=True, axis=1)"
   ]
  },
  {
   "cell_type": "code",
   "execution_count": 113,
   "metadata": {
    "colab": {
     "base_uri": "https://localhost:8080/",
     "height": 153
    },
    "colab_type": "code",
    "id": "ax3NohpQrMMR",
    "outputId": "6c584bb6-d33a-4aca-abfd-e8da96003882"
   },
   "outputs": [
    {
     "data": {
      "text/plain": [
       "Index(['label_bin_3', 'label_bin_4', 'nom_0__Green', 'nom_0__Red',\n",
       "       'nom_1__Polygon', 'nom_1__Square', 'nom_1__Star', 'nom_1__Trapezoid',\n",
       "       'nom_1__Triangle', 'nom_2__Cat', 'nom_2__Dog', 'nom_2__Hamster',\n",
       "       'nom_2__Lion', 'nom_2__Snake', 'nom_3__China', 'nom_3__Costa Rica',\n",
       "       'nom_3__Finland', 'nom_3__India', 'nom_3__Russia', 'nom_4__Oboe',\n",
       "       'nom_4__Piano', 'nom_4__Theremin', 'ord_1_label', 'ord_2_label',\n",
       "       'nom_5', 'nom_6', 'nom_7', 'nom_8', 'nom_9'],\n",
       "      dtype='object')"
      ]
     },
     "execution_count": 113,
     "metadata": {
      "tags": []
     },
     "output_type": "execute_result"
    }
   ],
   "source": [
    "cat_data.columns"
   ]
  },
  {
   "cell_type": "code",
   "execution_count": 114,
   "metadata": {
    "colab": {
     "base_uri": "https://localhost:8080/",
     "height": 136
    },
    "colab_type": "code",
    "id": "xsiELAkTnORW",
    "outputId": "3e33f31c-94f8-4a82-9ef0-6e11fa3ded93"
   },
   "outputs": [
    {
     "data": {
      "text/plain": [
       "Index(['id', 'bin_0', 'bin_1', 'bin_2', 'bin_3', 'bin_4', 'nom_0', 'nom_1',\n",
       "       'nom_2', 'nom_3', 'nom_4', 'nom_5', 'nom_6', 'nom_7', 'nom_8', 'nom_9',\n",
       "       'ord_0', 'ord_1', 'ord_2', 'ord_3_1', 'ord_3_2', 'ord_3_3', 'ord_3_4',\n",
       "       'ord_4_1', 'ord_4_2', 'ord_4_3', 'ord_4_4', 'ord_4_5', 'ord_5_1',\n",
       "       'ord_5_2', 'ord_5_3', 'ord_5_4', 'ord_5_5', 'ord_5_6', 'ord_5_7',\n",
       "       'ord_5_8', 'day', 'month', 'target'],\n",
       "      dtype='object')"
      ]
     },
     "execution_count": 114,
     "metadata": {
      "tags": []
     },
     "output_type": "execute_result"
    }
   ],
   "source": [
    "be = BinaryEncoder(cols=['ord_3', 'ord_4', 'ord_5'], drop_invariant=True)\n",
    "dummy_data = be.fit_transform(data)\n",
    "dummy_data.columns"
   ]
  },
  {
   "cell_type": "code",
   "execution_count": 0,
   "metadata": {
    "colab": {},
    "colab_type": "code",
    "id": "96mile9brXpX"
   },
   "outputs": [],
   "source": [
    "cat_data = pd.concat([cat_data, dummy_data[['ord_3_1', 'ord_3_2', 'ord_3_3', 'ord_3_4',\n",
    "       'ord_4_1', 'ord_4_2', 'ord_4_3', 'ord_4_4', 'ord_4_5', 'ord_5_1',\n",
    "       'ord_5_2', 'ord_5_3', 'ord_5_4', 'ord_5_5', 'ord_5_6', 'ord_5_7',\n",
    "       'ord_5_8',]]], axis=1)"
   ]
  },
  {
   "cell_type": "code",
   "execution_count": 116,
   "metadata": {
    "colab": {
     "base_uri": "https://localhost:8080/",
     "height": 204
    },
    "colab_type": "code",
    "id": "dvVwVj-bnOc1",
    "outputId": "1e1b3925-afec-45fd-a5e4-9181323573af"
   },
   "outputs": [
    {
     "data": {
      "text/plain": [
       "Index(['label_bin_3', 'label_bin_4', 'nom_0__Green', 'nom_0__Red',\n",
       "       'nom_1__Polygon', 'nom_1__Square', 'nom_1__Star', 'nom_1__Trapezoid',\n",
       "       'nom_1__Triangle', 'nom_2__Cat', 'nom_2__Dog', 'nom_2__Hamster',\n",
       "       'nom_2__Lion', 'nom_2__Snake', 'nom_3__China', 'nom_3__Costa Rica',\n",
       "       'nom_3__Finland', 'nom_3__India', 'nom_3__Russia', 'nom_4__Oboe',\n",
       "       'nom_4__Piano', 'nom_4__Theremin', 'ord_1_label', 'ord_2_label',\n",
       "       'nom_5', 'nom_6', 'nom_7', 'nom_8', 'nom_9', 'ord_3_1', 'ord_3_2',\n",
       "       'ord_3_3', 'ord_3_4', 'ord_4_1', 'ord_4_2', 'ord_4_3', 'ord_4_4',\n",
       "       'ord_4_5', 'ord_5_1', 'ord_5_2', 'ord_5_3', 'ord_5_4', 'ord_5_5',\n",
       "       'ord_5_6', 'ord_5_7', 'ord_5_8'],\n",
       "      dtype='object')"
      ]
     },
     "execution_count": 116,
     "metadata": {
      "tags": []
     },
     "output_type": "execute_result"
    }
   ],
   "source": [
    "cat_data.columns\n"
   ]
  },
  {
   "cell_type": "code",
   "execution_count": 117,
   "metadata": {
    "colab": {
     "base_uri": "https://localhost:8080/",
     "height": 34
    },
    "colab_type": "code",
    "id": "8D8Lg0lvpmOU",
    "outputId": "3d625cda-9a49-48fd-cec9-4976abce7313"
   },
   "outputs": [
    {
     "data": {
      "text/plain": [
       "(36877, 53)"
      ]
     },
     "execution_count": 117,
     "metadata": {
      "tags": []
     },
     "output_type": "execute_result"
    }
   ],
   "source": [
    "final_data = pd.concat([cat_data, data[['bin_0', 'bin_1', 'bin_2', 'ord_0', 'day', 'month', 'target']]], axis=1)\n",
    "final_data.shape"
   ]
  },
  {
   "cell_type": "code",
   "execution_count": 118,
   "metadata": {
    "colab": {
     "base_uri": "https://localhost:8080/",
     "height": 34
    },
    "colab_type": "code",
    "id": "AljiFNZEpmOZ",
    "outputId": "ecfebee9-7646-48fa-bc13-fb88be6bff23"
   },
   "outputs": [
    {
     "data": {
      "text/plain": [
       "((25813, 52), (11064, 52), (25813,), (11064,))"
      ]
     },
     "execution_count": 118,
     "metadata": {
      "tags": []
     },
     "output_type": "execute_result"
    }
   ],
   "source": [
    "X_train, X_test, y_train, y_test = train_test_split(final_data[final_data.columns.difference(['target'])], final_data['target'], test_size=0.3, random_state=1)\n",
    "X_train.shape, X_test.shape, y_train.shape, y_test.shape"
   ]
  },
  {
   "cell_type": "code",
   "execution_count": 119,
   "metadata": {
    "colab": {
     "base_uri": "https://localhost:8080/",
     "height": 34
    },
    "colab_type": "code",
    "id": "5fRR-e_dpmOc",
    "outputId": "42f712b3-4828-488d-f921-79b710444779"
   },
   "outputs": [
    {
     "name": "stdout",
     "output_type": "stream",
     "text": [
      "0.8151663051337672\n"
     ]
    }
   ],
   "source": [
    "clf = LogisticRegression(random_state=0).fit(X_train, y_train)\n",
    "y_pred = clf.predict(X_test)\n",
    "acc = accuracy_score(y_test, y_pred)\n",
    "print(acc)"
   ]
  },
  {
   "cell_type": "markdown",
   "metadata": {
    "colab_type": "text",
    "id": "RSyCa9WGpmOe"
   },
   "source": [
    "## Scaling the features "
   ]
  },
  {
   "cell_type": "code",
   "execution_count": 0,
   "metadata": {
    "colab": {},
    "colab_type": "code",
    "id": "f7kGid1SpmOe"
   },
   "outputs": [],
   "source": [
    "from sklearn import preprocessing\n",
    "mm_scaler = preprocessing.MinMaxScaler()\n",
    "X_train_minmax = mm_scaler.fit_transform(X_train)\n",
    "X_test_minmax = mm_scaler.transform(X_test)"
   ]
  },
  {
   "cell_type": "code",
   "execution_count": 121,
   "metadata": {
    "colab": {
     "base_uri": "https://localhost:8080/",
     "height": 34
    },
    "colab_type": "code",
    "id": "qNeCIiLXpmOg",
    "outputId": "047088ff-a928-4927-9d27-780fffbe0d56"
   },
   "outputs": [
    {
     "name": "stdout",
     "output_type": "stream",
     "text": [
      "0.8150759219088937\n"
     ]
    }
   ],
   "source": [
    "clf = LogisticRegression(random_state=0).fit(X_train_minmax, y_train)\n",
    "y_pred = clf.predict(X_test_minmax)\n",
    "acc = accuracy_score(y_test, y_pred)\n",
    "print(acc)"
   ]
  },
  {
   "cell_type": "markdown",
   "metadata": {
    "colab_type": "text",
    "id": "vBCO5OynryGz"
   },
   "source": [
    "## Even binary encoding isn't improving metrics for columns ord_3, ord_4, ord_5. This imples label_encoding is better for ord_3, ord_4, ord_5"
   ]
  },
  {
   "cell_type": "code",
   "execution_count": 0,
   "metadata": {
    "colab": {},
    "colab_type": "code",
    "id": "4JjuIBUjnObY"
   },
   "outputs": [],
   "source": [
    "# Applying label_encoding to ord_3, ord_4, ord_5\n",
    "cat_data['ord_3_label'] = label_encoder.fit_transform(data['ord_3'])\n",
    "cat_data['ord_4_label'] = label_encoder.fit_transform(data['ord_4'])\n",
    "cat_data['ord_5_label'] = label_encoder.fit_transform(data['ord_5'])"
   ]
  },
  {
   "cell_type": "code",
   "execution_count": 123,
   "metadata": {
    "colab": {
     "base_uri": "https://localhost:8080/",
     "height": 170
    },
    "colab_type": "code",
    "id": "ubKTstXqnOYw",
    "outputId": "c6735724-1203-48a8-c1d0-09c4b1610c0a"
   },
   "outputs": [
    {
     "data": {
      "text/plain": [
       "Index(['label_bin_3', 'label_bin_4', 'nom_0__Green', 'nom_0__Red',\n",
       "       'nom_1__Polygon', 'nom_1__Square', 'nom_1__Star', 'nom_1__Trapezoid',\n",
       "       'nom_1__Triangle', 'nom_2__Cat', 'nom_2__Dog', 'nom_2__Hamster',\n",
       "       'nom_2__Lion', 'nom_2__Snake', 'nom_3__China', 'nom_3__Costa Rica',\n",
       "       'nom_3__Finland', 'nom_3__India', 'nom_3__Russia', 'nom_4__Oboe',\n",
       "       'nom_4__Piano', 'nom_4__Theremin', 'ord_1_label', 'ord_2_label',\n",
       "       'nom_5', 'nom_6', 'nom_7', 'nom_8', 'nom_9', 'ord_3_label',\n",
       "       'ord_4_label', 'ord_5_label'],\n",
       "      dtype='object')"
      ]
     },
     "execution_count": 123,
     "metadata": {
      "tags": []
     },
     "output_type": "execute_result"
    }
   ],
   "source": [
    "drop_cols = ['ord_3_1', 'ord_3_2', 'ord_3_3', 'ord_3_4',\n",
    "       'ord_4_1', 'ord_4_2', 'ord_4_3', 'ord_4_4', 'ord_4_5', 'ord_5_1',\n",
    "       'ord_5_2', 'ord_5_3', 'ord_5_4', 'ord_5_5', 'ord_5_6', 'ord_5_7',\n",
    "       'ord_5_8',]\n",
    "cat_data.drop(columns=drop_cols, inplace=True, axis=1)\n",
    "cat_data.columns"
   ]
  },
  {
   "cell_type": "code",
   "execution_count": 124,
   "metadata": {
    "colab": {
     "base_uri": "https://localhost:8080/",
     "height": 258
    },
    "colab_type": "code",
    "id": "1L3JEBnmnOWx",
    "outputId": "6d9cc1c5-cb19-4226-f6eb-584b4df11274"
   },
   "outputs": [
    {
     "data": {
      "text/html": [
       "<div>\n",
       "<style scoped>\n",
       "    .dataframe tbody tr th:only-of-type {\n",
       "        vertical-align: middle;\n",
       "    }\n",
       "\n",
       "    .dataframe tbody tr th {\n",
       "        vertical-align: top;\n",
       "    }\n",
       "\n",
       "    .dataframe thead th {\n",
       "        text-align: right;\n",
       "    }\n",
       "</style>\n",
       "<table border=\"1\" class=\"dataframe\">\n",
       "  <thead>\n",
       "    <tr style=\"text-align: right;\">\n",
       "      <th></th>\n",
       "      <th>id</th>\n",
       "      <th>bin_0</th>\n",
       "      <th>bin_1</th>\n",
       "      <th>bin_2</th>\n",
       "      <th>bin_3</th>\n",
       "      <th>bin_4</th>\n",
       "      <th>nom_0</th>\n",
       "      <th>nom_1</th>\n",
       "      <th>nom_2</th>\n",
       "      <th>nom_3</th>\n",
       "      <th>nom_4</th>\n",
       "      <th>nom_5</th>\n",
       "      <th>nom_6</th>\n",
       "      <th>nom_7</th>\n",
       "      <th>nom_8</th>\n",
       "      <th>nom_9</th>\n",
       "      <th>ord_0</th>\n",
       "      <th>ord_1</th>\n",
       "      <th>ord_2</th>\n",
       "      <th>ord_3</th>\n",
       "      <th>ord_4</th>\n",
       "      <th>ord_5</th>\n",
       "      <th>day</th>\n",
       "      <th>month</th>\n",
       "      <th>target</th>\n",
       "    </tr>\n",
       "  </thead>\n",
       "  <tbody>\n",
       "    <tr>\n",
       "      <th>0</th>\n",
       "      <td>0</td>\n",
       "      <td>0.0</td>\n",
       "      <td>0.0</td>\n",
       "      <td>0.0</td>\n",
       "      <td>F</td>\n",
       "      <td>N</td>\n",
       "      <td>Red</td>\n",
       "      <td>Trapezoid</td>\n",
       "      <td>Hamster</td>\n",
       "      <td>Russia</td>\n",
       "      <td>Bassoon</td>\n",
       "      <td>de4c57ee2</td>\n",
       "      <td>a64bc7ddf</td>\n",
       "      <td>598080a91</td>\n",
       "      <td>0256c7a4b</td>\n",
       "      <td>02e7c8990</td>\n",
       "      <td>3.0</td>\n",
       "      <td>Contributor</td>\n",
       "      <td>Hot</td>\n",
       "      <td>c</td>\n",
       "      <td>U</td>\n",
       "      <td>Pw</td>\n",
       "      <td>6.0</td>\n",
       "      <td>3.0</td>\n",
       "      <td>0.0</td>\n",
       "    </tr>\n",
       "    <tr>\n",
       "      <th>6</th>\n",
       "      <td>6</td>\n",
       "      <td>0.0</td>\n",
       "      <td>0.0</td>\n",
       "      <td>0.0</td>\n",
       "      <td>F</td>\n",
       "      <td>N</td>\n",
       "      <td>Red</td>\n",
       "      <td>Triangle</td>\n",
       "      <td>Hamster</td>\n",
       "      <td>Costa Rica</td>\n",
       "      <td>Bassoon</td>\n",
       "      <td>87a5be0d7</td>\n",
       "      <td>cdc35bd00</td>\n",
       "      <td>1cba571fa</td>\n",
       "      <td>b8e63cace</td>\n",
       "      <td>4d3766412</td>\n",
       "      <td>1.0</td>\n",
       "      <td>Grandmaster</td>\n",
       "      <td>Cold</td>\n",
       "      <td>c</td>\n",
       "      <td>R</td>\n",
       "      <td>rg</td>\n",
       "      <td>5.0</td>\n",
       "      <td>6.0</td>\n",
       "      <td>0.0</td>\n",
       "    </tr>\n",
       "    <tr>\n",
       "      <th>7</th>\n",
       "      <td>7</td>\n",
       "      <td>0.0</td>\n",
       "      <td>0.0</td>\n",
       "      <td>1.0</td>\n",
       "      <td>T</td>\n",
       "      <td>N</td>\n",
       "      <td>Red</td>\n",
       "      <td>Triangle</td>\n",
       "      <td>Axolotl</td>\n",
       "      <td>Finland</td>\n",
       "      <td>Bassoon</td>\n",
       "      <td>104aee31d</td>\n",
       "      <td>2a50808ba</td>\n",
       "      <td>81d67e1bb</td>\n",
       "      <td>bd9643a20</td>\n",
       "      <td>a651dec43</td>\n",
       "      <td>3.0</td>\n",
       "      <td>Expert</td>\n",
       "      <td>Cold</td>\n",
       "      <td>b</td>\n",
       "      <td>Y</td>\n",
       "      <td>PS</td>\n",
       "      <td>1.0</td>\n",
       "      <td>1.0</td>\n",
       "      <td>0.0</td>\n",
       "    </tr>\n",
       "    <tr>\n",
       "      <th>10</th>\n",
       "      <td>10</td>\n",
       "      <td>0.0</td>\n",
       "      <td>0.0</td>\n",
       "      <td>1.0</td>\n",
       "      <td>T</td>\n",
       "      <td>Y</td>\n",
       "      <td>Blue</td>\n",
       "      <td>Triangle</td>\n",
       "      <td>Hamster</td>\n",
       "      <td>Finland</td>\n",
       "      <td>Bassoon</td>\n",
       "      <td>8bd03e713</td>\n",
       "      <td>0d8c9ee63</td>\n",
       "      <td>93360bbc9</td>\n",
       "      <td>28869f8aa</td>\n",
       "      <td>9bfe3ee22</td>\n",
       "      <td>1.0</td>\n",
       "      <td>Novice</td>\n",
       "      <td>Hot</td>\n",
       "      <td>b</td>\n",
       "      <td>O</td>\n",
       "      <td>hG</td>\n",
       "      <td>7.0</td>\n",
       "      <td>5.0</td>\n",
       "      <td>1.0</td>\n",
       "    </tr>\n",
       "    <tr>\n",
       "      <th>11</th>\n",
       "      <td>11</td>\n",
       "      <td>0.0</td>\n",
       "      <td>0.0</td>\n",
       "      <td>1.0</td>\n",
       "      <td>F</td>\n",
       "      <td>Y</td>\n",
       "      <td>Red</td>\n",
       "      <td>Square</td>\n",
       "      <td>Hamster</td>\n",
       "      <td>Costa Rica</td>\n",
       "      <td>Oboe</td>\n",
       "      <td>b574c9841</td>\n",
       "      <td>494b565c1</td>\n",
       "      <td>088aace2d</td>\n",
       "      <td>74a092964</td>\n",
       "      <td>6c73b62e4</td>\n",
       "      <td>1.0</td>\n",
       "      <td>Contributor</td>\n",
       "      <td>Hot</td>\n",
       "      <td>b</td>\n",
       "      <td>M</td>\n",
       "      <td>xF</td>\n",
       "      <td>2.0</td>\n",
       "      <td>8.0</td>\n",
       "      <td>0.0</td>\n",
       "    </tr>\n",
       "  </tbody>\n",
       "</table>\n",
       "</div>"
      ],
      "text/plain": [
       "    id  bin_0  bin_1  bin_2 bin_3 bin_4 nom_0      nom_1    nom_2       nom_3  \\\n",
       "0    0    0.0    0.0    0.0     F     N   Red  Trapezoid  Hamster      Russia   \n",
       "6    6    0.0    0.0    0.0     F     N   Red   Triangle  Hamster  Costa Rica   \n",
       "7    7    0.0    0.0    1.0     T     N   Red   Triangle  Axolotl     Finland   \n",
       "10  10    0.0    0.0    1.0     T     Y  Blue   Triangle  Hamster     Finland   \n",
       "11  11    0.0    0.0    1.0     F     Y   Red     Square  Hamster  Costa Rica   \n",
       "\n",
       "      nom_4      nom_5      nom_6      nom_7      nom_8      nom_9  ord_0  \\\n",
       "0   Bassoon  de4c57ee2  a64bc7ddf  598080a91  0256c7a4b  02e7c8990    3.0   \n",
       "6   Bassoon  87a5be0d7  cdc35bd00  1cba571fa  b8e63cace  4d3766412    1.0   \n",
       "7   Bassoon  104aee31d  2a50808ba  81d67e1bb  bd9643a20  a651dec43    3.0   \n",
       "10  Bassoon  8bd03e713  0d8c9ee63  93360bbc9  28869f8aa  9bfe3ee22    1.0   \n",
       "11     Oboe  b574c9841  494b565c1  088aace2d  74a092964  6c73b62e4    1.0   \n",
       "\n",
       "          ord_1 ord_2 ord_3 ord_4 ord_5  day  month  target  \n",
       "0   Contributor   Hot     c     U    Pw  6.0    3.0     0.0  \n",
       "6   Grandmaster  Cold     c     R    rg  5.0    6.0     0.0  \n",
       "7        Expert  Cold     b     Y    PS  1.0    1.0     0.0  \n",
       "10       Novice   Hot     b     O    hG  7.0    5.0     1.0  \n",
       "11  Contributor   Hot     b     M    xF  2.0    8.0     0.0  "
      ]
     },
     "execution_count": 124,
     "metadata": {
      "tags": []
     },
     "output_type": "execute_result"
    }
   ],
   "source": [
    "data.head()"
   ]
  },
  {
   "cell_type": "markdown",
   "metadata": {
    "colab_type": "text",
    "id": "dRjjug9bsxrC"
   },
   "source": [
    "## Applying binary encoding on day, month column"
   ]
  },
  {
   "cell_type": "code",
   "execution_count": 125,
   "metadata": {
    "colab": {
     "base_uri": "https://localhost:8080/",
     "height": 102
    },
    "colab_type": "code",
    "id": "Slf81vhdnOUU",
    "outputId": "3f900fe4-22c4-4143-aa80-9ff9356455c1"
   },
   "outputs": [
    {
     "data": {
      "text/plain": [
       "Index(['id', 'bin_0', 'bin_1', 'bin_2', 'bin_3', 'bin_4', 'nom_0', 'nom_1',\n",
       "       'nom_2', 'nom_3', 'nom_4', 'nom_5', 'nom_6', 'nom_7', 'nom_8', 'nom_9',\n",
       "       'ord_0', 'ord_1', 'ord_2', 'ord_3', 'ord_4', 'ord_5', 'day_1', 'day_2',\n",
       "       'day_3', 'month_1', 'month_2', 'month_3', 'month_4', 'target'],\n",
       "      dtype='object')"
      ]
     },
     "execution_count": 125,
     "metadata": {
      "tags": []
     },
     "output_type": "execute_result"
    }
   ],
   "source": [
    "be = BinaryEncoder(cols=['month', 'day'], drop_invariant=True)\n",
    "dummy_data = be.fit_transform(data)\n",
    "dummy_data.columns"
   ]
  },
  {
   "cell_type": "code",
   "execution_count": 0,
   "metadata": {
    "colab": {},
    "colab_type": "code",
    "id": "nOl0rQ0htNke"
   },
   "outputs": [],
   "source": [
    "cat_data = pd.concat([cat_data, dummy_data[['day_1', 'day_2',\n",
    "       'day_3', 'month_1', 'month_2', 'month_3', 'month_4',]]], axis=1)"
   ]
  },
  {
   "cell_type": "code",
   "execution_count": 127,
   "metadata": {
    "colab": {
     "base_uri": "https://localhost:8080/",
     "height": 187
    },
    "colab_type": "code",
    "id": "XQBIvkO-tNkv",
    "outputId": "6bca89d9-e2e5-4c5b-bae2-ec54e9bd04df"
   },
   "outputs": [
    {
     "data": {
      "text/plain": [
       "Index(['label_bin_3', 'label_bin_4', 'nom_0__Green', 'nom_0__Red',\n",
       "       'nom_1__Polygon', 'nom_1__Square', 'nom_1__Star', 'nom_1__Trapezoid',\n",
       "       'nom_1__Triangle', 'nom_2__Cat', 'nom_2__Dog', 'nom_2__Hamster',\n",
       "       'nom_2__Lion', 'nom_2__Snake', 'nom_3__China', 'nom_3__Costa Rica',\n",
       "       'nom_3__Finland', 'nom_3__India', 'nom_3__Russia', 'nom_4__Oboe',\n",
       "       'nom_4__Piano', 'nom_4__Theremin', 'ord_1_label', 'ord_2_label',\n",
       "       'nom_5', 'nom_6', 'nom_7', 'nom_8', 'nom_9', 'ord_3_label',\n",
       "       'ord_4_label', 'ord_5_label', 'day_1', 'day_2', 'day_3', 'month_1',\n",
       "       'month_2', 'month_3', 'month_4'],\n",
       "      dtype='object')"
      ]
     },
     "execution_count": 127,
     "metadata": {
      "tags": []
     },
     "output_type": "execute_result"
    }
   ],
   "source": [
    "cat_data.columns\n"
   ]
  },
  {
   "cell_type": "code",
   "execution_count": 128,
   "metadata": {
    "colab": {
     "base_uri": "https://localhost:8080/",
     "height": 34
    },
    "colab_type": "code",
    "id": "S_SavIXMtNk3",
    "outputId": "7c91fa30-d6a7-4e11-9c5e-9b97a7a06196"
   },
   "outputs": [
    {
     "data": {
      "text/plain": [
       "(36877, 44)"
      ]
     },
     "execution_count": 128,
     "metadata": {
      "tags": []
     },
     "output_type": "execute_result"
    }
   ],
   "source": [
    "final_data = pd.concat([cat_data, data[['bin_0', 'bin_1', 'bin_2', 'ord_0', 'target']]], axis=1)\n",
    "final_data.shape"
   ]
  },
  {
   "cell_type": "code",
   "execution_count": 129,
   "metadata": {
    "colab": {
     "base_uri": "https://localhost:8080/",
     "height": 34
    },
    "colab_type": "code",
    "id": "l2sywnZVtNk8",
    "outputId": "6b7a87fd-f2de-4311-d84f-07d1f4a64526"
   },
   "outputs": [
    {
     "data": {
      "text/plain": [
       "((25813, 43), (11064, 43), (25813,), (11064,))"
      ]
     },
     "execution_count": 129,
     "metadata": {
      "tags": []
     },
     "output_type": "execute_result"
    }
   ],
   "source": [
    "X_train, X_test, y_train, y_test = train_test_split(final_data[final_data.columns.difference(['target'])], final_data['target'], test_size=0.3, random_state=1)\n",
    "X_train.shape, X_test.shape, y_train.shape, y_test.shape"
   ]
  },
  {
   "cell_type": "code",
   "execution_count": 130,
   "metadata": {
    "colab": {
     "base_uri": "https://localhost:8080/",
     "height": 34
    },
    "colab_type": "code",
    "id": "E9_tIY0XtNk_",
    "outputId": "778cbb25-0e70-4ce2-dff3-972f02d01ca5"
   },
   "outputs": [
    {
     "name": "stdout",
     "output_type": "stream",
     "text": [
      "0.8139913232104121\n"
     ]
    }
   ],
   "source": [
    "clf = LogisticRegression(random_state=0).fit(X_train, y_train)\n",
    "y_pred = clf.predict(X_test)\n",
    "acc = accuracy_score(y_test, y_pred)\n",
    "print(acc)"
   ]
  },
  {
   "cell_type": "markdown",
   "metadata": {
    "colab_type": "text",
    "id": "vRpupEkJtNlD"
   },
   "source": [
    "## Scaling the features "
   ]
  },
  {
   "cell_type": "code",
   "execution_count": 0,
   "metadata": {
    "colab": {},
    "colab_type": "code",
    "id": "uuiU9hBOtNlE"
   },
   "outputs": [],
   "source": [
    "from sklearn import preprocessing\n",
    "mm_scaler = preprocessing.MinMaxScaler()\n",
    "X_train_minmax = mm_scaler.fit_transform(X_train)\n",
    "X_test_minmax = mm_scaler.transform(X_test)"
   ]
  },
  {
   "cell_type": "code",
   "execution_count": 132,
   "metadata": {
    "colab": {
     "base_uri": "https://localhost:8080/",
     "height": 34
    },
    "colab_type": "code",
    "id": "t5lximKUtNlH",
    "outputId": "92d79584-bd78-439c-92fc-640295020f97"
   },
   "outputs": [
    {
     "name": "stdout",
     "output_type": "stream",
     "text": [
      "0.8185104844540854\n"
     ]
    }
   ],
   "source": [
    "clf = LogisticRegression(random_state=0).fit(X_train_minmax, y_train)\n",
    "y_pred = clf.predict(X_test_minmax)\n",
    "acc = accuracy_score(y_test, y_pred)\n",
    "print(acc)"
   ]
  },
  {
   "cell_type": "markdown",
   "metadata": {
    "colab_type": "text",
    "id": "QPESvngqtnnu"
   },
   "source": [
    "## Applying Frequency encoding on day, month column"
   ]
  },
  {
   "cell_type": "code",
   "execution_count": 0,
   "metadata": {
    "colab": {},
    "colab_type": "code",
    "id": "h7YgXPh7nOO5"
   },
   "outputs": [],
   "source": [
    "drop_cols = ['day_1', 'day_2', 'day_3', 'month_1', 'month_2', 'month_3', 'month_4',]\n",
    "cat_data.drop(columns=drop_cols, inplace=True, axis=1)"
   ]
  },
  {
   "cell_type": "code",
   "execution_count": 134,
   "metadata": {
    "colab": {
     "base_uri": "https://localhost:8080/",
     "height": 170
    },
    "colab_type": "code",
    "id": "XFzwlAvMhVDQ",
    "outputId": "6d1d51e4-16fb-430c-c953-082ac758d639"
   },
   "outputs": [
    {
     "data": {
      "text/plain": [
       "Index(['label_bin_3', 'label_bin_4', 'nom_0__Green', 'nom_0__Red',\n",
       "       'nom_1__Polygon', 'nom_1__Square', 'nom_1__Star', 'nom_1__Trapezoid',\n",
       "       'nom_1__Triangle', 'nom_2__Cat', 'nom_2__Dog', 'nom_2__Hamster',\n",
       "       'nom_2__Lion', 'nom_2__Snake', 'nom_3__China', 'nom_3__Costa Rica',\n",
       "       'nom_3__Finland', 'nom_3__India', 'nom_3__Russia', 'nom_4__Oboe',\n",
       "       'nom_4__Piano', 'nom_4__Theremin', 'ord_1_label', 'ord_2_label',\n",
       "       'nom_5', 'nom_6', 'nom_7', 'nom_8', 'nom_9', 'ord_3_label',\n",
       "       'ord_4_label', 'ord_5_label'],\n",
       "      dtype='object')"
      ]
     },
     "execution_count": 134,
     "metadata": {
      "tags": []
     },
     "output_type": "execute_result"
    }
   ],
   "source": [
    "cat_data.columns"
   ]
  },
  {
   "cell_type": "code",
   "execution_count": 0,
   "metadata": {
    "colab": {},
    "colab_type": "code",
    "id": "RZHmyCGQmK8X"
   },
   "outputs": [],
   "source": [
    "frequency_encoding_day = data['day'].value_counts(normalize=True)\n",
    "frequency_encoding_month = data['month'].value_counts(normalize=True)"
   ]
  },
  {
   "cell_type": "code",
   "execution_count": 136,
   "metadata": {
    "colab": {
     "base_uri": "https://localhost:8080/",
     "height": 170
    },
    "colab_type": "code",
    "id": "rjBOoxs0uiG9",
    "outputId": "af7ebea1-5840-47fa-c6bc-8c43dfc26a8c"
   },
   "outputs": [
    {
     "data": {
      "text/plain": [
       "Index(['label_bin_3', 'label_bin_4', 'nom_0__Green', 'nom_0__Red',\n",
       "       'nom_1__Polygon', 'nom_1__Square', 'nom_1__Star', 'nom_1__Trapezoid',\n",
       "       'nom_1__Triangle', 'nom_2__Cat', 'nom_2__Dog', 'nom_2__Hamster',\n",
       "       'nom_2__Lion', 'nom_2__Snake', 'nom_3__China', 'nom_3__Costa Rica',\n",
       "       'nom_3__Finland', 'nom_3__India', 'nom_3__Russia', 'nom_4__Oboe',\n",
       "       'nom_4__Piano', 'nom_4__Theremin', 'ord_1_label', 'ord_2_label',\n",
       "       'nom_5', 'nom_6', 'nom_7', 'nom_8', 'nom_9', 'ord_3_label',\n",
       "       'ord_4_label', 'ord_5_label', 'day', 'month'],\n",
       "      dtype='object')"
      ]
     },
     "execution_count": 136,
     "metadata": {
      "tags": []
     },
     "output_type": "execute_result"
    }
   ],
   "source": [
    "cat_data['day'] = data['day'].map(frequency_encoding_day)\n",
    "cat_data['month'] = data['month'].map(frequency_encoding_month)\n",
    "cat_data.columns"
   ]
  },
  {
   "cell_type": "code",
   "execution_count": 137,
   "metadata": {
    "colab": {
     "base_uri": "https://localhost:8080/",
     "height": 34
    },
    "colab_type": "code",
    "id": "LXy5W7FRu0_X",
    "outputId": "a137174c-0f5a-42d9-db24-38d1122f10be"
   },
   "outputs": [
    {
     "data": {
      "text/plain": [
       "(36877, 39)"
      ]
     },
     "execution_count": 137,
     "metadata": {
      "tags": []
     },
     "output_type": "execute_result"
    }
   ],
   "source": [
    "final_data = pd.concat([cat_data, data[['bin_0', 'bin_1', 'bin_2', 'ord_0', 'target']]], axis=1)\n",
    "final_data.shape"
   ]
  },
  {
   "cell_type": "code",
   "execution_count": 138,
   "metadata": {
    "colab": {
     "base_uri": "https://localhost:8080/",
     "height": 187
    },
    "colab_type": "code",
    "id": "IDEBfgtUu4zu",
    "outputId": "5f1ba094-44fa-482e-d1de-5612e7483d7c"
   },
   "outputs": [
    {
     "data": {
      "text/plain": [
       "Index(['label_bin_3', 'label_bin_4', 'nom_0__Green', 'nom_0__Red',\n",
       "       'nom_1__Polygon', 'nom_1__Square', 'nom_1__Star', 'nom_1__Trapezoid',\n",
       "       'nom_1__Triangle', 'nom_2__Cat', 'nom_2__Dog', 'nom_2__Hamster',\n",
       "       'nom_2__Lion', 'nom_2__Snake', 'nom_3__China', 'nom_3__Costa Rica',\n",
       "       'nom_3__Finland', 'nom_3__India', 'nom_3__Russia', 'nom_4__Oboe',\n",
       "       'nom_4__Piano', 'nom_4__Theremin', 'ord_1_label', 'ord_2_label',\n",
       "       'nom_5', 'nom_6', 'nom_7', 'nom_8', 'nom_9', 'ord_3_label',\n",
       "       'ord_4_label', 'ord_5_label', 'day', 'month', 'bin_0', 'bin_1', 'bin_2',\n",
       "       'ord_0', 'target'],\n",
       "      dtype='object')"
      ]
     },
     "execution_count": 138,
     "metadata": {
      "tags": []
     },
     "output_type": "execute_result"
    }
   ],
   "source": [
    "final_data.columns"
   ]
  },
  {
   "cell_type": "code",
   "execution_count": 139,
   "metadata": {
    "colab": {
     "base_uri": "https://localhost:8080/",
     "height": 34
    },
    "colab_type": "code",
    "id": "o42HNEVqu0_j",
    "outputId": "d3732eca-8072-433a-9a65-b8a3f2c6c667"
   },
   "outputs": [
    {
     "data": {
      "text/plain": [
       "((25813, 38), (11064, 38), (25813,), (11064,))"
      ]
     },
     "execution_count": 139,
     "metadata": {
      "tags": []
     },
     "output_type": "execute_result"
    }
   ],
   "source": [
    "X_train, X_test, y_train, y_test = train_test_split(final_data[final_data.columns.difference(['target'])], final_data['target'], test_size=0.3, random_state=1)\n",
    "X_train.shape, X_test.shape, y_train.shape, y_test.shape"
   ]
  },
  {
   "cell_type": "code",
   "execution_count": 140,
   "metadata": {
    "colab": {
     "base_uri": "https://localhost:8080/",
     "height": 34
    },
    "colab_type": "code",
    "id": "3C-lJ_Vlu0_s",
    "outputId": "6a4b9571-b7c3-4b3f-c182-9659f3cbf43f"
   },
   "outputs": [
    {
     "name": "stdout",
     "output_type": "stream",
     "text": [
      "0.813177874186551\n"
     ]
    }
   ],
   "source": [
    "clf = LogisticRegression(random_state=0).fit(X_train, y_train)\n",
    "y_pred = clf.predict(X_test)\n",
    "acc = accuracy_score(y_test, y_pred)\n",
    "print(acc)"
   ]
  },
  {
   "cell_type": "markdown",
   "metadata": {
    "colab_type": "text",
    "id": "Y6pU7o70u0_0"
   },
   "source": [
    "## Scaling the features "
   ]
  },
  {
   "cell_type": "code",
   "execution_count": 0,
   "metadata": {
    "colab": {},
    "colab_type": "code",
    "id": "K1s71bNyu0_2"
   },
   "outputs": [],
   "source": [
    "from sklearn import preprocessing\n",
    "mm_scaler = preprocessing.MinMaxScaler()\n",
    "X_train_minmax = mm_scaler.fit_transform(X_train)\n",
    "X_test_minmax = mm_scaler.transform(X_test)"
   ]
  },
  {
   "cell_type": "code",
   "execution_count": 142,
   "metadata": {
    "colab": {
     "base_uri": "https://localhost:8080/",
     "height": 34
    },
    "colab_type": "code",
    "id": "RJriV6Pru0__",
    "outputId": "3f1a81ec-5cb6-4025-b87c-533d7f0ae9f4"
   },
   "outputs": [
    {
     "name": "stdout",
     "output_type": "stream",
     "text": [
      "0.8181489515545914\n"
     ]
    }
   ],
   "source": [
    "clf = LogisticRegression(random_state=0).fit(X_train_minmax, y_train)\n",
    "y_pred = clf.predict(X_test_minmax)\n",
    "acc = accuracy_score(y_test, y_pred)\n",
    "print(acc)"
   ]
  },
  {
   "cell_type": "markdown",
   "metadata": {
    "colab_type": "text",
    "id": "JCW3olJpD6Jx"
   },
   "source": [
    "# The best metrics got so far = 0.8189624005784526"
   ]
  },
  {
   "cell_type": "code",
   "execution_count": 0,
   "metadata": {
    "colab": {},
    "colab_type": "code",
    "id": "G0eN4F2u9RHr"
   },
   "outputs": [],
   "source": []
  }
 ],
 "metadata": {
  "colab": {
   "name": "Encoding_Techniques_Day_1.ipynb",
   "provenance": [],
   "toc_visible": true
  },
  "kernelspec": {
   "display_name": "Python 3",
   "language": "python",
   "name": "python3"
  },
  "language_info": {
   "codemirror_mode": {
    "name": "ipython",
    "version": 3
   },
   "file_extension": ".py",
   "mimetype": "text/x-python",
   "name": "python",
   "nbconvert_exporter": "python",
   "pygments_lexer": "ipython3",
   "version": "3.7.4"
  }
 },
 "nbformat": 4,
 "nbformat_minor": 0
}
